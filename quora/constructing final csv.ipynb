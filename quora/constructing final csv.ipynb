{
 "cells": [
  {
   "cell_type": "code",
   "execution_count": 1,
   "metadata": {
    "collapsed": false
   },
   "outputs": [
    {
     "name": "stderr",
     "output_type": "stream",
     "text": [
      "/home/uasa/anaconda2/lib/python2.7/site-packages/sklearn/cross_validation.py:44: DeprecationWarning: This module was deprecated in version 0.18 in favor of the model_selection module into which all the refactored classes and functions are moved. Also note that the interface of the new CV iterators are different from that of this module. This module will be removed in 0.20.\n",
      "  \"This module will be removed in 0.20.\", DeprecationWarning)\n"
     ]
    }
   ],
   "source": [
    "%matplotlib inline\n",
    "\n",
    "import matplotlib\n",
    "import pandas as pd\n",
    "import xgboost as xgb\n",
    "import numpy as np\n",
    "import scipy.sparse\n",
    "from sklearn.preprocessing import LabelEncoder\n",
    "import matplotlib.pyplot as plt\n",
    "from ast import literal_eval"
   ]
  },
  {
   "cell_type": "code",
   "execution_count": 2,
   "metadata": {
    "collapsed": true
   },
   "outputs": [],
   "source": [
    "data_dir = '/home/uasa/Desktop/data/'\n",
    "google_vec_filepath = data_dir + 'GoogleNews-vectors-negative300.bin'\n",
    "lexvec_filepath = data_dir + 'lexvec.enwiki+newscrawl.300d.W+C.pos.vectors'\n",
    "quora_train_filepath = data_dir + 'train.csv'\n",
    "quora_features_filepath = data_dir + 'generated_features.csv'"
   ]
  },
  {
   "cell_type": "code",
   "execution_count": 3,
   "metadata": {
    "collapsed": false
   },
   "outputs": [],
   "source": [
    "types = {'question1': literal_eval,\n",
    "        'question2': literal_eval,\n",
    "        'first_tfidf': literal_eval,\n",
    "        'second_tfidf': literal_eval,\n",
    "        'word2vec': literal_eval}\n",
    "cols = ['question1','question2','first_tfidf','second_tfidf','word2vec']"
   ]
  },
  {
   "cell_type": "code",
   "execution_count": 4,
   "metadata": {
    "collapsed": false
   },
   "outputs": [],
   "source": [
    "data = pd.read_csv(quora_features_filepath).dropna()\n",
    "data = data[:404000]"
   ]
  },
  {
   "cell_type": "code",
   "execution_count": 5,
   "metadata": {
    "collapsed": false
   },
   "outputs": [
    {
     "data": {
      "text/html": [
       "<div>\n",
       "<table border=\"1\" class=\"dataframe\">\n",
       "  <thead>\n",
       "    <tr style=\"text-align: right;\">\n",
       "      <th></th>\n",
       "      <th>Unnamed: 0</th>\n",
       "      <th>id</th>\n",
       "      <th>qid1</th>\n",
       "      <th>qid2</th>\n",
       "      <th>question1</th>\n",
       "      <th>question2</th>\n",
       "      <th>is_duplicate</th>\n",
       "      <th>first_tfidf</th>\n",
       "      <th>second_tfidf</th>\n",
       "      <th>word2vec</th>\n",
       "    </tr>\n",
       "  </thead>\n",
       "  <tbody>\n",
       "    <tr>\n",
       "      <th>0</th>\n",
       "      <td>0</td>\n",
       "      <td>0</td>\n",
       "      <td>1</td>\n",
       "      <td>2</td>\n",
       "      <td>['what', 'is', 'the', 'step', 'by', 'step', 'g...</td>\n",
       "      <td>['what', 'is', 'the', 'step', 'by', 'step', 'g...</td>\n",
       "      <td>0</td>\n",
       "      <td>[0.011015513827648302]</td>\n",
       "      <td>[]</td>\n",
       "      <td>[]</td>\n",
       "    </tr>\n",
       "    <tr>\n",
       "      <th>1</th>\n",
       "      <td>1</td>\n",
       "      <td>1</td>\n",
       "      <td>3</td>\n",
       "      <td>4</td>\n",
       "      <td>['what', 'is', 'the', 'story', 'of', 'kohinoor...</td>\n",
       "      <td>['what', 'would', 'happen', 'if', 'the', 'indi...</td>\n",
       "      <td>0</td>\n",
       "      <td>[0.0015611079155654546, 0, 0]</td>\n",
       "      <td>[0, 0.0020456996460423661, 0, 0.00530077916237...</td>\n",
       "      <td>[0.12108668801077602, -0.0026093271023792399, ...</td>\n",
       "    </tr>\n",
       "    <tr>\n",
       "      <th>2</th>\n",
       "      <td>2</td>\n",
       "      <td>2</td>\n",
       "      <td>5</td>\n",
       "      <td>6</td>\n",
       "      <td>['how', 'can', 'i', 'increase', 'the', 'speed'...</td>\n",
       "      <td>['how', 'can', 'internet', 'speed', 'be', 'inc...</td>\n",
       "      <td>0</td>\n",
       "      <td>[0, 0, 0, 0.00094116567542333314, 0.0027663976...</td>\n",
       "      <td>[0, 0.0027663976319769424, 0, 2.95835727559128...</td>\n",
       "      <td>[0.54921196737500488, 0.18742697288149188, 0.3...</td>\n",
       "    </tr>\n",
       "    <tr>\n",
       "      <th>3</th>\n",
       "      <td>3</td>\n",
       "      <td>3</td>\n",
       "      <td>7</td>\n",
       "      <td>8</td>\n",
       "      <td>['why', 'am', 'i', 'mentally', 'very', 'lonely...</td>\n",
       "      <td>['find', 'the', 'remainder', 'when', 'math2324...</td>\n",
       "      <td>0</td>\n",
       "      <td>[0.00025379717272249169, 0, 0, 0, 0, 0.0011458...</td>\n",
       "      <td>[0, 0, 0, 0, 0, 0, 0.00010966302079046566, 0, ...</td>\n",
       "      <td>[0.1766012788280199, 0, 0.18414095180310547, 0...</td>\n",
       "    </tr>\n",
       "    <tr>\n",
       "      <th>4</th>\n",
       "      <td>4</td>\n",
       "      <td>4</td>\n",
       "      <td>9</td>\n",
       "      <td>10</td>\n",
       "      <td>['which', 'one', 'dissolve', 'in', 'water', 'q...</td>\n",
       "      <td>['which', 'fish', 'would', 'survive', 'in', 's...</td>\n",
       "      <td>0</td>\n",
       "      <td>[0, 2.4650131616824657e-05, 0, 0.0001634787768...</td>\n",
       "      <td>[0, 0.00057215682507888921, 0.0003454791477683...</td>\n",
       "      <td>[0.44114308460482676, 0.24632687319343469, 0.2...</td>\n",
       "    </tr>\n",
       "  </tbody>\n",
       "</table>\n",
       "</div>"
      ],
      "text/plain": [
       "   Unnamed: 0  id  qid1  qid2  \\\n",
       "0           0   0     1     2   \n",
       "1           1   1     3     4   \n",
       "2           2   2     5     6   \n",
       "3           3   3     7     8   \n",
       "4           4   4     9    10   \n",
       "\n",
       "                                           question1  \\\n",
       "0  ['what', 'is', 'the', 'step', 'by', 'step', 'g...   \n",
       "1  ['what', 'is', 'the', 'story', 'of', 'kohinoor...   \n",
       "2  ['how', 'can', 'i', 'increase', 'the', 'speed'...   \n",
       "3  ['why', 'am', 'i', 'mentally', 'very', 'lonely...   \n",
       "4  ['which', 'one', 'dissolve', 'in', 'water', 'q...   \n",
       "\n",
       "                                           question2  is_duplicate  \\\n",
       "0  ['what', 'is', 'the', 'step', 'by', 'step', 'g...             0   \n",
       "1  ['what', 'would', 'happen', 'if', 'the', 'indi...             0   \n",
       "2  ['how', 'can', 'internet', 'speed', 'be', 'inc...             0   \n",
       "3  ['find', 'the', 'remainder', 'when', 'math2324...             0   \n",
       "4  ['which', 'fish', 'would', 'survive', 'in', 's...             0   \n",
       "\n",
       "                                         first_tfidf  \\\n",
       "0                             [0.011015513827648302]   \n",
       "1                      [0.0015611079155654546, 0, 0]   \n",
       "2  [0, 0, 0, 0.00094116567542333314, 0.0027663976...   \n",
       "3  [0.00025379717272249169, 0, 0, 0, 0, 0.0011458...   \n",
       "4  [0, 2.4650131616824657e-05, 0, 0.0001634787768...   \n",
       "\n",
       "                                        second_tfidf  \\\n",
       "0                                                 []   \n",
       "1  [0, 0.0020456996460423661, 0, 0.00530077916237...   \n",
       "2  [0, 0.0027663976319769424, 0, 2.95835727559128...   \n",
       "3  [0, 0, 0, 0, 0, 0, 0.00010966302079046566, 0, ...   \n",
       "4  [0, 0.00057215682507888921, 0.0003454791477683...   \n",
       "\n",
       "                                            word2vec  \n",
       "0                                                 []  \n",
       "1  [0.12108668801077602, -0.0026093271023792399, ...  \n",
       "2  [0.54921196737500488, 0.18742697288149188, 0.3...  \n",
       "3  [0.1766012788280199, 0, 0.18414095180310547, 0...  \n",
       "4  [0.44114308460482676, 0.24632687319343469, 0.2...  "
      ]
     },
     "execution_count": 5,
     "metadata": {},
     "output_type": "execute_result"
    }
   ],
   "source": [
    "data.head()"
   ]
  },
  {
   "cell_type": "code",
   "execution_count": 6,
   "metadata": {
    "collapsed": false
   },
   "outputs": [
    {
     "data": {
      "text/plain": [
       "404000"
      ]
     },
     "execution_count": 6,
     "metadata": {},
     "output_type": "execute_result"
    }
   ],
   "source": [
    "len(data)"
   ]
  },
  {
   "cell_type": "code",
   "execution_count": 7,
   "metadata": {
    "collapsed": false
   },
   "outputs": [],
   "source": [
    "def num_string_to_list(x):\n",
    "    if len(x) <=2:\n",
    "        return 0\n",
    "    return map(float, x[1:-1].split(', '))\n",
    "\n",
    "def string_to_list(x):\n",
    "    return x[1:-1].split(', ')"
   ]
  },
  {
   "cell_type": "code",
   "execution_count": 8,
   "metadata": {
    "collapsed": false
   },
   "outputs": [],
   "source": [
    "data['first_tfidf'] = data['first_tfidf'].apply(lambda x: num_string_to_list(x))\n",
    "data['second_tfidf'] = data['second_tfidf'].apply(lambda x: num_string_to_list(x))\n",
    "data['word2vec'] = data['word2vec'].apply(lambda x: num_string_to_list(x))"
   ]
  },
  {
   "cell_type": "code",
   "execution_count": 9,
   "metadata": {
    "collapsed": true
   },
   "outputs": [],
   "source": [
    "data['question1'] = data['question1'].apply(lambda x: string_to_list(x))\n",
    "data['question2'] = data['question2'].apply(lambda x: string_to_list(x))"
   ]
  },
  {
   "cell_type": "code",
   "execution_count": 10,
   "metadata": {
    "collapsed": false
   },
   "outputs": [
    {
     "data": {
      "text/html": [
       "<div>\n",
       "<table border=\"1\" class=\"dataframe\">\n",
       "  <thead>\n",
       "    <tr style=\"text-align: right;\">\n",
       "      <th></th>\n",
       "      <th>question1</th>\n",
       "      <th>question2</th>\n",
       "      <th>is_duplicate</th>\n",
       "      <th>first_tfidf</th>\n",
       "      <th>second_tfidf</th>\n",
       "      <th>word2vec</th>\n",
       "    </tr>\n",
       "  </thead>\n",
       "  <tbody>\n",
       "    <tr>\n",
       "      <th>0</th>\n",
       "      <td>['what', 'is', 'the', 'step', 'by', 'step', 'g...</td>\n",
       "      <td>['what', 'is', 'the', 'step', 'by', 'step', 'g...</td>\n",
       "      <td>0</td>\n",
       "      <td>[0.0110155138276]</td>\n",
       "      <td>0</td>\n",
       "      <td>0</td>\n",
       "    </tr>\n",
       "    <tr>\n",
       "      <th>1</th>\n",
       "      <td>['what', 'is', 'the', 'story', 'of', 'kohinoor...</td>\n",
       "      <td>['what', 'would', 'happen', 'if', 'the', 'indi...</td>\n",
       "      <td>0</td>\n",
       "      <td>[0.00156110791557, 0.0, 0.0]</td>\n",
       "      <td>[0.0, 0.00204569964604, 0.0, 0.00530077916237,...</td>\n",
       "      <td>[0.121086688011, -0.00260932710238, 0.19284702...</td>\n",
       "    </tr>\n",
       "    <tr>\n",
       "      <th>2</th>\n",
       "      <td>['how', 'can', 'i', 'increase', 'the', 'speed'...</td>\n",
       "      <td>['how', 'can', 'internet', 'speed', 'be', 'inc...</td>\n",
       "      <td>0</td>\n",
       "      <td>[0.0, 0.0, 0.0, 0.000941165675423, 0.002766397...</td>\n",
       "      <td>[0.0, 0.00276639763198, 0.0, 2.95835727559e-05...</td>\n",
       "      <td>[0.549211967375, 0.187426972881, 0.36903241766...</td>\n",
       "    </tr>\n",
       "    <tr>\n",
       "      <th>3</th>\n",
       "      <td>['why', 'am', 'i', 'mentally', 'very', 'lonely...</td>\n",
       "      <td>['find', 'the', 'remainder', 'when', 'math2324...</td>\n",
       "      <td>0</td>\n",
       "      <td>[0.000253797172722, 0.0, 0.0, 0.0, 0.0, 0.0011...</td>\n",
       "      <td>[0.0, 0.0, 0.0, 0.0, 0.0, 0.0, 0.0001096630207...</td>\n",
       "      <td>[0.176601278828, 0.0, 0.184140951803, 0.281655...</td>\n",
       "    </tr>\n",
       "    <tr>\n",
       "      <th>4</th>\n",
       "      <td>['which', 'one', 'dissolve', 'in', 'water', 'q...</td>\n",
       "      <td>['which', 'fish', 'would', 'survive', 'in', 's...</td>\n",
       "      <td>0</td>\n",
       "      <td>[0.0, 2.46501316168e-05, 0.0, 0.00016347877681...</td>\n",
       "      <td>[0.0, 0.000572156825079, 0.000345479147768]</td>\n",
       "      <td>[0.441143084605, 0.246326873193, 0.22918478869...</td>\n",
       "    </tr>\n",
       "  </tbody>\n",
       "</table>\n",
       "</div>"
      ],
      "text/plain": [
       "                                           question1  \\\n",
       "0  ['what', 'is', 'the', 'step', 'by', 'step', 'g...   \n",
       "1  ['what', 'is', 'the', 'story', 'of', 'kohinoor...   \n",
       "2  ['how', 'can', 'i', 'increase', 'the', 'speed'...   \n",
       "3  ['why', 'am', 'i', 'mentally', 'very', 'lonely...   \n",
       "4  ['which', 'one', 'dissolve', 'in', 'water', 'q...   \n",
       "\n",
       "                                           question2  is_duplicate  \\\n",
       "0  ['what', 'is', 'the', 'step', 'by', 'step', 'g...             0   \n",
       "1  ['what', 'would', 'happen', 'if', 'the', 'indi...             0   \n",
       "2  ['how', 'can', 'internet', 'speed', 'be', 'inc...             0   \n",
       "3  ['find', 'the', 'remainder', 'when', 'math2324...             0   \n",
       "4  ['which', 'fish', 'would', 'survive', 'in', 's...             0   \n",
       "\n",
       "                                         first_tfidf  \\\n",
       "0                                  [0.0110155138276]   \n",
       "1                       [0.00156110791557, 0.0, 0.0]   \n",
       "2  [0.0, 0.0, 0.0, 0.000941165675423, 0.002766397...   \n",
       "3  [0.000253797172722, 0.0, 0.0, 0.0, 0.0, 0.0011...   \n",
       "4  [0.0, 2.46501316168e-05, 0.0, 0.00016347877681...   \n",
       "\n",
       "                                        second_tfidf  \\\n",
       "0                                                  0   \n",
       "1  [0.0, 0.00204569964604, 0.0, 0.00530077916237,...   \n",
       "2  [0.0, 0.00276639763198, 0.0, 2.95835727559e-05...   \n",
       "3  [0.0, 0.0, 0.0, 0.0, 0.0, 0.0, 0.0001096630207...   \n",
       "4        [0.0, 0.000572156825079, 0.000345479147768]   \n",
       "\n",
       "                                            word2vec  \n",
       "0                                                  0  \n",
       "1  [0.121086688011, -0.00260932710238, 0.19284702...  \n",
       "2  [0.549211967375, 0.187426972881, 0.36903241766...  \n",
       "3  [0.176601278828, 0.0, 0.184140951803, 0.281655...  \n",
       "4  [0.441143084605, 0.246326873193, 0.22918478869...  "
      ]
     },
     "execution_count": 10,
     "metadata": {},
     "output_type": "execute_result"
    }
   ],
   "source": [
    "data.drop(data.columns[[0,1,2,3]], axis=1, inplace=True)\n",
    "data.head()"
   ]
  },
  {
   "cell_type": "code",
   "execution_count": 11,
   "metadata": {
    "collapsed": true
   },
   "outputs": [],
   "source": [
    "new_features = pd.DataFrame()"
   ]
  },
  {
   "cell_type": "code",
   "execution_count": 12,
   "metadata": {
    "collapsed": true
   },
   "outputs": [],
   "source": [
    "def length(x):\n",
    "    if type(x) == int:\n",
    "        return 0\n",
    "    return len(x)\n",
    "\n",
    "def summ(x):\n",
    "    if type(x) == int:\n",
    "        return 0\n",
    "    return sum(x)*100\n",
    "\n",
    "def maxx(x):\n",
    "    if type(x) == int:\n",
    "        return 0\n",
    "    return max(x)*100\n",
    "\n",
    "def w2v_sqr_score(x):\n",
    "    if type(x) == int:\n",
    "        return 0\n",
    "    score = 0\n",
    "    for item in x:\n",
    "        score += item*item\n",
    "    return score\n",
    "\n",
    "def w2v_score(x):\n",
    "    if type(x) == int:\n",
    "        return 0\n",
    "    score = 0\n",
    "    for item in x:\n",
    "        score += item\n",
    "    return score"
   ]
  },
  {
   "cell_type": "code",
   "execution_count": 13,
   "metadata": {
    "collapsed": true
   },
   "outputs": [],
   "source": [
    "new_features['len_q1'] = data['question1'].apply(lambda x: len(x))\n",
    "new_features['len_q2'] = data['question2'].apply(lambda x: len(x))"
   ]
  },
  {
   "cell_type": "code",
   "execution_count": 14,
   "metadata": {
    "collapsed": false
   },
   "outputs": [],
   "source": [
    "new_features['len_tf1'] = data['first_tfidf'].apply(lambda x: length(x))\n",
    "new_features['len_tf2'] = data['second_tfidf'].apply(lambda x: length(x))"
   ]
  },
  {
   "cell_type": "code",
   "execution_count": 15,
   "metadata": {
    "collapsed": false
   },
   "outputs": [],
   "source": [
    "new_features['sum_tf1'] = data['first_tfidf'].apply(lambda x: summ(x))\n",
    "new_features['sum_tf2'] = data['second_tfidf'].apply(lambda x: summ(x))"
   ]
  },
  {
   "cell_type": "code",
   "execution_count": 16,
   "metadata": {
    "collapsed": false
   },
   "outputs": [],
   "source": [
    "new_features['max_tf1'] = data['first_tfidf'].apply(lambda x: maxx(x))\n",
    "new_features['max_tf2'] = data['second_tfidf'].apply(lambda x: maxx(x))"
   ]
  },
  {
   "cell_type": "code",
   "execution_count": 17,
   "metadata": {
    "collapsed": true
   },
   "outputs": [],
   "source": [
    "new_features['w2v_score'] = data['word2vec'].apply(lambda x: w2v_score(x))\n",
    "new_features['w2v_sqr_score'] = data['word2vec'].apply(lambda x: w2v_sqr_score(x))"
   ]
  },
  {
   "cell_type": "code",
   "execution_count": 18,
   "metadata": {
    "collapsed": false
   },
   "outputs": [
    {
     "data": {
      "text/html": [
       "<div>\n",
       "<table border=\"1\" class=\"dataframe\">\n",
       "  <thead>\n",
       "    <tr style=\"text-align: right;\">\n",
       "      <th></th>\n",
       "      <th>weight</th>\n",
       "    </tr>\n",
       "    <tr>\n",
       "      <th>term</th>\n",
       "      <th></th>\n",
       "    </tr>\n",
       "  </thead>\n",
       "  <tbody>\n",
       "    <tr>\n",
       "      <th>00</th>\n",
       "      <td>0.000048</td>\n",
       "    </tr>\n",
       "    <tr>\n",
       "      <th>000</th>\n",
       "      <td>0.000010</td>\n",
       "    </tr>\n",
       "    <tr>\n",
       "      <th>0000</th>\n",
       "      <td>0.000006</td>\n",
       "    </tr>\n",
       "    <tr>\n",
       "      <th>0000000000</th>\n",
       "      <td>0.000002</td>\n",
       "    </tr>\n",
       "    <tr>\n",
       "      <th>0002</th>\n",
       "      <td>0.000002</td>\n",
       "    </tr>\n",
       "  </tbody>\n",
       "</table>\n",
       "</div>"
      ],
      "text/plain": [
       "              weight\n",
       "term                \n",
       "00          0.000048\n",
       "000         0.000010\n",
       "0000        0.000006\n",
       "0000000000  0.000002\n",
       "0002        0.000002"
      ]
     },
     "execution_count": 18,
     "metadata": {},
     "output_type": "execute_result"
    }
   ],
   "source": [
    "tfidf = pd.read_csv(data_dir+'tfidf.csv', index_col='term', usecols = [1, 2])\n",
    "tfidf.head()"
   ]
  },
  {
   "cell_type": "code",
   "execution_count": 19,
   "metadata": {
    "collapsed": false
   },
   "outputs": [],
   "source": [
    "from nltk.stem.snowball import SnowballStemmer\n",
    "stemmer = SnowballStemmer(\"english\")\n",
    "\n",
    "def get_score(x):\n",
    "    if x in tfidf.index:\n",
    "        return tfidf.loc[x,'weight']\n",
    "    return 0\n",
    "\n",
    "def tfidf_sum(df):\n",
    "    l1 = []\n",
    "    l2 = []\n",
    "    for row in df.itertuples():\n",
    "        s1 = 0\n",
    "        s2 = 0\n",
    "        for item in row[1]:\n",
    "            s1 += get_score(stemmer.stem(item.decode('utf-8')))\n",
    "        for item in row[2]:\n",
    "            s2 += get_score(stemmer.stem(item.decode('utf-8')))\n",
    "        l1.append(s1)\n",
    "        l2.append(s2)\n",
    "    new_frame = pd.DataFrame(\n",
    "    {'first_tfidf_count': l1,\n",
    "     'second_tfidf_count': l2,\n",
    "    })\n",
    "    return new_frame"
   ]
  },
  {
   "cell_type": "code",
   "execution_count": 20,
   "metadata": {
    "collapsed": false
   },
   "outputs": [
    {
     "name": "stderr",
     "output_type": "stream",
     "text": [
      "/home/uasa/anaconda2/lib/python2.7/site-packages/pandas/indexes/base.py:1229: UnicodeWarning: Unicode equal comparison failed to convert both arguments to Unicode - interpreting them as being unequal\n",
      "  return key in self._engine\n",
      "/home/uasa/anaconda2/lib/python2.7/site-packages/pandas/indexes/base.py:1876: UnicodeWarning: Unicode equal comparison failed to convert both arguments to Unicode - interpreting them as being unequal\n",
      "  return self._engine.get_loc(key)\n"
     ]
    }
   ],
   "source": [
    "new_features = new_features.join(tfidf_sum(data))"
   ]
  },
  {
   "cell_type": "code",
   "execution_count": 21,
   "metadata": {
    "collapsed": false
   },
   "outputs": [
    {
     "data": {
      "text/html": [
       "<div>\n",
       "<table border=\"1\" class=\"dataframe\">\n",
       "  <thead>\n",
       "    <tr style=\"text-align: right;\">\n",
       "      <th></th>\n",
       "      <th>len_q1</th>\n",
       "      <th>len_q2</th>\n",
       "      <th>len_tf1</th>\n",
       "      <th>len_tf2</th>\n",
       "      <th>sum_tf1</th>\n",
       "      <th>sum_tf2</th>\n",
       "      <th>max_tf1</th>\n",
       "      <th>max_tf2</th>\n",
       "      <th>w2v_score</th>\n",
       "      <th>w2v_sqr_score</th>\n",
       "      <th>first_tfidf_count</th>\n",
       "      <th>second_tfidf_count</th>\n",
       "    </tr>\n",
       "  </thead>\n",
       "  <tbody>\n",
       "    <tr>\n",
       "      <th>0</th>\n",
       "      <td>14</td>\n",
       "      <td>12</td>\n",
       "      <td>1</td>\n",
       "      <td>0</td>\n",
       "      <td>1.101551</td>\n",
       "      <td>0.000000</td>\n",
       "      <td>1.101551</td>\n",
       "      <td>0.000000</td>\n",
       "      <td>0.000000</td>\n",
       "      <td>0.000000</td>\n",
       "      <td>0.019313</td>\n",
       "      <td>0.008297</td>\n",
       "    </tr>\n",
       "    <tr>\n",
       "      <th>1</th>\n",
       "      <td>8</td>\n",
       "      <td>13</td>\n",
       "      <td>3</td>\n",
       "      <td>7</td>\n",
       "      <td>0.156111</td>\n",
       "      <td>1.206826</td>\n",
       "      <td>0.156111</td>\n",
       "      <td>0.530078</td>\n",
       "      <td>4.572842</td>\n",
       "      <td>1.379041</td>\n",
       "      <td>0.001758</td>\n",
       "      <td>0.012265</td>\n",
       "    </tr>\n",
       "    <tr>\n",
       "      <th>2</th>\n",
       "      <td>14</td>\n",
       "      <td>10</td>\n",
       "      <td>10</td>\n",
       "      <td>6</td>\n",
       "      <td>1.334607</td>\n",
       "      <td>0.542084</td>\n",
       "      <td>0.941770</td>\n",
       "      <td>0.276640</td>\n",
       "      <td>14.256037</td>\n",
       "      <td>5.456765</td>\n",
       "      <td>0.016111</td>\n",
       "      <td>0.008186</td>\n",
       "    </tr>\n",
       "    <tr>\n",
       "      <th>3</th>\n",
       "      <td>11</td>\n",
       "      <td>9</td>\n",
       "      <td>10</td>\n",
       "      <td>9</td>\n",
       "      <td>0.341648</td>\n",
       "      <td>0.040415</td>\n",
       "      <td>0.145480</td>\n",
       "      <td>0.029449</td>\n",
       "      <td>17.697194</td>\n",
       "      <td>7.083129</td>\n",
       "      <td>0.003416</td>\n",
       "      <td>0.000404</td>\n",
       "    </tr>\n",
       "    <tr>\n",
       "      <th>4</th>\n",
       "      <td>13</td>\n",
       "      <td>7</td>\n",
       "      <td>9</td>\n",
       "      <td>3</td>\n",
       "      <td>0.093417</td>\n",
       "      <td>0.091764</td>\n",
       "      <td>0.033918</td>\n",
       "      <td>0.057216</td>\n",
       "      <td>2.966856</td>\n",
       "      <td>0.621951</td>\n",
       "      <td>0.003176</td>\n",
       "      <td>0.003159</td>\n",
       "    </tr>\n",
       "  </tbody>\n",
       "</table>\n",
       "</div>"
      ],
      "text/plain": [
       "   len_q1  len_q2  len_tf1  len_tf2   sum_tf1   sum_tf2   max_tf1   max_tf2  \\\n",
       "0      14      12        1        0  1.101551  0.000000  1.101551  0.000000   \n",
       "1       8      13        3        7  0.156111  1.206826  0.156111  0.530078   \n",
       "2      14      10       10        6  1.334607  0.542084  0.941770  0.276640   \n",
       "3      11       9       10        9  0.341648  0.040415  0.145480  0.029449   \n",
       "4      13       7        9        3  0.093417  0.091764  0.033918  0.057216   \n",
       "\n",
       "   w2v_score  w2v_sqr_score  first_tfidf_count  second_tfidf_count  \n",
       "0   0.000000       0.000000           0.019313            0.008297  \n",
       "1   4.572842       1.379041           0.001758            0.012265  \n",
       "2  14.256037       5.456765           0.016111            0.008186  \n",
       "3  17.697194       7.083129           0.003416            0.000404  \n",
       "4   2.966856       0.621951           0.003176            0.003159  "
      ]
     },
     "execution_count": 21,
     "metadata": {},
     "output_type": "execute_result"
    }
   ],
   "source": [
    "new_features.head()"
   ]
  },
  {
   "cell_type": "code",
   "execution_count": 22,
   "metadata": {
    "collapsed": false
   },
   "outputs": [
    {
     "data": {
      "text/html": [
       "<div>\n",
       "<table border=\"1\" class=\"dataframe\">\n",
       "  <thead>\n",
       "    <tr style=\"text-align: right;\">\n",
       "      <th></th>\n",
       "      <th>len_q1</th>\n",
       "      <th>len_q2</th>\n",
       "      <th>len_tf1</th>\n",
       "      <th>len_tf2</th>\n",
       "      <th>sum_tf1</th>\n",
       "      <th>sum_tf2</th>\n",
       "      <th>max_tf1</th>\n",
       "      <th>max_tf2</th>\n",
       "      <th>w2v_score</th>\n",
       "      <th>w2v_sqr_score</th>\n",
       "      <th>first_tfidf_count</th>\n",
       "      <th>second_tfidf_count</th>\n",
       "      <th>tfidf_sum</th>\n",
       "    </tr>\n",
       "  </thead>\n",
       "  <tbody>\n",
       "    <tr>\n",
       "      <th>0</th>\n",
       "      <td>14</td>\n",
       "      <td>12</td>\n",
       "      <td>1</td>\n",
       "      <td>0</td>\n",
       "      <td>1.101551</td>\n",
       "      <td>0.000000</td>\n",
       "      <td>1.101551</td>\n",
       "      <td>0.000000</td>\n",
       "      <td>0.000000</td>\n",
       "      <td>0.000000</td>\n",
       "      <td>1.931260</td>\n",
       "      <td>0.829709</td>\n",
       "      <td>2.760970</td>\n",
       "    </tr>\n",
       "    <tr>\n",
       "      <th>1</th>\n",
       "      <td>8</td>\n",
       "      <td>13</td>\n",
       "      <td>3</td>\n",
       "      <td>7</td>\n",
       "      <td>0.156111</td>\n",
       "      <td>1.206826</td>\n",
       "      <td>0.156111</td>\n",
       "      <td>0.530078</td>\n",
       "      <td>4.572842</td>\n",
       "      <td>1.379041</td>\n",
       "      <td>0.175778</td>\n",
       "      <td>1.226493</td>\n",
       "      <td>1.402271</td>\n",
       "    </tr>\n",
       "    <tr>\n",
       "      <th>2</th>\n",
       "      <td>14</td>\n",
       "      <td>10</td>\n",
       "      <td>10</td>\n",
       "      <td>6</td>\n",
       "      <td>1.334607</td>\n",
       "      <td>0.542084</td>\n",
       "      <td>0.941770</td>\n",
       "      <td>0.276640</td>\n",
       "      <td>14.256037</td>\n",
       "      <td>5.456765</td>\n",
       "      <td>1.611102</td>\n",
       "      <td>0.818578</td>\n",
       "      <td>2.429680</td>\n",
       "    </tr>\n",
       "    <tr>\n",
       "      <th>3</th>\n",
       "      <td>11</td>\n",
       "      <td>9</td>\n",
       "      <td>10</td>\n",
       "      <td>9</td>\n",
       "      <td>0.341648</td>\n",
       "      <td>0.040415</td>\n",
       "      <td>0.145480</td>\n",
       "      <td>0.029449</td>\n",
       "      <td>17.697194</td>\n",
       "      <td>7.083129</td>\n",
       "      <td>0.341648</td>\n",
       "      <td>0.040415</td>\n",
       "      <td>0.382063</td>\n",
       "    </tr>\n",
       "    <tr>\n",
       "      <th>4</th>\n",
       "      <td>13</td>\n",
       "      <td>7</td>\n",
       "      <td>9</td>\n",
       "      <td>3</td>\n",
       "      <td>0.093417</td>\n",
       "      <td>0.091764</td>\n",
       "      <td>0.033918</td>\n",
       "      <td>0.057216</td>\n",
       "      <td>2.966856</td>\n",
       "      <td>0.621951</td>\n",
       "      <td>0.317592</td>\n",
       "      <td>0.315938</td>\n",
       "      <td>0.633530</td>\n",
       "    </tr>\n",
       "  </tbody>\n",
       "</table>\n",
       "</div>"
      ],
      "text/plain": [
       "   len_q1  len_q2  len_tf1  len_tf2   sum_tf1   sum_tf2   max_tf1   max_tf2  \\\n",
       "0      14      12        1        0  1.101551  0.000000  1.101551  0.000000   \n",
       "1       8      13        3        7  0.156111  1.206826  0.156111  0.530078   \n",
       "2      14      10       10        6  1.334607  0.542084  0.941770  0.276640   \n",
       "3      11       9       10        9  0.341648  0.040415  0.145480  0.029449   \n",
       "4      13       7        9        3  0.093417  0.091764  0.033918  0.057216   \n",
       "\n",
       "   w2v_score  w2v_sqr_score  first_tfidf_count  second_tfidf_count  tfidf_sum  \n",
       "0   0.000000       0.000000           1.931260            0.829709   2.760970  \n",
       "1   4.572842       1.379041           0.175778            1.226493   1.402271  \n",
       "2  14.256037       5.456765           1.611102            0.818578   2.429680  \n",
       "3  17.697194       7.083129           0.341648            0.040415   0.382063  \n",
       "4   2.966856       0.621951           0.317592            0.315938   0.633530  "
      ]
     },
     "execution_count": 22,
     "metadata": {},
     "output_type": "execute_result"
    }
   ],
   "source": [
    "new_features['first_tfidf_count'] = new_features['first_tfidf_count']*100\n",
    "new_features['second_tfidf_count'] = new_features['second_tfidf_count']*100\n",
    "new_features['tfidf_sum'] = new_features['first_tfidf_count'] + new_features['second_tfidf_count']\n",
    "new_features.head()"
   ]
  },
  {
   "cell_type": "code",
   "execution_count": 23,
   "metadata": {
    "collapsed": false
   },
   "outputs": [],
   "source": [
    "new_features['tfidf_dif_sum'] = new_features['sum_tf1']+new_features['sum_tf2']"
   ]
  },
  {
   "cell_type": "code",
   "execution_count": 24,
   "metadata": {
    "collapsed": true
   },
   "outputs": [],
   "source": [
    "new_features.join(data['is_duplicate']).to_csv(data_dir + 'training_with_new_features.csv')"
   ]
  },
  {
   "cell_type": "code",
   "execution_count": null,
   "metadata": {
    "collapsed": true
   },
   "outputs": [],
   "source": []
  }
 ],
 "metadata": {
  "kernelspec": {
   "display_name": "Python 2",
   "language": "python",
   "name": "python2"
  },
  "language_info": {
   "codemirror_mode": {
    "name": "ipython",
    "version": 2
   },
   "file_extension": ".py",
   "mimetype": "text/x-python",
   "name": "python",
   "nbconvert_exporter": "python",
   "pygments_lexer": "ipython2",
   "version": "2.7.11"
  }
 },
 "nbformat": 4,
 "nbformat_minor": 0
}
