{
 "cells": [
  {
   "cell_type": "code",
   "execution_count": 1,
   "metadata": {
    "collapsed": false
   },
   "outputs": [],
   "source": [
    "import numpy as np\n",
    "import pandas as pd"
   ]
  },
  {
   "cell_type": "code",
   "execution_count": 2,
   "metadata": {
    "collapsed": true
   },
   "outputs": [],
   "source": [
    "df = pd.read_csv('C:\\Users\\Admin\\Desktop\\mlbootcamp5_train.csv', sep=';', index_col='id')"
   ]
  },
  {
   "cell_type": "code",
   "execution_count": 3,
   "metadata": {
    "collapsed": false
   },
   "outputs": [
    {
     "data": {
      "text/html": [
       "<div>\n",
       "<table border=\"1\" class=\"dataframe\">\n",
       "  <thead>\n",
       "    <tr style=\"text-align: right;\">\n",
       "      <th></th>\n",
       "      <th>age</th>\n",
       "      <th>gender</th>\n",
       "      <th>height</th>\n",
       "      <th>weight</th>\n",
       "      <th>ap_hi</th>\n",
       "      <th>ap_lo</th>\n",
       "      <th>cholesterol</th>\n",
       "      <th>gluc</th>\n",
       "      <th>smoke</th>\n",
       "      <th>alco</th>\n",
       "      <th>active</th>\n",
       "      <th>cardio</th>\n",
       "    </tr>\n",
       "    <tr>\n",
       "      <th>id</th>\n",
       "      <th></th>\n",
       "      <th></th>\n",
       "      <th></th>\n",
       "      <th></th>\n",
       "      <th></th>\n",
       "      <th></th>\n",
       "      <th></th>\n",
       "      <th></th>\n",
       "      <th></th>\n",
       "      <th></th>\n",
       "      <th></th>\n",
       "      <th></th>\n",
       "    </tr>\n",
       "  </thead>\n",
       "  <tbody>\n",
       "    <tr>\n",
       "      <th>0</th>\n",
       "      <td>18393</td>\n",
       "      <td>2</td>\n",
       "      <td>168</td>\n",
       "      <td>62.0</td>\n",
       "      <td>110</td>\n",
       "      <td>80</td>\n",
       "      <td>1</td>\n",
       "      <td>1</td>\n",
       "      <td>0</td>\n",
       "      <td>0</td>\n",
       "      <td>1</td>\n",
       "      <td>0</td>\n",
       "    </tr>\n",
       "    <tr>\n",
       "      <th>1</th>\n",
       "      <td>20228</td>\n",
       "      <td>1</td>\n",
       "      <td>156</td>\n",
       "      <td>85.0</td>\n",
       "      <td>140</td>\n",
       "      <td>90</td>\n",
       "      <td>3</td>\n",
       "      <td>1</td>\n",
       "      <td>0</td>\n",
       "      <td>0</td>\n",
       "      <td>1</td>\n",
       "      <td>1</td>\n",
       "    </tr>\n",
       "    <tr>\n",
       "      <th>2</th>\n",
       "      <td>18857</td>\n",
       "      <td>1</td>\n",
       "      <td>165</td>\n",
       "      <td>64.0</td>\n",
       "      <td>130</td>\n",
       "      <td>70</td>\n",
       "      <td>3</td>\n",
       "      <td>1</td>\n",
       "      <td>0</td>\n",
       "      <td>0</td>\n",
       "      <td>0</td>\n",
       "      <td>1</td>\n",
       "    </tr>\n",
       "    <tr>\n",
       "      <th>3</th>\n",
       "      <td>17623</td>\n",
       "      <td>2</td>\n",
       "      <td>169</td>\n",
       "      <td>82.0</td>\n",
       "      <td>150</td>\n",
       "      <td>100</td>\n",
       "      <td>1</td>\n",
       "      <td>1</td>\n",
       "      <td>0</td>\n",
       "      <td>0</td>\n",
       "      <td>1</td>\n",
       "      <td>1</td>\n",
       "    </tr>\n",
       "    <tr>\n",
       "      <th>4</th>\n",
       "      <td>17474</td>\n",
       "      <td>1</td>\n",
       "      <td>156</td>\n",
       "      <td>56.0</td>\n",
       "      <td>100</td>\n",
       "      <td>60</td>\n",
       "      <td>1</td>\n",
       "      <td>1</td>\n",
       "      <td>0</td>\n",
       "      <td>0</td>\n",
       "      <td>0</td>\n",
       "      <td>0</td>\n",
       "    </tr>\n",
       "  </tbody>\n",
       "</table>\n",
       "</div>"
      ],
      "text/plain": [
       "      age  gender  height  weight  ap_hi  ap_lo  cholesterol  gluc  smoke  \\\n",
       "id                                                                          \n",
       "0   18393       2     168    62.0    110     80            1     1      0   \n",
       "1   20228       1     156    85.0    140     90            3     1      0   \n",
       "2   18857       1     165    64.0    130     70            3     1      0   \n",
       "3   17623       2     169    82.0    150    100            1     1      0   \n",
       "4   17474       1     156    56.0    100     60            1     1      0   \n",
       "\n",
       "    alco  active  cardio  \n",
       "id                        \n",
       "0      0       1       0  \n",
       "1      0       1       1  \n",
       "2      0       0       1  \n",
       "3      0       1       1  \n",
       "4      0       0       0  "
      ]
     },
     "execution_count": 3,
     "metadata": {},
     "output_type": "execute_result"
    }
   ],
   "source": [
    "df.head()"
   ]
  },
  {
   "cell_type": "code",
   "execution_count": 4,
   "metadata": {
    "collapsed": false
   },
   "outputs": [
    {
     "data": {
      "text/plain": [
       "1    45530\n",
       "2    24470\n",
       "Name: gender, dtype: int64"
      ]
     },
     "execution_count": 4,
     "metadata": {},
     "output_type": "execute_result"
    }
   ],
   "source": [
    "val_count = df['gender'].value_counts()\n",
    "val_count"
   ]
  },
  {
   "cell_type": "code",
   "execution_count": 5,
   "metadata": {
    "collapsed": false
   },
   "outputs": [
    {
     "data": {
      "text/plain": [
       "161.35561168460356"
      ]
     },
     "execution_count": 5,
     "metadata": {},
     "output_type": "execute_result"
    }
   ],
   "source": [
    "ones = df[df['gender']==1]\n",
    "one = ones['height'].mean()\n",
    "one"
   ]
  },
  {
   "cell_type": "code",
   "execution_count": 6,
   "metadata": {
    "collapsed": false
   },
   "outputs": [
    {
     "data": {
      "text/plain": [
       "169.94789538210054"
      ]
     },
     "execution_count": 6,
     "metadata": {},
     "output_type": "execute_result"
    }
   ],
   "source": [
    "twos = df[df['gender']==2]\n",
    "two = twos['height'].mean()\n",
    "two"
   ]
  },
  {
   "cell_type": "code",
   "execution_count": 7,
   "metadata": {
    "collapsed": true
   },
   "outputs": [],
   "source": [
    "if two>one:\n",
    "    sex = {'Male':2,'Female':1}\n",
    "else:\n",
    "    sex = {'Male':1,'Female':2}"
   ]
  },
  {
   "cell_type": "code",
   "execution_count": 8,
   "metadata": {
    "collapsed": false
   },
   "outputs": [
    {
     "data": {
      "text/plain": [
       "{'Female': 1, 'Male': 2}"
      ]
     },
     "execution_count": 8,
     "metadata": {},
     "output_type": "execute_result"
    }
   ],
   "source": [
    "sex"
   ]
  },
  {
   "cell_type": "markdown",
   "metadata": {},
   "source": [
    "## 1"
   ]
  },
  {
   "cell_type": "code",
   "execution_count": 9,
   "metadata": {
    "collapsed": true
   },
   "outputs": [],
   "source": [
    "def answer_one(one,two,val_count):\n",
    "    print('{} males, {} females'.format(val_count[sex['Male']], val_count[sex['Female']]))"
   ]
  },
  {
   "cell_type": "code",
   "execution_count": 10,
   "metadata": {
    "collapsed": false
   },
   "outputs": [
    {
     "name": "stdout",
     "output_type": "stream",
     "text": [
      "24470 males, 45530 females\n"
     ]
    }
   ],
   "source": [
    "answer_one(one,two,val_count)"
   ]
  },
  {
   "cell_type": "markdown",
   "metadata": {},
   "source": [
    "## 2"
   ]
  },
  {
   "cell_type": "code",
   "execution_count": 11,
   "metadata": {
    "collapsed": true
   },
   "outputs": [],
   "source": [
    "male = df['gender']==sex['Male']\n",
    "female = df['gender']==sex['Female']\n",
    "\n",
    "def answer_two():\n",
    "    male_alco = df[male]['alco'].mean()\n",
    "    female_alco = df[female]['alco'].mean()\n",
    "    if male_alco>female_alco:\n",
    "        print('men')\n",
    "    else:\n",
    "        print('women')"
   ]
  },
  {
   "cell_type": "code",
   "execution_count": 12,
   "metadata": {
    "collapsed": false
   },
   "outputs": [
    {
     "name": "stdout",
     "output_type": "stream",
     "text": [
      "men\n"
     ]
    }
   ],
   "source": [
    "answer_two()"
   ]
  },
  {
   "cell_type": "markdown",
   "metadata": {},
   "source": [
    "## 3"
   ]
  },
  {
   "cell_type": "code",
   "execution_count": 13,
   "metadata": {
    "collapsed": true
   },
   "outputs": [],
   "source": [
    "def answer_three():\n",
    "    difference = df[male]['smoke'].mean()/df[female]['smoke'].mean()\n",
    "    return round(difference)"
   ]
  },
  {
   "cell_type": "code",
   "execution_count": 14,
   "metadata": {
    "collapsed": false
   },
   "outputs": [
    {
     "data": {
      "text/plain": [
       "12.0"
      ]
     },
     "execution_count": 14,
     "metadata": {},
     "output_type": "execute_result"
    }
   ],
   "source": [
    "answer_three()"
   ]
  },
  {
   "cell_type": "markdown",
   "metadata": {},
   "source": [
    "## 4"
   ]
  },
  {
   "cell_type": "code",
   "execution_count": 15,
   "metadata": {
    "collapsed": true
   },
   "outputs": [],
   "source": [
    "def answer_four(df):\n",
    "    smokey = df[df['smoke']==1]['age'].median()\n",
    "    healthy = df[df['smoke']==0]['age'].median()\n",
    "    difference = healthy-smokey\n",
    "    return round(abs(difference)/30.5)"
   ]
  },
  {
   "cell_type": "code",
   "execution_count": 16,
   "metadata": {
    "collapsed": false
   },
   "outputs": [
    {
     "data": {
      "text/plain": [
       "20.0"
      ]
     },
     "execution_count": 16,
     "metadata": {},
     "output_type": "execute_result"
    }
   ],
   "source": [
    "answer_four(df)"
   ]
  },
  {
   "cell_type": "markdown",
   "metadata": {},
   "source": [
    "## 5"
   ]
  },
  {
   "cell_type": "code",
   "execution_count": 17,
   "metadata": {
    "collapsed": false
   },
   "outputs": [],
   "source": [
    "def answer_five(df):\n",
    "    df['age_years'] = df['age']/365\n",
    "    df['age_years'] = df['age_years'].astype(int)\n",
    "    mask = (df['age_years']>=60)&(df['age_years']<=64)&(df['smoke']==1)&male\n",
    "    old_farts = df[mask]\n",
    "    \n",
    "    first_group = (old_farts['cholesterol']==1)&(old_farts['ap_hi']<120)\n",
    "    second_group = (old_farts['cholesterol']==3)&(old_farts['ap_hi']<180)&(old_farts['ap_hi']>=160)\n",
    "    first_cardiac = first_group&(old_farts['cardio']==1)\n",
    "    second_cardiac = second_group&(old_farts['cardio']==1)\n",
    "    \n",
    "    f_pct = float(first_cardiac.value_counts()[True])/first_group.value_counts()[True]\n",
    "    s_pct = float(second_cardiac.value_counts()[True])/second_group.value_counts()[True]\n",
    "    return round(s_pct/f_pct)"
   ]
  },
  {
   "cell_type": "code",
   "execution_count": 18,
   "metadata": {
    "collapsed": false
   },
   "outputs": [
    {
     "data": {
      "text/plain": [
       "3.0"
      ]
     },
     "execution_count": 18,
     "metadata": {},
     "output_type": "execute_result"
    }
   ],
   "source": [
    "answer_five(df)"
   ]
  },
  {
   "cell_type": "markdown",
   "metadata": {},
   "source": [
    "## 6"
   ]
  },
  {
   "cell_type": "code",
   "execution_count": 19,
   "metadata": {
    "collapsed": true
   },
   "outputs": [],
   "source": [
    "def answer_six(df):\n",
    "    df['height_mtr'] = df['height']/100\n",
    "    df['BMI']=df['weight']/(df['height_mtr']*df['height_mtr'])\n",
    "    median_bmi = df['BMI'].median()\n",
    "    print(median_bmi)\n",
    "    if median_bmi>=18.5 and median_bmi<=25:\n",
    "        print(' >common median is in normal range')\n",
    "    else:\n",
    "        print(' >what is it, a fatty party?')\n",
    "        \n",
    "    female_bmi = df[female]['BMI'].mean()\n",
    "    male_bmi = df[male]['BMI'].mean()\n",
    "    print('{} female, {} male'.format(female_bmi, male_bmi))\n",
    "    if female_bmi > male_bmi:\n",
    "        print(' >did you just assumed my weight identity?')\n",
    "    else:\n",
    "        print(' >get rid of your manboobs, dude')\n",
    "    \n",
    "    cardiac = df[df['cardio']==1]['BMI'].mean()\n",
    "    healthy = df[df['cardio']==0]['BMI'].mean()\n",
    "    print('{} cardiac, {} healthy'.format(cardiac, healthy))\n",
    "    if(cardiac>healthy):\n",
    "        print(' >fat is bad')\n",
    "    else:\n",
    "        print(' >fatter the merrier')\n",
    "    \n",
    "    mask_female = female&(df['cardio']==0)&(df['smoke']==0)\n",
    "    mask_male = male&(df['cardio']==0)&(df['smoke']==0)\n",
    "    m_bmi = df[mask_male]['BMI'].mean()\n",
    "    f_bmi = df[mask_female]['BMI'].mean()\n",
    "    print('{} male, {} female'.format(m_bmi, f_bmi))\n",
    "    print(' >i\\'ve got big bottom females')"
   ]
  },
  {
   "cell_type": "code",
   "execution_count": 20,
   "metadata": {
    "collapsed": false
   },
   "outputs": [
    {
     "name": "stdout",
     "output_type": "stream",
     "text": [
      "26.3740681208\n",
      " >what is it, a fatty party?\n",
      "27.9875834418 female, 26.7544423573 male\n",
      " >did you just assumed my weight identity?\n",
      "28.566060627 cardiac, 26.5481752068 healthy\n",
      " >fat is bad\n",
      "25.9276690188 male, 26.8872170959 female\n",
      " >i've got big bottom females\n"
     ]
    }
   ],
   "source": [
    "answer_six(df)"
   ]
  },
  {
   "cell_type": "markdown",
   "metadata": {},
   "source": [
    "## 7"
   ]
  },
  {
   "cell_type": "code",
   "execution_count": 21,
   "metadata": {
    "collapsed": false
   },
   "outputs": [],
   "source": [
    "def answer_seven(df):\n",
    "    w_min = df['weight'].quantile(0.025)\n",
    "    w_max = df['weight'].quantile(0.975)\n",
    "    h_min = df['height'].quantile(0.025)\n",
    "    h_max = df['height'].quantile(0.975)\n",
    "    mask = (df['weight']>=w_min)&(df['weight']<=w_max)&(df['height']>=h_min)&(df['height']<=h_max)&(df['ap_hi']>=df['ap_lo'])\n",
    "    values = mask.value_counts(normalize=True)\n",
    "    percent = values[False]\n",
    "    return round(percent*100)"
   ]
  },
  {
   "cell_type": "code",
   "execution_count": 22,
   "metadata": {
    "collapsed": false
   },
   "outputs": [
    {
     "data": {
      "text/plain": [
       "10.0"
      ]
     },
     "execution_count": 22,
     "metadata": {},
     "output_type": "execute_result"
    }
   ],
   "source": [
    "answer_seven(df)"
   ]
  }
 ],
 "metadata": {
  "kernelspec": {
   "display_name": "Python 2",
   "language": "python",
   "name": "python2"
  },
  "language_info": {
   "codemirror_mode": {
    "name": "ipython",
    "version": 2
   },
   "file_extension": ".py",
   "mimetype": "text/x-python",
   "name": "python",
   "nbconvert_exporter": "python",
   "pygments_lexer": "ipython2",
   "version": "2.7.11"
  }
 },
 "nbformat": 4,
 "nbformat_minor": 0
}
