{
 "cells": [
  {
   "cell_type": "markdown",
   "metadata": {},
   "source": [
    "# Quora Question Pairs"
   ]
  },
  {
   "cell_type": "markdown",
   "metadata": {},
   "source": [
    "# Вступление\n"
   ]
  },
  {
   "cell_type": "code",
   "execution_count": 1,
   "metadata": {
    "collapsed": false
   },
   "outputs": [],
   "source": [
    "# Imports\n",
    "#from __future__ import print_function, division\n",
    "import numpy as np\n",
    "import matplotlib.pyplot as plt\n",
    "#import seaborn\n",
    "import pandas as pd\n",
    "from sklearn.preprocessing import normalize\n",
    "from gensim import utils\n",
    "#from gensim.models.doc2vec import LabeledSentence\n",
    "from gensim.models import Doc2Vec as Doc2Vec\n",
    "from gensim.models import KeyedVectors as KeyedVectors\n",
    "#import seaborn\n",
    "from random import shuffle\n",
    "%matplotlib inline\n"
   ]
  },
  {
   "cell_type": "code",
   "execution_count": 2,
   "metadata": {
    "collapsed": true
   },
   "outputs": [],
   "source": [
    "data_dir = '/home/uasa/Desktop/data/'\n",
    "google_vec_filepath = data_dir + 'GoogleNews-vectors-negative300.bin'\n",
    "lexvec_filepath = data_dir + 'lexvec.enwiki+newscrawl.300d.W+C.pos.vectors'\n",
    "quora_train_filepath = data_dir + 'train.csv'"
   ]
  },
  {
   "cell_type": "code",
   "execution_count": 3,
   "metadata": {
    "collapsed": true,
    "slideshow": {
     "slide_type": "slide"
    }
   },
   "outputs": [],
   "source": [
    "# Load test and train data\n",
    "#test = pd.read_csv(\"./test.csv\")\n",
    "train = pd.read_csv(quora_train_filepath)"
   ]
  },
  {
   "cell_type": "code",
   "execution_count": 4,
   "metadata": {
    "collapsed": false
   },
   "outputs": [
    {
     "data": {
      "text/html": [
       "<div>\n",
       "<table border=\"1\" class=\"dataframe\">\n",
       "  <thead>\n",
       "    <tr style=\"text-align: right;\">\n",
       "      <th></th>\n",
       "      <th>id</th>\n",
       "      <th>qid1</th>\n",
       "      <th>qid2</th>\n",
       "      <th>question1</th>\n",
       "      <th>question2</th>\n",
       "      <th>is_duplicate</th>\n",
       "    </tr>\n",
       "  </thead>\n",
       "  <tbody>\n",
       "    <tr>\n",
       "      <th>0</th>\n",
       "      <td>0</td>\n",
       "      <td>1</td>\n",
       "      <td>2</td>\n",
       "      <td>What is the step by step guide to invest in sh...</td>\n",
       "      <td>What is the step by step guide to invest in sh...</td>\n",
       "      <td>0</td>\n",
       "    </tr>\n",
       "    <tr>\n",
       "      <th>1</th>\n",
       "      <td>1</td>\n",
       "      <td>3</td>\n",
       "      <td>4</td>\n",
       "      <td>What is the story of Kohinoor (Koh-i-Noor) Dia...</td>\n",
       "      <td>What would happen if the Indian government sto...</td>\n",
       "      <td>0</td>\n",
       "    </tr>\n",
       "    <tr>\n",
       "      <th>2</th>\n",
       "      <td>2</td>\n",
       "      <td>5</td>\n",
       "      <td>6</td>\n",
       "      <td>How can I increase the speed of my internet co...</td>\n",
       "      <td>How can Internet speed be increased by hacking...</td>\n",
       "      <td>0</td>\n",
       "    </tr>\n",
       "    <tr>\n",
       "      <th>3</th>\n",
       "      <td>3</td>\n",
       "      <td>7</td>\n",
       "      <td>8</td>\n",
       "      <td>Why am I mentally very lonely? How can I solve...</td>\n",
       "      <td>Find the remainder when [math]23^{24}[/math] i...</td>\n",
       "      <td>0</td>\n",
       "    </tr>\n",
       "    <tr>\n",
       "      <th>4</th>\n",
       "      <td>4</td>\n",
       "      <td>9</td>\n",
       "      <td>10</td>\n",
       "      <td>Which one dissolve in water quikly sugar, salt...</td>\n",
       "      <td>Which fish would survive in salt water?</td>\n",
       "      <td>0</td>\n",
       "    </tr>\n",
       "  </tbody>\n",
       "</table>\n",
       "</div>"
      ],
      "text/plain": [
       "   id  qid1  qid2                                          question1  \\\n",
       "0   0     1     2  What is the step by step guide to invest in sh...   \n",
       "1   1     3     4  What is the story of Kohinoor (Koh-i-Noor) Dia...   \n",
       "2   2     5     6  How can I increase the speed of my internet co...   \n",
       "3   3     7     8  Why am I mentally very lonely? How can I solve...   \n",
       "4   4     9    10  Which one dissolve in water quikly sugar, salt...   \n",
       "\n",
       "                                           question2  is_duplicate  \n",
       "0  What is the step by step guide to invest in sh...             0  \n",
       "1  What would happen if the Indian government sto...             0  \n",
       "2  How can Internet speed be increased by hacking...             0  \n",
       "3  Find the remainder when [math]23^{24}[/math] i...             0  \n",
       "4            Which fish would survive in salt water?             0  "
      ]
     },
     "execution_count": 4,
     "metadata": {},
     "output_type": "execute_result"
    }
   ],
   "source": [
    "train.head()"
   ]
  },
  {
   "cell_type": "code",
   "execution_count": 5,
   "metadata": {
    "collapsed": false
   },
   "outputs": [
    {
     "data": {
      "text/html": [
       "<div>\n",
       "<table border=\"1\" class=\"dataframe\">\n",
       "  <thead>\n",
       "    <tr style=\"text-align: right;\">\n",
       "      <th></th>\n",
       "      <th>id</th>\n",
       "      <th>qid1</th>\n",
       "      <th>qid2</th>\n",
       "      <th>question1</th>\n",
       "      <th>question2</th>\n",
       "      <th>is_duplicate</th>\n",
       "    </tr>\n",
       "  </thead>\n",
       "  <tbody>\n",
       "    <tr>\n",
       "      <th>0</th>\n",
       "      <td>0</td>\n",
       "      <td>1</td>\n",
       "      <td>2</td>\n",
       "      <td>What is the step by step guide to invest in sh...</td>\n",
       "      <td>What is the step by step guide to invest in sh...</td>\n",
       "      <td>0</td>\n",
       "    </tr>\n",
       "    <tr>\n",
       "      <th>1</th>\n",
       "      <td>1</td>\n",
       "      <td>3</td>\n",
       "      <td>4</td>\n",
       "      <td>What is the story of Kohinoor (Koh-i-Noor) Dia...</td>\n",
       "      <td>What would happen if the Indian government sto...</td>\n",
       "      <td>0</td>\n",
       "    </tr>\n",
       "    <tr>\n",
       "      <th>2</th>\n",
       "      <td>2</td>\n",
       "      <td>5</td>\n",
       "      <td>6</td>\n",
       "      <td>How can I increase the speed of my internet co...</td>\n",
       "      <td>How can Internet speed be increased by hacking...</td>\n",
       "      <td>0</td>\n",
       "    </tr>\n",
       "    <tr>\n",
       "      <th>3</th>\n",
       "      <td>3</td>\n",
       "      <td>7</td>\n",
       "      <td>8</td>\n",
       "      <td>Why am I mentally very lonely? How can I solve...</td>\n",
       "      <td>Find the remainder when [math]23^{24}[/math] i...</td>\n",
       "      <td>0</td>\n",
       "    </tr>\n",
       "    <tr>\n",
       "      <th>4</th>\n",
       "      <td>4</td>\n",
       "      <td>9</td>\n",
       "      <td>10</td>\n",
       "      <td>Which one dissolve in water quikly sugar, salt...</td>\n",
       "      <td>Which fish would survive in salt water?</td>\n",
       "      <td>0</td>\n",
       "    </tr>\n",
       "  </tbody>\n",
       "</table>\n",
       "</div>"
      ],
      "text/plain": [
       "   id  qid1  qid2                                          question1  \\\n",
       "0   0     1     2  What is the step by step guide to invest in sh...   \n",
       "1   1     3     4  What is the story of Kohinoor (Koh-i-Noor) Dia...   \n",
       "2   2     5     6  How can I increase the speed of my internet co...   \n",
       "3   3     7     8  Why am I mentally very lonely? How can I solve...   \n",
       "4   4     9    10  Which one dissolve in water quikly sugar, salt...   \n",
       "\n",
       "                                           question2  is_duplicate  \n",
       "0  What is the step by step guide to invest in sh...             0  \n",
       "1  What would happen if the Indian government sto...             0  \n",
       "2  How can Internet speed be increased by hacking...             0  \n",
       "3  Find the remainder when [math]23^{24}[/math] i...             0  \n",
       "4            Which fish would survive in salt water?             0  "
      ]
     },
     "execution_count": 5,
     "metadata": {},
     "output_type": "execute_result"
    }
   ],
   "source": [
    "train.dropna(inplace = True)\n",
    "train.head()\n"
   ]
  },
  {
   "cell_type": "code",
   "execution_count": 6,
   "metadata": {
    "collapsed": false
   },
   "outputs": [],
   "source": [
    "import string\n",
    "\n",
    "def remove_punctuation(s):\n",
    "    s = ''.join([i.lower() for i in s if i not in frozenset(string.punctuation)])\n",
    "    return s\n",
    "\n",
    "def clean_punct(series):\n",
    "    list1 = []\n",
    "    list2 = series.tolist()\n",
    "    for item in list2:\n",
    "        list1.append(remove_punctuation(item))\n",
    "    return list1\n",
    "\n"
   ]
  },
  {
   "cell_type": "code",
   "execution_count": 7,
   "metadata": {
    "collapsed": false
   },
   "outputs": [
    {
     "data": {
      "text/html": [
       "<div>\n",
       "<table border=\"1\" class=\"dataframe\">\n",
       "  <thead>\n",
       "    <tr style=\"text-align: right;\">\n",
       "      <th></th>\n",
       "      <th>id</th>\n",
       "      <th>qid1</th>\n",
       "      <th>qid2</th>\n",
       "      <th>question1</th>\n",
       "      <th>question2</th>\n",
       "      <th>is_duplicate</th>\n",
       "    </tr>\n",
       "  </thead>\n",
       "  <tbody>\n",
       "    <tr>\n",
       "      <th>0</th>\n",
       "      <td>0</td>\n",
       "      <td>1</td>\n",
       "      <td>2</td>\n",
       "      <td>what is the step by step guide to invest in sh...</td>\n",
       "      <td>what is the step by step guide to invest in sh...</td>\n",
       "      <td>0</td>\n",
       "    </tr>\n",
       "    <tr>\n",
       "      <th>1</th>\n",
       "      <td>1</td>\n",
       "      <td>3</td>\n",
       "      <td>4</td>\n",
       "      <td>what is the story of kohinoor kohinoor diamond</td>\n",
       "      <td>what would happen if the indian government sto...</td>\n",
       "      <td>0</td>\n",
       "    </tr>\n",
       "    <tr>\n",
       "      <th>2</th>\n",
       "      <td>2</td>\n",
       "      <td>5</td>\n",
       "      <td>6</td>\n",
       "      <td>how can i increase the speed of my internet co...</td>\n",
       "      <td>how can internet speed be increased by hacking...</td>\n",
       "      <td>0</td>\n",
       "    </tr>\n",
       "    <tr>\n",
       "      <th>3</th>\n",
       "      <td>3</td>\n",
       "      <td>7</td>\n",
       "      <td>8</td>\n",
       "      <td>why am i mentally very lonely how can i solve it</td>\n",
       "      <td>find the remainder when math2324math is divide...</td>\n",
       "      <td>0</td>\n",
       "    </tr>\n",
       "    <tr>\n",
       "      <th>4</th>\n",
       "      <td>4</td>\n",
       "      <td>9</td>\n",
       "      <td>10</td>\n",
       "      <td>which one dissolve in water quikly sugar salt ...</td>\n",
       "      <td>which fish would survive in salt water</td>\n",
       "      <td>0</td>\n",
       "    </tr>\n",
       "  </tbody>\n",
       "</table>\n",
       "</div>"
      ],
      "text/plain": [
       "   id  qid1  qid2                                          question1  \\\n",
       "0   0     1     2  what is the step by step guide to invest in sh...   \n",
       "1   1     3     4     what is the story of kohinoor kohinoor diamond   \n",
       "2   2     5     6  how can i increase the speed of my internet co...   \n",
       "3   3     7     8   why am i mentally very lonely how can i solve it   \n",
       "4   4     9    10  which one dissolve in water quikly sugar salt ...   \n",
       "\n",
       "                                           question2  is_duplicate  \n",
       "0  what is the step by step guide to invest in sh...             0  \n",
       "1  what would happen if the indian government sto...             0  \n",
       "2  how can internet speed be increased by hacking...             0  \n",
       "3  find the remainder when math2324math is divide...             0  \n",
       "4             which fish would survive in salt water             0  "
      ]
     },
     "execution_count": 7,
     "metadata": {},
     "output_type": "execute_result"
    }
   ],
   "source": [
    "train['question2'] = train['question2'].apply(remove_punctuation)\n",
    "train['question1'] = train['question1'].apply(remove_punctuation)\n",
    "train.head()"
   ]
  },
  {
   "cell_type": "code",
   "execution_count": 8,
   "metadata": {
    "collapsed": false
   },
   "outputs": [
    {
     "data": {
      "text/html": [
       "<div>\n",
       "<table border=\"1\" class=\"dataframe\">\n",
       "  <thead>\n",
       "    <tr style=\"text-align: right;\">\n",
       "      <th></th>\n",
       "      <th>id</th>\n",
       "      <th>qid1</th>\n",
       "      <th>qid2</th>\n",
       "      <th>question1</th>\n",
       "      <th>question2</th>\n",
       "      <th>is_duplicate</th>\n",
       "    </tr>\n",
       "  </thead>\n",
       "  <tbody>\n",
       "    <tr>\n",
       "      <th>0</th>\n",
       "      <td>0</td>\n",
       "      <td>1</td>\n",
       "      <td>2</td>\n",
       "      <td>[what, is, the, step, by, step, guide, to, inv...</td>\n",
       "      <td>[what, is, the, step, by, step, guide, to, inv...</td>\n",
       "      <td>0</td>\n",
       "    </tr>\n",
       "    <tr>\n",
       "      <th>1</th>\n",
       "      <td>1</td>\n",
       "      <td>3</td>\n",
       "      <td>4</td>\n",
       "      <td>[what, is, the, story, of, kohinoor, kohinoor,...</td>\n",
       "      <td>[what, would, happen, if, the, indian, governm...</td>\n",
       "      <td>0</td>\n",
       "    </tr>\n",
       "    <tr>\n",
       "      <th>2</th>\n",
       "      <td>2</td>\n",
       "      <td>5</td>\n",
       "      <td>6</td>\n",
       "      <td>[how, can, i, increase, the, speed, of, my, in...</td>\n",
       "      <td>[how, can, internet, speed, be, increased, by,...</td>\n",
       "      <td>0</td>\n",
       "    </tr>\n",
       "    <tr>\n",
       "      <th>3</th>\n",
       "      <td>3</td>\n",
       "      <td>7</td>\n",
       "      <td>8</td>\n",
       "      <td>[why, am, i, mentally, very, lonely, how, can,...</td>\n",
       "      <td>[find, the, remainder, when, math2324math, is,...</td>\n",
       "      <td>0</td>\n",
       "    </tr>\n",
       "    <tr>\n",
       "      <th>4</th>\n",
       "      <td>4</td>\n",
       "      <td>9</td>\n",
       "      <td>10</td>\n",
       "      <td>[which, one, dissolve, in, water, quikly, suga...</td>\n",
       "      <td>[which, fish, would, survive, in, salt, water]</td>\n",
       "      <td>0</td>\n",
       "    </tr>\n",
       "  </tbody>\n",
       "</table>\n",
       "</div>"
      ],
      "text/plain": [
       "   id  qid1  qid2                                          question1  \\\n",
       "0   0     1     2  [what, is, the, step, by, step, guide, to, inv...   \n",
       "1   1     3     4  [what, is, the, story, of, kohinoor, kohinoor,...   \n",
       "2   2     5     6  [how, can, i, increase, the, speed, of, my, in...   \n",
       "3   3     7     8  [why, am, i, mentally, very, lonely, how, can,...   \n",
       "4   4     9    10  [which, one, dissolve, in, water, quikly, suga...   \n",
       "\n",
       "                                           question2  is_duplicate  \n",
       "0  [what, is, the, step, by, step, guide, to, inv...             0  \n",
       "1  [what, would, happen, if, the, indian, governm...             0  \n",
       "2  [how, can, internet, speed, be, increased, by,...             0  \n",
       "3  [find, the, remainder, when, math2324math, is,...             0  \n",
       "4     [which, fish, would, survive, in, salt, water]             0  "
      ]
     },
     "execution_count": 8,
     "metadata": {},
     "output_type": "execute_result"
    }
   ],
   "source": [
    "train['question1'] = train['question1'].str.split()\n",
    "train['question2'] = train['question2'].str.split()\n",
    "train.head()"
   ]
  },
  {
   "cell_type": "code",
   "execution_count": 9,
   "metadata": {
    "collapsed": false
   },
   "outputs": [],
   "source": [
    "def get_unique_parts(df):\n",
    "    l1 = []\n",
    "    l2 = []\n",
    "    for row in df.itertuples():\n",
    "        l1.append(list(set(row[4]).difference(row[5])))\n",
    "        l2.append(list(set(row[5]).difference(row[4])))\n",
    "    new_frame = pd.DataFrame(\n",
    "    {'first_unique': l1,\n",
    "     'second_unique': l2,\n",
    "    })\n",
    "    return new_frame"
   ]
  },
  {
   "cell_type": "code",
   "execution_count": 10,
   "metadata": {
    "collapsed": false
   },
   "outputs": [],
   "source": [
    "delta = get_unique_parts(train)"
   ]
  },
  {
   "cell_type": "code",
   "execution_count": 11,
   "metadata": {
    "collapsed": false
   },
   "outputs": [
    {
     "data": {
      "text/html": [
       "<div>\n",
       "<table border=\"1\" class=\"dataframe\">\n",
       "  <thead>\n",
       "    <tr style=\"text-align: right;\">\n",
       "      <th></th>\n",
       "      <th>first_unique</th>\n",
       "      <th>second_unique</th>\n",
       "    </tr>\n",
       "  </thead>\n",
       "  <tbody>\n",
       "    <tr>\n",
       "      <th>0</th>\n",
       "      <td>[india]</td>\n",
       "      <td>[]</td>\n",
       "    </tr>\n",
       "    <tr>\n",
       "      <th>1</th>\n",
       "      <td>[story, of, is]</td>\n",
       "      <td>[would, government, back, indian, stole, happe...</td>\n",
       "    </tr>\n",
       "    <tr>\n",
       "      <th>2</th>\n",
       "      <td>[a, i, of, connection, increase, while, using,...</td>\n",
       "      <td>[be, increased, through, dns, hacking, by]</td>\n",
       "    </tr>\n",
       "    <tr>\n",
       "      <th>3</th>\n",
       "      <td>[lonely, i, am, it, how, solve, can, very, why...</td>\n",
       "      <td>[is, 2423, when, find, the, math2324math, rema...</td>\n",
       "    </tr>\n",
       "    <tr>\n",
       "      <th>4</th>\n",
       "      <td>[and, di, one, oxide, quikly, carbon, sugar, d...</td>\n",
       "      <td>[would, survive, fish]</td>\n",
       "    </tr>\n",
       "  </tbody>\n",
       "</table>\n",
       "</div>"
      ],
      "text/plain": [
       "                                        first_unique  \\\n",
       "0                                            [india]   \n",
       "1                                    [story, of, is]   \n",
       "2  [a, i, of, connection, increase, while, using,...   \n",
       "3  [lonely, i, am, it, how, solve, can, very, why...   \n",
       "4  [and, di, one, oxide, quikly, carbon, sugar, d...   \n",
       "\n",
       "                                       second_unique  \n",
       "0                                                 []  \n",
       "1  [would, government, back, indian, stole, happe...  \n",
       "2         [be, increased, through, dns, hacking, by]  \n",
       "3  [is, 2423, when, find, the, math2324math, rema...  \n",
       "4                             [would, survive, fish]  "
      ]
     },
     "execution_count": 11,
     "metadata": {},
     "output_type": "execute_result"
    }
   ],
   "source": [
    "delta.head()"
   ]
  },
  {
   "cell_type": "markdown",
   "metadata": {},
   "source": [
    "# TF-IDF"
   ]
  },
  {
   "cell_type": "code",
   "execution_count": 12,
   "metadata": {
    "collapsed": false
   },
   "outputs": [
    {
     "data": {
      "text/html": [
       "<div>\n",
       "<table border=\"1\" class=\"dataframe\">\n",
       "  <thead>\n",
       "    <tr style=\"text-align: right;\">\n",
       "      <th></th>\n",
       "      <th>text</th>\n",
       "    </tr>\n",
       "  </thead>\n",
       "  <tbody>\n",
       "    <tr>\n",
       "      <th>0</th>\n",
       "      <td>what is the step by step guide to invest in sh...</td>\n",
       "    </tr>\n",
       "    <tr>\n",
       "      <th>1</th>\n",
       "      <td>what is the story of kohinoor kohinoor diamond...</td>\n",
       "    </tr>\n",
       "    <tr>\n",
       "      <th>2</th>\n",
       "      <td>how can i increase the speed of my internet co...</td>\n",
       "    </tr>\n",
       "    <tr>\n",
       "      <th>3</th>\n",
       "      <td>why am i mentally very lonely how can i solve ...</td>\n",
       "    </tr>\n",
       "    <tr>\n",
       "      <th>4</th>\n",
       "      <td>which one dissolve in water quikly sugar salt ...</td>\n",
       "    </tr>\n",
       "  </tbody>\n",
       "</table>\n",
       "</div>"
      ],
      "text/plain": [
       "                                                text\n",
       "0  what is the step by step guide to invest in sh...\n",
       "1  what is the story of kohinoor kohinoor diamond...\n",
       "2  how can i increase the speed of my internet co...\n",
       "3  why am i mentally very lonely how can i solve ...\n",
       "4  which one dissolve in water quikly sugar salt ..."
      ]
     },
     "execution_count": 12,
     "metadata": {},
     "output_type": "execute_result"
    }
   ],
   "source": [
    "tfidf_data = pd.DataFrame()\n",
    "tfidf_data['text'] = train['question1'] + train['question2']\n",
    "tfidf_data['text'] = tfidf_data['text'].apply(lambda x: ' '.join(x))\n",
    "tfidf_data.head()"
   ]
  },
  {
   "cell_type": "code",
   "execution_count": 13,
   "metadata": {
    "collapsed": false
   },
   "outputs": [],
   "source": [
    "#stemming - trying to drop all word endings\n",
    "from nltk.stem.snowball import SnowballStemmer\n",
    "stemmer = SnowballStemmer(\"english\")\n",
    "stemmed = tfidf_data.text.map(lambda x: ' '.join([stemmer.stem(y) for y in x.decode('utf-8').split(' ')]))"
   ]
  },
  {
   "cell_type": "code",
   "execution_count": 14,
   "metadata": {
    "collapsed": false
   },
   "outputs": [
    {
     "data": {
      "text/plain": [
       "0    what is the step by step guid to invest in sha...\n",
       "1    what is the stori of kohinoor kohinoor diamond...\n",
       "2    how can i increas the speed of my internet con...\n",
       "3    whi am i mental veri lone how can i solv it fi...\n",
       "4    which one dissolv in water quik sugar salt met...\n",
       "Name: text, dtype: object"
      ]
     },
     "execution_count": 14,
     "metadata": {},
     "output_type": "execute_result"
    }
   ],
   "source": [
    "stemmed.head()"
   ]
  },
  {
   "cell_type": "code",
   "execution_count": 15,
   "metadata": {
    "collapsed": true
   },
   "outputs": [],
   "source": [
    "from sklearn.feature_extraction.text import CountVectorizer\n",
    "from sklearn.feature_extraction.text import TfidfTransformer"
   ]
  },
  {
   "cell_type": "code",
   "execution_count": 16,
   "metadata": {
    "collapsed": false
   },
   "outputs": [
    {
     "data": {
      "text/plain": [
       "CountVectorizer(analyzer=u'word', binary=False, decode_error=u'strict',\n",
       "        dtype=<type 'numpy.int64'>, encoding=u'utf-8', input=u'content',\n",
       "        lowercase=True, max_df=0.1, max_features=None, min_df=2,\n",
       "        ngram_range=(1, 1), preprocessor=None, stop_words='english',\n",
       "        strip_accents=None, token_pattern=u'(?u)\\\\b\\\\w\\\\w+\\\\b',\n",
       "        tokenizer=None, vocabulary=None)"
      ]
     },
     "execution_count": 16,
     "metadata": {},
     "output_type": "execute_result"
    }
   ],
   "source": [
    "#cvec.fit(tfidf_data.text)\n",
    "cvec = CountVectorizer(stop_words='english',min_df=2, max_df=0.1)\n",
    "cvec.fit(stemmed)"
   ]
  },
  {
   "cell_type": "code",
   "execution_count": 17,
   "metadata": {
    "collapsed": false
   },
   "outputs": [
    {
     "data": {
      "text/plain": [
       "40439"
      ]
     },
     "execution_count": 17,
     "metadata": {},
     "output_type": "execute_result"
    }
   ],
   "source": [
    "len(cvec.vocabulary_)"
   ]
  },
  {
   "cell_type": "code",
   "execution_count": 18,
   "metadata": {
    "collapsed": false
   },
   "outputs": [
    {
     "name": "stdout",
     "output_type": "stream",
     "text": [
      "('sparse matrix shape:', (404288, 40439))\n",
      "('nonzero count:', 2906708)\n",
      "sparsity: 0.02%\n"
     ]
    }
   ],
   "source": [
    "cvec_counts = cvec.transform(stemmed)\n",
    "print ('sparse matrix shape:', cvec_counts.shape)\n",
    "print ('nonzero count:', cvec_counts.nnz)\n",
    "print ('sparsity: %.2f%%' % (100.0 * cvec_counts.nnz / (cvec_counts.shape[0] * cvec_counts.shape[1])))"
   ]
  },
  {
   "cell_type": "code",
   "execution_count": 19,
   "metadata": {
    "collapsed": false
   },
   "outputs": [
    {
     "data": {
      "text/html": [
       "<div>\n",
       "<table border=\"1\" class=\"dataframe\">\n",
       "  <thead>\n",
       "    <tr style=\"text-align: right;\">\n",
       "      <th></th>\n",
       "      <th>occurrences</th>\n",
       "      <th>term</th>\n",
       "    </tr>\n",
       "  </thead>\n",
       "  <tbody>\n",
       "    <tr>\n",
       "      <th>18360</th>\n",
       "      <td>29387</td>\n",
       "      <td>india</td>\n",
       "    </tr>\n",
       "    <tr>\n",
       "      <th>21336</th>\n",
       "      <td>28260</td>\n",
       "      <td>like</td>\n",
       "    </tr>\n",
       "    <tr>\n",
       "      <th>37835</th>\n",
       "      <td>27041</td>\n",
       "      <td>use</td>\n",
       "    </tr>\n",
       "    <tr>\n",
       "      <th>27502</th>\n",
       "      <td>26496</td>\n",
       "      <td>peopl</td>\n",
       "    </tr>\n",
       "    <tr>\n",
       "      <th>15751</th>\n",
       "      <td>25066</td>\n",
       "      <td>good</td>\n",
       "    </tr>\n",
       "    <tr>\n",
       "      <th>38849</th>\n",
       "      <td>24979</td>\n",
       "      <td>way</td>\n",
       "    </tr>\n",
       "    <tr>\n",
       "      <th>11305</th>\n",
       "      <td>24091</td>\n",
       "      <td>differ</td>\n",
       "    </tr>\n",
       "    <tr>\n",
       "      <th>22184</th>\n",
       "      <td>23293</td>\n",
       "      <td>make</td>\n",
       "    </tr>\n",
       "    <tr>\n",
       "      <th>29625</th>\n",
       "      <td>18175</td>\n",
       "      <td>quora</td>\n",
       "    </tr>\n",
       "    <tr>\n",
       "      <th>21016</th>\n",
       "      <td>17945</td>\n",
       "      <td>learn</td>\n",
       "    </tr>\n",
       "  </tbody>\n",
       "</table>\n",
       "</div>"
      ],
      "text/plain": [
       "       occurrences    term\n",
       "18360        29387   india\n",
       "21336        28260    like\n",
       "37835        27041     use\n",
       "27502        26496   peopl\n",
       "15751        25066    good\n",
       "38849        24979     way\n",
       "11305        24091  differ\n",
       "22184        23293    make\n",
       "29625        18175   quora\n",
       "21016        17945   learn"
      ]
     },
     "execution_count": 19,
     "metadata": {},
     "output_type": "execute_result"
    }
   ],
   "source": [
    "occ = np.asarray(cvec_counts.sum(axis=0)).ravel().tolist()\n",
    "counts_df = pd.DataFrame({'term': cvec.get_feature_names(), 'occurrences': occ})\n",
    "counts_df.sort_values(by='occurrences', ascending=False).head(10)"
   ]
  },
  {
   "cell_type": "code",
   "execution_count": 20,
   "metadata": {
    "collapsed": false
   },
   "outputs": [
    {
     "data": {
      "text/plain": [
       "<404288x40439 sparse matrix of type '<type 'numpy.float64'>'\n",
       "\twith 2906708 stored elements in Compressed Sparse Row format>"
      ]
     },
     "execution_count": 20,
     "metadata": {},
     "output_type": "execute_result"
    }
   ],
   "source": [
    "transformer = TfidfTransformer()\n",
    "transformed_weights = transformer.fit_transform(cvec_counts)\n",
    "transformed_weights"
   ]
  },
  {
   "cell_type": "code",
   "execution_count": 21,
   "metadata": {
    "collapsed": false
   },
   "outputs": [
    {
     "data": {
      "text/html": [
       "<div>\n",
       "<table border=\"1\" class=\"dataframe\">\n",
       "  <thead>\n",
       "    <tr style=\"text-align: right;\">\n",
       "      <th></th>\n",
       "      <th>term</th>\n",
       "      <th>weight</th>\n",
       "    </tr>\n",
       "  </thead>\n",
       "  <tbody>\n",
       "    <tr>\n",
       "      <th>28398</th>\n",
       "      <td>porblem</td>\n",
       "      <td>7.077604e-07</td>\n",
       "    </tr>\n",
       "    <tr>\n",
       "      <th>1882</th>\n",
       "      <td>4x17</td>\n",
       "      <td>8.101529e-07</td>\n",
       "    </tr>\n",
       "    <tr>\n",
       "      <th>1040</th>\n",
       "      <td>20cm</td>\n",
       "      <td>8.110702e-07</td>\n",
       "    </tr>\n",
       "    <tr>\n",
       "      <th>17258</th>\n",
       "      <td>hollowpoint</td>\n",
       "      <td>8.688289e-07</td>\n",
       "    </tr>\n",
       "    <tr>\n",
       "      <th>21919</th>\n",
       "      <td>m265</td>\n",
       "      <td>8.831492e-07</td>\n",
       "    </tr>\n",
       "    <tr>\n",
       "      <th>35343</th>\n",
       "      <td>tambola</td>\n",
       "      <td>8.833273e-07</td>\n",
       "    </tr>\n",
       "    <tr>\n",
       "      <th>31560</th>\n",
       "      <td>saluki</td>\n",
       "      <td>8.881040e-07</td>\n",
       "    </tr>\n",
       "    <tr>\n",
       "      <th>596</th>\n",
       "      <td>1720</td>\n",
       "      <td>9.041358e-07</td>\n",
       "    </tr>\n",
       "    <tr>\n",
       "      <th>15074</th>\n",
       "      <td>gamecock</td>\n",
       "      <td>9.058218e-07</td>\n",
       "    </tr>\n",
       "    <tr>\n",
       "      <th>15390</th>\n",
       "      <td>gerri</td>\n",
       "      <td>9.130964e-07</td>\n",
       "    </tr>\n",
       "  </tbody>\n",
       "</table>\n",
       "</div>"
      ],
      "text/plain": [
       "              term        weight\n",
       "28398      porblem  7.077604e-07\n",
       "1882          4x17  8.101529e-07\n",
       "1040          20cm  8.110702e-07\n",
       "17258  hollowpoint  8.688289e-07\n",
       "21919         m265  8.831492e-07\n",
       "35343      tambola  8.833273e-07\n",
       "31560       saluki  8.881040e-07\n",
       "596           1720  9.041358e-07\n",
       "15074     gamecock  9.058218e-07\n",
       "15390        gerri  9.130964e-07"
      ]
     },
     "execution_count": 21,
     "metadata": {},
     "output_type": "execute_result"
    }
   ],
   "source": [
    "weights = np.asarray(transformed_weights.mean(axis=0)).ravel().tolist()\n",
    "weights_df = pd.DataFrame({'term': cvec.get_feature_names(), 'weight': weights})\n",
    "weights_df.sort_values(by='weight', ascending=True).head(10)"
   ]
  },
  {
   "cell_type": "code",
   "execution_count": 23,
   "metadata": {
    "collapsed": false
   },
   "outputs": [],
   "source": [
    "weights_df.to_csv(data_dir+'tfidf.csv', encoding='utf8')"
   ]
  },
  {
   "cell_type": "code",
   "execution_count": 22,
   "metadata": {
    "collapsed": false
   },
   "outputs": [
    {
     "data": {
      "text/html": [
       "<div>\n",
       "<table border=\"1\" class=\"dataframe\">\n",
       "  <thead>\n",
       "    <tr style=\"text-align: right;\">\n",
       "      <th></th>\n",
       "      <th>term</th>\n",
       "      <th>weight</th>\n",
       "    </tr>\n",
       "  </thead>\n",
       "  <tbody>\n",
       "    <tr>\n",
       "      <th>22189</th>\n",
       "      <td>maker</td>\n",
       "      <td>0.000100</td>\n",
       "    </tr>\n",
       "    <tr>\n",
       "      <th>20381</th>\n",
       "      <td>knight</td>\n",
       "      <td>0.000100</td>\n",
       "    </tr>\n",
       "    <tr>\n",
       "      <th>6219</th>\n",
       "      <td>bitter</td>\n",
       "      <td>0.000100</td>\n",
       "    </tr>\n",
       "    <tr>\n",
       "      <th>18157</th>\n",
       "      <td>immun</td>\n",
       "      <td>0.000100</td>\n",
       "    </tr>\n",
       "    <tr>\n",
       "      <th>18952</th>\n",
       "      <td>ipo</td>\n",
       "      <td>0.000100</td>\n",
       "    </tr>\n",
       "    <tr>\n",
       "      <th>33869</th>\n",
       "      <td>spent</td>\n",
       "      <td>0.000100</td>\n",
       "    </tr>\n",
       "    <tr>\n",
       "      <th>28534</th>\n",
       "      <td>potus</td>\n",
       "      <td>0.000101</td>\n",
       "    </tr>\n",
       "    <tr>\n",
       "      <th>19641</th>\n",
       "      <td>journalist</td>\n",
       "      <td>0.000101</td>\n",
       "    </tr>\n",
       "    <tr>\n",
       "      <th>27884</th>\n",
       "      <td>pickup</td>\n",
       "      <td>0.000101</td>\n",
       "    </tr>\n",
       "    <tr>\n",
       "      <th>26304</th>\n",
       "      <td>oneplus</td>\n",
       "      <td>0.000101</td>\n",
       "    </tr>\n",
       "  </tbody>\n",
       "</table>\n",
       "</div>"
      ],
      "text/plain": [
       "             term    weight\n",
       "22189       maker  0.000100\n",
       "20381      knight  0.000100\n",
       "6219       bitter  0.000100\n",
       "18157       immun  0.000100\n",
       "18952         ipo  0.000100\n",
       "33869       spent  0.000100\n",
       "28534       potus  0.000101\n",
       "19641  journalist  0.000101\n",
       "27884      pickup  0.000101\n",
       "26304     oneplus  0.000101"
      ]
     },
     "execution_count": 22,
     "metadata": {},
     "output_type": "execute_result"
    }
   ],
   "source": [
    "weights_df[weights_df['weight'] > 0.0001].sort_values(by='weight', ascending=True).head(10)"
   ]
  },
  {
   "cell_type": "code",
   "execution_count": 23,
   "metadata": {
    "collapsed": false
   },
   "outputs": [
    {
     "data": {
      "text/plain": [
       "True"
      ]
     },
     "execution_count": 23,
     "metadata": {},
     "output_type": "execute_result"
    }
   ],
   "source": [
    "weights_df[weights_df['term']=='kushi'].empty"
   ]
  },
  {
   "cell_type": "code",
   "execution_count": 24,
   "metadata": {
    "collapsed": false
   },
   "outputs": [
    {
     "data": {
      "text/plain": [
       "u'immun'"
      ]
     },
     "execution_count": 24,
     "metadata": {},
     "output_type": "execute_result"
    }
   ],
   "source": [
    "stemmer.stem('immune')"
   ]
  },
  {
   "cell_type": "code",
   "execution_count": 25,
   "metadata": {
    "collapsed": false
   },
   "outputs": [
    {
     "data": {
      "text/plain": [
       "404288"
      ]
     },
     "execution_count": 25,
     "metadata": {},
     "output_type": "execute_result"
    }
   ],
   "source": [
    "len(delta)"
   ]
  },
  {
   "cell_type": "code",
   "execution_count": 26,
   "metadata": {
    "collapsed": false
   },
   "outputs": [
    {
     "data": {
      "text/plain": [
       "['one', 'two', 'three', 'immune', 'indians']"
      ]
     },
     "execution_count": 26,
     "metadata": {},
     "output_type": "execute_result"
    }
   ],
   "source": [
    "test_list = ['one','two','three','immune','indians']\n",
    "for item in test_list:\n",
    "    item = stemmer.stem(item)\n",
    "test_list"
   ]
  },
  {
   "cell_type": "code",
   "execution_count": 27,
   "metadata": {
    "collapsed": true
   },
   "outputs": [],
   "source": [
    "def trim_unique(df):\n",
    "    ll1 = []\n",
    "    ll2 = []\n",
    "    for row in df.itertuples():\n",
    "        l1 = []\n",
    "        l2 = []\n",
    "        for item in row[1]:\n",
    "            l1.append(stemmer.stem(item.decode('utf-8')))\n",
    "        for item in row[2]:\n",
    "            l2.append(stemmer.stem(item.decode('utf-8')))\n",
    "        ll1.append(l1)\n",
    "        ll2.append(l2)\n",
    "    new_frame = pd.DataFrame(\n",
    "    {'first_trimmed': ll1,\n",
    "     'second_trimmed': ll2,\n",
    "    })\n",
    "    return new_frame"
   ]
  },
  {
   "cell_type": "code",
   "execution_count": 28,
   "metadata": {
    "collapsed": false
   },
   "outputs": [],
   "source": [
    "delta = delta.join(trim_unique(delta))"
   ]
  },
  {
   "cell_type": "code",
   "execution_count": 29,
   "metadata": {
    "collapsed": false
   },
   "outputs": [
    {
     "data": {
      "text/html": [
       "<div>\n",
       "<table border=\"1\" class=\"dataframe\">\n",
       "  <thead>\n",
       "    <tr style=\"text-align: right;\">\n",
       "      <th></th>\n",
       "      <th>first_unique</th>\n",
       "      <th>second_unique</th>\n",
       "      <th>first_trimmed</th>\n",
       "      <th>second_trimmed</th>\n",
       "    </tr>\n",
       "  </thead>\n",
       "  <tbody>\n",
       "    <tr>\n",
       "      <th>0</th>\n",
       "      <td>[india]</td>\n",
       "      <td>[]</td>\n",
       "      <td>[india]</td>\n",
       "      <td>[]</td>\n",
       "    </tr>\n",
       "    <tr>\n",
       "      <th>1</th>\n",
       "      <td>[story, of, is]</td>\n",
       "      <td>[would, government, back, indian, stole, happe...</td>\n",
       "      <td>[stori, of, is]</td>\n",
       "      <td>[would, govern, back, indian, stole, happen, if]</td>\n",
       "    </tr>\n",
       "    <tr>\n",
       "      <th>2</th>\n",
       "      <td>[a, i, of, connection, increase, while, using,...</td>\n",
       "      <td>[be, increased, through, dns, hacking, by]</td>\n",
       "      <td>[a, i, of, connect, increas, while, use, the, ...</td>\n",
       "      <td>[be, increas, through, dns, hack, by]</td>\n",
       "    </tr>\n",
       "    <tr>\n",
       "      <th>3</th>\n",
       "      <td>[lonely, i, am, it, how, solve, can, very, why...</td>\n",
       "      <td>[is, 2423, when, find, the, math2324math, rema...</td>\n",
       "      <td>[lone, i, am, it, how, solv, can, veri, whi, m...</td>\n",
       "      <td>[is, 2423, when, find, the, math2324math, rema...</td>\n",
       "    </tr>\n",
       "    <tr>\n",
       "      <th>4</th>\n",
       "      <td>[and, di, one, oxide, quikly, carbon, sugar, d...</td>\n",
       "      <td>[would, survive, fish]</td>\n",
       "      <td>[and, di, one, oxid, quik, carbon, sugar, diss...</td>\n",
       "      <td>[would, surviv, fish]</td>\n",
       "    </tr>\n",
       "    <tr>\n",
       "      <th>5</th>\n",
       "      <td>[that, i, cap, am, risingwhat, astrology]</td>\n",
       "      <td>[what, ascendant, this, im, triple, in]</td>\n",
       "      <td>[that, i, cap, am, risingwhat, astrolog]</td>\n",
       "      <td>[what, ascend, this, im, tripl, in]</td>\n",
       "    </tr>\n",
       "    <tr>\n",
       "      <th>6</th>\n",
       "      <td>[i, buy, tiago, should]</td>\n",
       "      <td>[and, what, from, childern, far, phone, video,...</td>\n",
       "      <td>[i, buy, tiago, should]</td>\n",
       "      <td>[and, what, from, childern, far, phone, video,...</td>\n",
       "    </tr>\n",
       "    <tr>\n",
       "      <th>7</th>\n",
       "      <td>[how, good, can]</td>\n",
       "      <td>[do, what, great, should, to]</td>\n",
       "      <td>[how, good, can]</td>\n",
       "      <td>[do, what, great, should, to]</td>\n",
       "    </tr>\n",
       "    <tr>\n",
       "      <th>8</th>\n",
       "      <td>[し, シ]</td>\n",
       "      <td>[and]</td>\n",
       "      <td>[し, シ]</td>\n",
       "      <td>[and]</td>\n",
       "    </tr>\n",
       "    <tr>\n",
       "      <th>9</th>\n",
       "      <td>[charter, company, can, motorolla, my]</td>\n",
       "      <td>[do, for, internet, free, how]</td>\n",
       "      <td>[charter, compani, can, motorolla, my]</td>\n",
       "      <td>[do, for, internet, free, how]</td>\n",
       "    </tr>\n",
       "  </tbody>\n",
       "</table>\n",
       "</div>"
      ],
      "text/plain": [
       "                                        first_unique  \\\n",
       "0                                            [india]   \n",
       "1                                    [story, of, is]   \n",
       "2  [a, i, of, connection, increase, while, using,...   \n",
       "3  [lonely, i, am, it, how, solve, can, very, why...   \n",
       "4  [and, di, one, oxide, quikly, carbon, sugar, d...   \n",
       "5          [that, i, cap, am, risingwhat, astrology]   \n",
       "6                            [i, buy, tiago, should]   \n",
       "7                                   [how, good, can]   \n",
       "8                                             [し, シ]   \n",
       "9             [charter, company, can, motorolla, my]   \n",
       "\n",
       "                                       second_unique  \\\n",
       "0                                                 []   \n",
       "1  [would, government, back, indian, stole, happe...   \n",
       "2         [be, increased, through, dns, hacking, by]   \n",
       "3  [is, 2423, when, find, the, math2324math, rema...   \n",
       "4                             [would, survive, fish]   \n",
       "5            [what, ascendant, this, im, triple, in]   \n",
       "6  [and, what, from, childern, far, phone, video,...   \n",
       "7                      [do, what, great, should, to]   \n",
       "8                                              [and]   \n",
       "9                     [do, for, internet, free, how]   \n",
       "\n",
       "                                       first_trimmed  \\\n",
       "0                                            [india]   \n",
       "1                                    [stori, of, is]   \n",
       "2  [a, i, of, connect, increas, while, use, the, ...   \n",
       "3  [lone, i, am, it, how, solv, can, veri, whi, m...   \n",
       "4  [and, di, one, oxid, quik, carbon, sugar, diss...   \n",
       "5           [that, i, cap, am, risingwhat, astrolog]   \n",
       "6                            [i, buy, tiago, should]   \n",
       "7                                   [how, good, can]   \n",
       "8                                             [し, シ]   \n",
       "9             [charter, compani, can, motorolla, my]   \n",
       "\n",
       "                                      second_trimmed  \n",
       "0                                                 []  \n",
       "1   [would, govern, back, indian, stole, happen, if]  \n",
       "2              [be, increas, through, dns, hack, by]  \n",
       "3  [is, 2423, when, find, the, math2324math, rema...  \n",
       "4                              [would, surviv, fish]  \n",
       "5                [what, ascend, this, im, tripl, in]  \n",
       "6  [and, what, from, childern, far, phone, video,...  \n",
       "7                      [do, what, great, should, to]  \n",
       "8                                              [and]  \n",
       "9                     [do, for, internet, free, how]  "
      ]
     },
     "execution_count": 29,
     "metadata": {},
     "output_type": "execute_result"
    }
   ],
   "source": [
    "delta.head(10)"
   ]
  },
  {
   "cell_type": "code",
   "execution_count": 30,
   "metadata": {
    "collapsed": false
   },
   "outputs": [
    {
     "data": {
      "text/html": [
       "<div>\n",
       "<table border=\"1\" class=\"dataframe\">\n",
       "  <thead>\n",
       "    <tr style=\"text-align: right;\">\n",
       "      <th></th>\n",
       "      <th>id</th>\n",
       "      <th>qid1</th>\n",
       "      <th>qid2</th>\n",
       "      <th>question1</th>\n",
       "      <th>question2</th>\n",
       "      <th>is_duplicate</th>\n",
       "    </tr>\n",
       "  </thead>\n",
       "  <tbody>\n",
       "    <tr>\n",
       "      <th>0</th>\n",
       "      <td>0</td>\n",
       "      <td>1</td>\n",
       "      <td>2</td>\n",
       "      <td>[what, is, the, step, by, step, guide, to, inv...</td>\n",
       "      <td>[what, is, the, step, by, step, guide, to, inv...</td>\n",
       "      <td>0</td>\n",
       "    </tr>\n",
       "    <tr>\n",
       "      <th>1</th>\n",
       "      <td>1</td>\n",
       "      <td>3</td>\n",
       "      <td>4</td>\n",
       "      <td>[what, is, the, story, of, kohinoor, kohinoor,...</td>\n",
       "      <td>[what, would, happen, if, the, indian, governm...</td>\n",
       "      <td>0</td>\n",
       "    </tr>\n",
       "    <tr>\n",
       "      <th>2</th>\n",
       "      <td>2</td>\n",
       "      <td>5</td>\n",
       "      <td>6</td>\n",
       "      <td>[how, can, i, increase, the, speed, of, my, in...</td>\n",
       "      <td>[how, can, internet, speed, be, increased, by,...</td>\n",
       "      <td>0</td>\n",
       "    </tr>\n",
       "    <tr>\n",
       "      <th>3</th>\n",
       "      <td>3</td>\n",
       "      <td>7</td>\n",
       "      <td>8</td>\n",
       "      <td>[why, am, i, mentally, very, lonely, how, can,...</td>\n",
       "      <td>[find, the, remainder, when, math2324math, is,...</td>\n",
       "      <td>0</td>\n",
       "    </tr>\n",
       "    <tr>\n",
       "      <th>4</th>\n",
       "      <td>4</td>\n",
       "      <td>9</td>\n",
       "      <td>10</td>\n",
       "      <td>[which, one, dissolve, in, water, quikly, suga...</td>\n",
       "      <td>[which, fish, would, survive, in, salt, water]</td>\n",
       "      <td>0</td>\n",
       "    </tr>\n",
       "    <tr>\n",
       "      <th>5</th>\n",
       "      <td>5</td>\n",
       "      <td>11</td>\n",
       "      <td>12</td>\n",
       "      <td>[astrology, i, am, a, capricorn, sun, cap, moo...</td>\n",
       "      <td>[im, a, triple, capricorn, sun, moon, and, asc...</td>\n",
       "      <td>1</td>\n",
       "    </tr>\n",
       "    <tr>\n",
       "      <th>6</th>\n",
       "      <td>6</td>\n",
       "      <td>13</td>\n",
       "      <td>14</td>\n",
       "      <td>[should, i, buy, tiago]</td>\n",
       "      <td>[what, keeps, childern, active, and, far, from...</td>\n",
       "      <td>0</td>\n",
       "    </tr>\n",
       "    <tr>\n",
       "      <th>7</th>\n",
       "      <td>7</td>\n",
       "      <td>15</td>\n",
       "      <td>16</td>\n",
       "      <td>[how, can, i, be, a, good, geologist]</td>\n",
       "      <td>[what, should, i, do, to, be, a, great, geolog...</td>\n",
       "      <td>1</td>\n",
       "    </tr>\n",
       "    <tr>\n",
       "      <th>8</th>\n",
       "      <td>8</td>\n",
       "      <td>17</td>\n",
       "      <td>18</td>\n",
       "      <td>[when, do, you, use, シ, instead, of, し]</td>\n",
       "      <td>[when, do, you, use, instead, of, and]</td>\n",
       "      <td>0</td>\n",
       "    </tr>\n",
       "    <tr>\n",
       "      <th>9</th>\n",
       "      <td>9</td>\n",
       "      <td>19</td>\n",
       "      <td>20</td>\n",
       "      <td>[motorola, company, can, i, hack, my, charter,...</td>\n",
       "      <td>[how, do, i, hack, motorola, dcx3400, for, fre...</td>\n",
       "      <td>0</td>\n",
       "    </tr>\n",
       "  </tbody>\n",
       "</table>\n",
       "</div>"
      ],
      "text/plain": [
       "   id  qid1  qid2                                          question1  \\\n",
       "0   0     1     2  [what, is, the, step, by, step, guide, to, inv...   \n",
       "1   1     3     4  [what, is, the, story, of, kohinoor, kohinoor,...   \n",
       "2   2     5     6  [how, can, i, increase, the, speed, of, my, in...   \n",
       "3   3     7     8  [why, am, i, mentally, very, lonely, how, can,...   \n",
       "4   4     9    10  [which, one, dissolve, in, water, quikly, suga...   \n",
       "5   5    11    12  [astrology, i, am, a, capricorn, sun, cap, moo...   \n",
       "6   6    13    14                            [should, i, buy, tiago]   \n",
       "7   7    15    16              [how, can, i, be, a, good, geologist]   \n",
       "8   8    17    18            [when, do, you, use, シ, instead, of, し]   \n",
       "9   9    19    20  [motorola, company, can, i, hack, my, charter,...   \n",
       "\n",
       "                                           question2  is_duplicate  \n",
       "0  [what, is, the, step, by, step, guide, to, inv...             0  \n",
       "1  [what, would, happen, if, the, indian, governm...             0  \n",
       "2  [how, can, internet, speed, be, increased, by,...             0  \n",
       "3  [find, the, remainder, when, math2324math, is,...             0  \n",
       "4     [which, fish, would, survive, in, salt, water]             0  \n",
       "5  [im, a, triple, capricorn, sun, moon, and, asc...             1  \n",
       "6  [what, keeps, childern, active, and, far, from...             0  \n",
       "7  [what, should, i, do, to, be, a, great, geolog...             1  \n",
       "8             [when, do, you, use, instead, of, and]             0  \n",
       "9  [how, do, i, hack, motorola, dcx3400, for, fre...             0  "
      ]
     },
     "execution_count": 30,
     "metadata": {},
     "output_type": "execute_result"
    }
   ],
   "source": [
    "train.head(10)"
   ]
  },
  {
   "cell_type": "code",
   "execution_count": 31,
   "metadata": {
    "collapsed": false
   },
   "outputs": [
    {
     "data": {
      "text/plain": [
       "['astrology',\n",
       " 'i',\n",
       " 'am',\n",
       " 'a',\n",
       " 'capricorn',\n",
       " 'sun',\n",
       " 'cap',\n",
       " 'moon',\n",
       " 'and',\n",
       " 'cap',\n",
       " 'risingwhat',\n",
       " 'does',\n",
       " 'that',\n",
       " 'say',\n",
       " 'about',\n",
       " 'me']"
      ]
     },
     "execution_count": 31,
     "metadata": {},
     "output_type": "execute_result"
    }
   ],
   "source": [
    "train.loc[5, 'question1']"
   ]
  },
  {
   "cell_type": "code",
   "execution_count": 32,
   "metadata": {
    "collapsed": false
   },
   "outputs": [
    {
     "data": {
      "text/plain": [
       "['im',\n",
       " 'a',\n",
       " 'triple',\n",
       " 'capricorn',\n",
       " 'sun',\n",
       " 'moon',\n",
       " 'and',\n",
       " 'ascendant',\n",
       " 'in',\n",
       " 'capricorn',\n",
       " 'what',\n",
       " 'does',\n",
       " 'this',\n",
       " 'say',\n",
       " 'about',\n",
       " 'me']"
      ]
     },
     "execution_count": 32,
     "metadata": {},
     "output_type": "execute_result"
    }
   ],
   "source": [
    "train.loc[5, 'question2']"
   ]
  },
  {
   "cell_type": "markdown",
   "metadata": {},
   "source": [
    "### all together with keyed vector load is ~10 minutes"
   ]
  },
  {
   "cell_type": "markdown",
   "metadata": {},
   "source": [
    "# Word embeddings"
   ]
  },
  {
   "cell_type": "code",
   "execution_count": 33,
   "metadata": {
    "collapsed": false
   },
   "outputs": [],
   "source": [
    "word_vectors = KeyedVectors.load_word2vec_format(lexvec_filepath)"
   ]
  },
  {
   "cell_type": "code",
   "execution_count": 34,
   "metadata": {
    "collapsed": false
   },
   "outputs": [
    {
     "data": {
      "text/plain": [
       "0.69059315947651323"
      ]
     },
     "execution_count": 34,
     "metadata": {},
     "output_type": "execute_result"
    }
   ],
   "source": [
    "word_vectors.similarity('indian','india')"
   ]
  },
  {
   "cell_type": "code",
   "execution_count": 35,
   "metadata": {
    "collapsed": false
   },
   "outputs": [
    {
     "data": {
      "text/plain": [
       "[(u'indian', 0.6905931234359741),\n",
       " (u'delhi', 0.6824976205825806),\n",
       " (u'subcontinent', 0.6603225469589233),\n",
       " (u'pradesh', 0.6530251502990723),\n",
       " (u'gujarat', 0.6477441787719727),\n",
       " (u'maharashtra', 0.6461658477783203),\n",
       " (u'mumbai', 0.6329033374786377),\n",
       " (u'uttar', 0.62990403175354),\n",
       " (u'bengal', 0.6288950443267822),\n",
       " (u'haryana', 0.6189148426055908)]"
      ]
     },
     "execution_count": 35,
     "metadata": {},
     "output_type": "execute_result"
    }
   ],
   "source": [
    "word_vectors.most_similar('india')"
   ]
  },
  {
   "cell_type": "code",
   "execution_count": 125,
   "metadata": {
    "collapsed": false
   },
   "outputs": [
    {
     "name": "stdout",
     "output_type": "stream",
     "text": [
      "True\n"
     ]
    }
   ],
   "source": [
    "test = weights_df.set_index('term')\n",
    "test.loc['suzann', 'weight']\n",
    "if 'suzann' in test.index:\n",
    "    print(True)\n",
    "else:\n",
    "    print(False)"
   ]
  },
  {
   "cell_type": "code",
   "execution_count": 126,
   "metadata": {
    "collapsed": true
   },
   "outputs": [],
   "source": [
    "weights_df = weights_df.set_index('term')"
   ]
  },
  {
   "cell_type": "code",
   "execution_count": 127,
   "metadata": {
    "collapsed": true
   },
   "outputs": [],
   "source": [
    "def check_value(item):\n",
    "    if item in weights_df.index:\n",
    "        return weights_df.loc[item,'weight']\n",
    "    return 0\n",
    "\n",
    "def count_tfidf(df):\n",
    "    ll1 = []\n",
    "    ll2 = []\n",
    "    for row in df.itertuples():\n",
    "        l1 = []\n",
    "        l2 = []\n",
    "        for item in row[3]:\n",
    "            l1.append(check_value(item))\n",
    "        for item in row[4]:\n",
    "            l2.append(check_value(item))\n",
    "        ll1.append(l1)\n",
    "        ll2.append(l2)\n",
    "    new_frame = pd.DataFrame(\n",
    "    {'first_tfidf': ll1,\n",
    "     'second_tfidf': ll2,\n",
    "    })\n",
    "    return new_frame"
   ]
  },
  {
   "cell_type": "code",
   "execution_count": 130,
   "metadata": {
    "collapsed": false
   },
   "outputs": [
    {
     "data": {
      "text/html": [
       "<div>\n",
       "<table border=\"1\" class=\"dataframe\">\n",
       "  <thead>\n",
       "    <tr style=\"text-align: right;\">\n",
       "      <th></th>\n",
       "      <th>first_unique</th>\n",
       "      <th>second_unique</th>\n",
       "      <th>first_trimmed</th>\n",
       "      <th>second_trimmed</th>\n",
       "    </tr>\n",
       "  </thead>\n",
       "  <tbody>\n",
       "    <tr>\n",
       "      <th>0</th>\n",
       "      <td>[india]</td>\n",
       "      <td>[]</td>\n",
       "      <td>[india]</td>\n",
       "      <td>[]</td>\n",
       "    </tr>\n",
       "    <tr>\n",
       "      <th>1</th>\n",
       "      <td>[story, of, is]</td>\n",
       "      <td>[would, government, back, indian, stole, happe...</td>\n",
       "      <td>[stori, of, is]</td>\n",
       "      <td>[would, govern, back, indian, stole, happen, if]</td>\n",
       "    </tr>\n",
       "    <tr>\n",
       "      <th>2</th>\n",
       "      <td>[a, i, of, connection, increase, while, using,...</td>\n",
       "      <td>[be, increased, through, dns, hacking, by]</td>\n",
       "      <td>[a, i, of, connect, increas, while, use, the, ...</td>\n",
       "      <td>[be, increas, through, dns, hack, by]</td>\n",
       "    </tr>\n",
       "    <tr>\n",
       "      <th>3</th>\n",
       "      <td>[lonely, i, am, it, how, solve, can, very, why...</td>\n",
       "      <td>[is, 2423, when, find, the, math2324math, rema...</td>\n",
       "      <td>[lone, i, am, it, how, solv, can, veri, whi, m...</td>\n",
       "      <td>[is, 2423, when, find, the, math2324math, rema...</td>\n",
       "    </tr>\n",
       "    <tr>\n",
       "      <th>4</th>\n",
       "      <td>[and, di, one, oxide, quikly, carbon, sugar, d...</td>\n",
       "      <td>[would, survive, fish]</td>\n",
       "      <td>[and, di, one, oxid, quik, carbon, sugar, diss...</td>\n",
       "      <td>[would, surviv, fish]</td>\n",
       "    </tr>\n",
       "    <tr>\n",
       "      <th>5</th>\n",
       "      <td>[that, i, cap, am, risingwhat, astrology]</td>\n",
       "      <td>[what, ascendant, this, im, triple, in]</td>\n",
       "      <td>[astrolog]</td>\n",
       "      <td>[im]</td>\n",
       "    </tr>\n",
       "    <tr>\n",
       "      <th>6</th>\n",
       "      <td>[i, buy, tiago, should]</td>\n",
       "      <td>[and, what, from, childern, far, phone, video,...</td>\n",
       "      <td>[i, buy, tiago, should]</td>\n",
       "      <td>[and, what, from, childern, far, phone, video,...</td>\n",
       "    </tr>\n",
       "    <tr>\n",
       "      <th>7</th>\n",
       "      <td>[how, good, can]</td>\n",
       "      <td>[do, what, great, should, to]</td>\n",
       "      <td>[how, good, can]</td>\n",
       "      <td>[do, what, great, should, to]</td>\n",
       "    </tr>\n",
       "    <tr>\n",
       "      <th>8</th>\n",
       "      <td>[し, シ]</td>\n",
       "      <td>[and]</td>\n",
       "      <td>[し, シ]</td>\n",
       "      <td>[and]</td>\n",
       "    </tr>\n",
       "    <tr>\n",
       "      <th>9</th>\n",
       "      <td>[charter, company, can, motorolla, my]</td>\n",
       "      <td>[do, for, internet, free, how]</td>\n",
       "      <td>[charter, compani, can, motorolla, my]</td>\n",
       "      <td>[do, for, internet, free, how]</td>\n",
       "    </tr>\n",
       "  </tbody>\n",
       "</table>\n",
       "</div>"
      ],
      "text/plain": [
       "                                        first_unique  \\\n",
       "0                                            [india]   \n",
       "1                                    [story, of, is]   \n",
       "2  [a, i, of, connection, increase, while, using,...   \n",
       "3  [lonely, i, am, it, how, solve, can, very, why...   \n",
       "4  [and, di, one, oxide, quikly, carbon, sugar, d...   \n",
       "5          [that, i, cap, am, risingwhat, astrology]   \n",
       "6                            [i, buy, tiago, should]   \n",
       "7                                   [how, good, can]   \n",
       "8                                             [し, シ]   \n",
       "9             [charter, company, can, motorolla, my]   \n",
       "\n",
       "                                       second_unique  \\\n",
       "0                                                 []   \n",
       "1  [would, government, back, indian, stole, happe...   \n",
       "2         [be, increased, through, dns, hacking, by]   \n",
       "3  [is, 2423, when, find, the, math2324math, rema...   \n",
       "4                             [would, survive, fish]   \n",
       "5            [what, ascendant, this, im, triple, in]   \n",
       "6  [and, what, from, childern, far, phone, video,...   \n",
       "7                      [do, what, great, should, to]   \n",
       "8                                              [and]   \n",
       "9                     [do, for, internet, free, how]   \n",
       "\n",
       "                                       first_trimmed  \\\n",
       "0                                            [india]   \n",
       "1                                    [stori, of, is]   \n",
       "2  [a, i, of, connect, increas, while, use, the, ...   \n",
       "3  [lone, i, am, it, how, solv, can, veri, whi, m...   \n",
       "4  [and, di, one, oxid, quik, carbon, sugar, diss...   \n",
       "5                                         [astrolog]   \n",
       "6                            [i, buy, tiago, should]   \n",
       "7                                   [how, good, can]   \n",
       "8                                             [し, シ]   \n",
       "9             [charter, compani, can, motorolla, my]   \n",
       "\n",
       "                                      second_trimmed  \n",
       "0                                                 []  \n",
       "1   [would, govern, back, indian, stole, happen, if]  \n",
       "2              [be, increas, through, dns, hack, by]  \n",
       "3  [is, 2423, when, find, the, math2324math, rema...  \n",
       "4                              [would, surviv, fish]  \n",
       "5                                               [im]  \n",
       "6  [and, what, from, childern, far, phone, video,...  \n",
       "7                      [do, what, great, should, to]  \n",
       "8                                              [and]  \n",
       "9                     [do, for, internet, free, how]  "
      ]
     },
     "execution_count": 130,
     "metadata": {},
     "output_type": "execute_result"
    }
   ],
   "source": [
    "test = delta[:10]\n",
    "\n",
    "test"
   ]
  },
  {
   "cell_type": "code",
   "execution_count": 131,
   "metadata": {
    "collapsed": false
   },
   "outputs": [
    {
     "data": {
      "text/html": [
       "<div>\n",
       "<table border=\"1\" class=\"dataframe\">\n",
       "  <thead>\n",
       "    <tr style=\"text-align: right;\">\n",
       "      <th></th>\n",
       "      <th>first_tfidf</th>\n",
       "      <th>second_tfidf</th>\n",
       "    </tr>\n",
       "  </thead>\n",
       "  <tbody>\n",
       "    <tr>\n",
       "      <th>0</th>\n",
       "      <td>[0.0110155138276]</td>\n",
       "      <td>[]</td>\n",
       "    </tr>\n",
       "    <tr>\n",
       "      <th>1</th>\n",
       "      <td>[0.00156110791557, 0, 0]</td>\n",
       "      <td>[0, 0.00204569964604, 0, 0.00530077916237, 2.3...</td>\n",
       "    </tr>\n",
       "    <tr>\n",
       "      <th>2</th>\n",
       "      <td>[0, 0, 0, 0.000941165675423, 0.00276639763198,...</td>\n",
       "      <td>[0, 0.00276639763198, 0, 2.95835727559e-05, 0....</td>\n",
       "    </tr>\n",
       "    <tr>\n",
       "      <th>3</th>\n",
       "      <td>[0.000253797172722, 0, 0, 0, 0, 0.001145867409...</td>\n",
       "      <td>[0, 0, 0, 0, 0, 0, 0.00010966302079, 0, 0.0002...</td>\n",
       "    </tr>\n",
       "    <tr>\n",
       "      <th>4</th>\n",
       "      <td>[0, 2.46501316168e-05, 0, 0.000163478776817, 3...</td>\n",
       "      <td>[0, 0.000572156825079, 0.000345479147768]</td>\n",
       "    </tr>\n",
       "    <tr>\n",
       "      <th>5</th>\n",
       "      <td>[0.00044574957611]</td>\n",
       "      <td>[0.00267213058054]</td>\n",
       "    </tr>\n",
       "    <tr>\n",
       "      <th>6</th>\n",
       "      <td>[0, 0.00374998234923, 4.17942108044e-06, 0]</td>\n",
       "      <td>[0, 0, 0, 0, 0.000533748909895, 0.003863214217...</td>\n",
       "    </tr>\n",
       "    <tr>\n",
       "      <th>7</th>\n",
       "      <td>[0, 0.00931161461492, 0]</td>\n",
       "      <td>[0, 0, 0.00148150275744, 0, 0]</td>\n",
       "    </tr>\n",
       "    <tr>\n",
       "      <th>8</th>\n",
       "      <td>[0, 0]</td>\n",
       "      <td>[0]</td>\n",
       "    </tr>\n",
       "    <tr>\n",
       "      <th>9</th>\n",
       "      <td>[0.000182191749139, 0.00383245530379, 0, 0, 0]</td>\n",
       "      <td>[0, 0, 0.00156771690361, 0.00284080040679, 0]</td>\n",
       "    </tr>\n",
       "  </tbody>\n",
       "</table>\n",
       "</div>"
      ],
      "text/plain": [
       "                                         first_tfidf  \\\n",
       "0                                  [0.0110155138276]   \n",
       "1                           [0.00156110791557, 0, 0]   \n",
       "2  [0, 0, 0, 0.000941165675423, 0.00276639763198,...   \n",
       "3  [0.000253797172722, 0, 0, 0, 0, 0.001145867409...   \n",
       "4  [0, 2.46501316168e-05, 0, 0.000163478776817, 3...   \n",
       "5                                 [0.00044574957611]   \n",
       "6        [0, 0.00374998234923, 4.17942108044e-06, 0]   \n",
       "7                           [0, 0.00931161461492, 0]   \n",
       "8                                             [0, 0]   \n",
       "9     [0.000182191749139, 0.00383245530379, 0, 0, 0]   \n",
       "\n",
       "                                        second_tfidf  \n",
       "0                                                 []  \n",
       "1  [0, 0.00204569964604, 0, 0.00530077916237, 2.3...  \n",
       "2  [0, 0.00276639763198, 0, 2.95835727559e-05, 0....  \n",
       "3  [0, 0, 0, 0, 0, 0, 0.00010966302079, 0, 0.0002...  \n",
       "4          [0, 0.000572156825079, 0.000345479147768]  \n",
       "5                                 [0.00267213058054]  \n",
       "6  [0, 0, 0, 0, 0.000533748909895, 0.003863214217...  \n",
       "7                     [0, 0, 0.00148150275744, 0, 0]  \n",
       "8                                                [0]  \n",
       "9      [0, 0, 0.00156771690361, 0.00284080040679, 0]  "
      ]
     },
     "execution_count": 131,
     "metadata": {},
     "output_type": "execute_result"
    }
   ],
   "source": [
    "count_tfidf(test)"
   ]
  },
  {
   "cell_type": "code",
   "execution_count": 90,
   "metadata": {
    "collapsed": false
   },
   "outputs": [],
   "source": [
    "def check_vocab(x, y):\n",
    "    if x in word_vectors.vocab:\n",
    "        if y in word_vectors.vocab:\n",
    "            return word_vectors.similarity(x, y)\n",
    "    return 0\n",
    "\n",
    "def count_w2v(df):\n",
    "    ll1 = []\n",
    "    for row in df.itertuples():\n",
    "        l1 = []\n",
    "        for item1 in row[1]:\n",
    "            for item2 in row[2]:\n",
    "                l1.append(check_vocab(item1, item2))\n",
    "        ll1.append(l1)\n",
    "    new_frame = pd.DataFrame(\n",
    "    {'word2vec': ll1,\n",
    "    })\n",
    "    return new_frame"
   ]
  },
  {
   "cell_type": "code",
   "execution_count": 91,
   "metadata": {
    "collapsed": false
   },
   "outputs": [
    {
     "data": {
      "text/html": [
       "<div>\n",
       "<table border=\"1\" class=\"dataframe\">\n",
       "  <thead>\n",
       "    <tr style=\"text-align: right;\">\n",
       "      <th></th>\n",
       "      <th>word2vec</th>\n",
       "    </tr>\n",
       "  </thead>\n",
       "  <tbody>\n",
       "    <tr>\n",
       "      <th>0</th>\n",
       "      <td>[]</td>\n",
       "    </tr>\n",
       "    <tr>\n",
       "      <th>1</th>\n",
       "      <td>[0.121086688011, -0.00260932710238, 0.19284702...</td>\n",
       "    </tr>\n",
       "    <tr>\n",
       "      <th>2</th>\n",
       "      <td>[0.549211967375, 0.187426972881, 0.36903241766...</td>\n",
       "    </tr>\n",
       "    <tr>\n",
       "      <th>3</th>\n",
       "      <td>[0.176601278828, 0, 0.184140951803, 0.28165582...</td>\n",
       "    </tr>\n",
       "    <tr>\n",
       "      <th>4</th>\n",
       "      <td>[0.441143084605, 0.246326873193, 0.22918478869...</td>\n",
       "    </tr>\n",
       "    <tr>\n",
       "      <th>5</th>\n",
       "      <td>[0.712231425218, 0.0908104200734, 0.7258445797...</td>\n",
       "    </tr>\n",
       "    <tr>\n",
       "      <th>6</th>\n",
       "      <td>[0.350023546714, 0.642018438972, 0.16033757603...</td>\n",
       "    </tr>\n",
       "    <tr>\n",
       "      <th>7</th>\n",
       "      <td>[0.598143059377, 0.790946151682, 0.27648299867...</td>\n",
       "    </tr>\n",
       "    <tr>\n",
       "      <th>8</th>\n",
       "      <td>[0, 0]</td>\n",
       "    </tr>\n",
       "    <tr>\n",
       "      <th>9</th>\n",
       "      <td>[0.0325456114579, 0.188586949925, 0.1704522258...</td>\n",
       "    </tr>\n",
       "  </tbody>\n",
       "</table>\n",
       "</div>"
      ],
      "text/plain": [
       "                                            word2vec\n",
       "0                                                 []\n",
       "1  [0.121086688011, -0.00260932710238, 0.19284702...\n",
       "2  [0.549211967375, 0.187426972881, 0.36903241766...\n",
       "3  [0.176601278828, 0, 0.184140951803, 0.28165582...\n",
       "4  [0.441143084605, 0.246326873193, 0.22918478869...\n",
       "5  [0.712231425218, 0.0908104200734, 0.7258445797...\n",
       "6  [0.350023546714, 0.642018438972, 0.16033757603...\n",
       "7  [0.598143059377, 0.790946151682, 0.27648299867...\n",
       "8                                             [0, 0]\n",
       "9  [0.0325456114579, 0.188586949925, 0.1704522258..."
      ]
     },
     "execution_count": 91,
     "metadata": {},
     "output_type": "execute_result"
    }
   ],
   "source": [
    "count_w2v(test)"
   ]
  },
  {
   "cell_type": "code",
   "execution_count": 134,
   "metadata": {
    "collapsed": false
   },
   "outputs": [],
   "source": [
    "train = train.join([count_tfidf(delta),count_w2v(delta)])\n",
    "#tfidf - 105 msec per 100 elements, 10.5 seconds per 10000 elements. 9 minutes per 500000. Meh\n",
    "#w2v - 75.8 msec per 100 elements, 7.41 seconds per 10000 elements, 6 minutes per 500000. Acceptable"
   ]
  },
  {
   "cell_type": "code",
   "execution_count": 135,
   "metadata": {
    "collapsed": false
   },
   "outputs": [
    {
     "data": {
      "text/html": [
       "<div>\n",
       "<table border=\"1\" class=\"dataframe\">\n",
       "  <thead>\n",
       "    <tr style=\"text-align: right;\">\n",
       "      <th></th>\n",
       "      <th>id</th>\n",
       "      <th>qid1</th>\n",
       "      <th>qid2</th>\n",
       "      <th>question1</th>\n",
       "      <th>question2</th>\n",
       "      <th>is_duplicate</th>\n",
       "      <th>first_tfidf</th>\n",
       "      <th>second_tfidf</th>\n",
       "      <th>word2vec</th>\n",
       "    </tr>\n",
       "  </thead>\n",
       "  <tbody>\n",
       "    <tr>\n",
       "      <th>0</th>\n",
       "      <td>0</td>\n",
       "      <td>1</td>\n",
       "      <td>2</td>\n",
       "      <td>[what, is, the, step, by, step, guide, to, inv...</td>\n",
       "      <td>[what, is, the, step, by, step, guide, to, inv...</td>\n",
       "      <td>0</td>\n",
       "      <td>[0.0110155138276]</td>\n",
       "      <td>[]</td>\n",
       "      <td>[]</td>\n",
       "    </tr>\n",
       "    <tr>\n",
       "      <th>1</th>\n",
       "      <td>1</td>\n",
       "      <td>3</td>\n",
       "      <td>4</td>\n",
       "      <td>[what, is, the, story, of, kohinoor, kohinoor,...</td>\n",
       "      <td>[what, would, happen, if, the, indian, governm...</td>\n",
       "      <td>0</td>\n",
       "      <td>[0.00156110791557, 0, 0]</td>\n",
       "      <td>[0, 0.00204569964604, 0, 0.00530077916237, 2.3...</td>\n",
       "      <td>[0.121086688011, -0.00260932710238, 0.19284702...</td>\n",
       "    </tr>\n",
       "    <tr>\n",
       "      <th>2</th>\n",
       "      <td>2</td>\n",
       "      <td>5</td>\n",
       "      <td>6</td>\n",
       "      <td>[how, can, i, increase, the, speed, of, my, in...</td>\n",
       "      <td>[how, can, internet, speed, be, increased, by,...</td>\n",
       "      <td>0</td>\n",
       "      <td>[0, 0, 0, 0.000941165675423, 0.00276639763198,...</td>\n",
       "      <td>[0, 0.00276639763198, 0, 2.95835727559e-05, 0....</td>\n",
       "      <td>[0.549211967375, 0.187426972881, 0.36903241766...</td>\n",
       "    </tr>\n",
       "    <tr>\n",
       "      <th>3</th>\n",
       "      <td>3</td>\n",
       "      <td>7</td>\n",
       "      <td>8</td>\n",
       "      <td>[why, am, i, mentally, very, lonely, how, can,...</td>\n",
       "      <td>[find, the, remainder, when, math2324math, is,...</td>\n",
       "      <td>0</td>\n",
       "      <td>[0.000253797172722, 0, 0, 0, 0, 0.001145867409...</td>\n",
       "      <td>[0, 0, 0, 0, 0, 0, 0.00010966302079, 0, 0.0002...</td>\n",
       "      <td>[0.176601278828, 0, 0.184140951803, 0.28165582...</td>\n",
       "    </tr>\n",
       "    <tr>\n",
       "      <th>4</th>\n",
       "      <td>4</td>\n",
       "      <td>9</td>\n",
       "      <td>10</td>\n",
       "      <td>[which, one, dissolve, in, water, quikly, suga...</td>\n",
       "      <td>[which, fish, would, survive, in, salt, water]</td>\n",
       "      <td>0</td>\n",
       "      <td>[0, 2.46501316168e-05, 0, 0.000163478776817, 3...</td>\n",
       "      <td>[0, 0.000572156825079, 0.000345479147768]</td>\n",
       "      <td>[0.441143084605, 0.246326873193, 0.22918478869...</td>\n",
       "    </tr>\n",
       "  </tbody>\n",
       "</table>\n",
       "</div>"
      ],
      "text/plain": [
       "   id  qid1  qid2                                          question1  \\\n",
       "0   0     1     2  [what, is, the, step, by, step, guide, to, inv...   \n",
       "1   1     3     4  [what, is, the, story, of, kohinoor, kohinoor,...   \n",
       "2   2     5     6  [how, can, i, increase, the, speed, of, my, in...   \n",
       "3   3     7     8  [why, am, i, mentally, very, lonely, how, can,...   \n",
       "4   4     9    10  [which, one, dissolve, in, water, quikly, suga...   \n",
       "\n",
       "                                           question2  is_duplicate  \\\n",
       "0  [what, is, the, step, by, step, guide, to, inv...             0   \n",
       "1  [what, would, happen, if, the, indian, governm...             0   \n",
       "2  [how, can, internet, speed, be, increased, by,...             0   \n",
       "3  [find, the, remainder, when, math2324math, is,...             0   \n",
       "4     [which, fish, would, survive, in, salt, water]             0   \n",
       "\n",
       "                                         first_tfidf  \\\n",
       "0                                  [0.0110155138276]   \n",
       "1                           [0.00156110791557, 0, 0]   \n",
       "2  [0, 0, 0, 0.000941165675423, 0.00276639763198,...   \n",
       "3  [0.000253797172722, 0, 0, 0, 0, 0.001145867409...   \n",
       "4  [0, 2.46501316168e-05, 0, 0.000163478776817, 3...   \n",
       "\n",
       "                                        second_tfidf  \\\n",
       "0                                                 []   \n",
       "1  [0, 0.00204569964604, 0, 0.00530077916237, 2.3...   \n",
       "2  [0, 0.00276639763198, 0, 2.95835727559e-05, 0....   \n",
       "3  [0, 0, 0, 0, 0, 0, 0.00010966302079, 0, 0.0002...   \n",
       "4          [0, 0.000572156825079, 0.000345479147768]   \n",
       "\n",
       "                                            word2vec  \n",
       "0                                                 []  \n",
       "1  [0.121086688011, -0.00260932710238, 0.19284702...  \n",
       "2  [0.549211967375, 0.187426972881, 0.36903241766...  \n",
       "3  [0.176601278828, 0, 0.184140951803, 0.28165582...  \n",
       "4  [0.441143084605, 0.246326873193, 0.22918478869...  "
      ]
     },
     "execution_count": 135,
     "metadata": {},
     "output_type": "execute_result"
    }
   ],
   "source": [
    "train.head()"
   ]
  },
  {
   "cell_type": "code",
   "execution_count": 136,
   "metadata": {
    "collapsed": true
   },
   "outputs": [],
   "source": [
    "train.to_csv(data_dir + 'generated_features.csv')"
   ]
  },
  {
   "cell_type": "code",
   "execution_count": null,
   "metadata": {
    "collapsed": true
   },
   "outputs": [],
   "source": []
  }
 ],
 "metadata": {
  "kernelspec": {
   "display_name": "Python 2",
   "language": "python",
   "name": "python2"
  },
  "language_info": {
   "codemirror_mode": {
    "name": "ipython",
    "version": 2
   },
   "file_extension": ".py",
   "mimetype": "text/x-python",
   "name": "python",
   "nbconvert_exporter": "python",
   "pygments_lexer": "ipython2",
   "version": "2.7.11"
  }
 },
 "nbformat": 4,
 "nbformat_minor": 2
}
