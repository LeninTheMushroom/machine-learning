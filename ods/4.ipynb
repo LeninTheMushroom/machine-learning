{
 "cells": [
  {
   "cell_type": "markdown",
   "metadata": {},
   "source": [
    "## Задача 1"
   ]
  },
  {
   "cell_type": "markdown",
   "metadata": {},
   "source": [
    "Функция вероятности Бернулли\n",
    "$$f(k;p)=p^{k}(1-p)^{1-k}$$ $$k\\in(0,1)$$"
   ]
  },
  {
   "cell_type": "markdown",
   "metadata": {},
   "source": [
    "Правдоподобие наблюдений\n",
    "$$\\prod_{k=0}^{M} p^{k}(1-p)^{1-k}$$"
   ]
  },
  {
   "cell_type": "markdown",
   "metadata": {},
   "source": [
    "Логарифм правдоподобия\n",
    "$$\\log\\prod_{k=0}^{M} p^{k}(1-p)^{1-k}==\\sum_{k=0}^{M}\\log{p^{k}(1-p)^{1-k}} == $$\n",
    "$$ \\sum_{k=0}^{M}\\log{p^{k}}+\\sum_{k=0}^{M}\\log{(1-p)^{1-k}} == $$\n",
    "$$ \\sum_{k=0}^{M}[k\\log{p} + (1-k)\\log(1-p)]$$"
   ]
  },
  {
   "cell_type": "markdown",
   "metadata": {},
   "source": [
    "$k$ - возможный результат, то есть $y_i$\n",
    "\n",
    "$p$ - вероятность попадания в результат (тег), то есть $p(tag_i | x) = \\sigma(z_i)$\n",
    "\n",
    "Следовательно, функция имеет вид"
   ]
  },
  {
   "cell_type": "markdown",
   "metadata": {},
   "source": [
    "$$ \\sum_{i=0}^{M}[y_i\\log{\\sigma(z_i)} + (1-y_i)\\log(1-\\sigma(z_i))]$$"
   ]
  },
  {
   "cell_type": "markdown",
   "metadata": {},
   "source": [
    "## Задача 2"
   ]
  },
  {
   "cell_type": "markdown",
   "metadata": {},
   "source": [
    "нужно получить производную по $w_i$ - вот такую штуку   \n",
    "\n",
    "<h4 align='center'>__(выражение 1)__</h4>\n",
    "$$ \\frac{du}{dw_i} \\sum_{i=0}^{M}[y_i\\log{\\sigma(z_i)} + (1-y_i)\\log(1-\\sigma(z_i))]$$\n",
    "\n"
   ]
  },
  {
   "cell_type": "markdown",
   "metadata": {},
   "source": [
    "в этом случае нам любезно предоставлено выведение вероятности через сигму - \n",
    "$$\\sigma(z_i) = p(tag_i | x) = \\sigma(\\sum_{k=0}^{M} w_ix^i)$$"
   ]
  },
  {
   "cell_type": "markdown",
   "metadata": {},
   "source": [
    "сама сигма - это херня вроде следующей\n",
    "\n",
    "$$\\sigma(a)=\\frac{1}{1+e^{-a}}$$\n"
   ]
  },
  {
   "cell_type": "markdown",
   "metadata": {},
   "source": [
    "пусть сумма $w_ix^i$ равна не $z_i$, а $\\theta$, тогда надо найти \n",
    "\n",
    "<h4 align='center'>__(выражение 2)__</h4>\n",
    "\n",
    "$$ \\frac{du}{dw_i} \\sum_{i=0}^{M}[y_i\\log{\\sigma(\\theta)} + (1-y_i)\\log(1-\\sigma(\\theta))]$$\n",
    "\n",
    "начинаем решать через выражение $log(1-\\sigma)$ чем-то другим\n",
    "\n",
    "<h4 align='center'>__(выражение 3)__</h4>\n",
    "\n",
    "$$\\log{\\sigma(\\theta)}=log{\\frac{1}{1+e^{-\\theta}}}=-log{(1+e^{-\\theta})}$$"
   ]
  },
  {
   "cell_type": "markdown",
   "metadata": {},
   "source": [
    "$$\\log{(1-\\sigma(\\theta))} = \\log{(1-\\frac{1}{1+e^{-\\theta}})} = \\log{(\\frac{e^{-\\theta}}{1+e^{-\\theta}})} = \\log(e^{-\\theta})-\\log(1+e^{-\\theta})$$"
   ]
  },
  {
   "cell_type": "markdown",
   "metadata": {},
   "source": [
    "и вся эта хрень равна \n",
    "<h4 align='center'>__(выражение 4)__</h4>\n",
    "\n",
    "$$\\log{(1-\\sigma(\\theta))} = -\\theta-log(1+e^{-\\theta})$$"
   ]
  },
  {
   "cell_type": "markdown",
   "metadata": {},
   "source": [
    "теперь подставим выражения __3__ и __4__ во __второе__, получим\n",
    "$$ \\frac{du}{dw_i} \\sum_{i=0}^{M}[-y_i\\log{(1+e^{-\\theta})} + (1-y_i)*(-\\theta-log(1+e^{-\\theta}))]$$"
   ]
  },
  {
   "cell_type": "markdown",
   "metadata": {},
   "source": [
    "это говно сокращается до\n",
    "$$ \\frac{du}{dw_i} \\sum_{i=0}^{M}[y_i\\theta - \\theta - \\log{(1+e^{-\\theta})}]$$"
   ]
  },
  {
   "cell_type": "markdown",
   "metadata": {},
   "source": [
    "при этом\n",
    "$$-\\theta-log(1+e^{-\\theta}) = - [\\log{e^{\\theta}} + log(1+e^{-\\theta})] = -log(1+e^{\\theta})$$\n",
    "\n",
    "то есть всё упрощается до\n",
    "\n",
    "$$\\frac{du}{dw_i} \\sum_{i=0}^{M} {y\\theta -log(1+e^{\\theta})}$$"
   ]
  },
  {
   "cell_type": "markdown",
   "metadata": {},
   "source": [
    "или\n",
    "\n",
    "$$\\frac{du}{dw_i} {y_{k}w_{i}x -log(1+e^{w_ix})}$$"
   ]
  },
  {
   "cell_type": "markdown",
   "metadata": {},
   "source": [
    "берем производные по частям, выходит\n",
    "$$ y_kx - x\\sigma(z_i)$$"
   ]
  },
  {
   "cell_type": "markdown",
   "metadata": {},
   "source": [
    "или\n",
    "$$\\nabla L = x(y_k-\\sigma(z_i))$$\n",
    "$$-\\nabla L = x(\\sigma(z_i)-y_k)$$"
   ]
  },
  {
   "cell_type": "markdown",
   "metadata": {},
   "source": [
    "## Задачи 3 и 4."
   ]
  },
  {
   "cell_type": "code",
   "execution_count": 20,
   "metadata": {
    "collapsed": true
   },
   "outputs": [],
   "source": [
    "%matplotlib inline\n",
    "import numpy as np\n",
    "import matplotlib.pyplot as plt\n",
    "import seaborn as sns\n",
    "from tqdm import tqdm_notebook\n",
    "import pandas as pd\n",
    "from collections import defaultdict\n",
    "from collections import Counter\n",
    "import math\n",
    "\n",
    "sns.set_style(\"dark\")\n",
    "plt.rcParams['figure.figsize'] = 16, 12\n",
    "\n",
    "DS_FILE_NAME = '/home/uasa/Desktop/data/stackoverflow_sample_125k.tsv'\n",
    "TAGS_FILE_NAME = '/home/uasa/Desktop/data/top10_tags.tsv'"
   ]
  },
  {
   "cell_type": "code",
   "execution_count": 2,
   "metadata": {},
   "outputs": [
    {
     "name": "stdout",
     "output_type": "stream",
     "text": [
      "{'android', 'python', 'php', 'javascript', 'c++', 'java', 'jquery', 'html', 'c#', 'ios'}\n"
     ]
    }
   ],
   "source": [
    "top_tags = []\n",
    "with open(TAGS_FILE_NAME, 'r') as f:\n",
    "    for line in f:\n",
    "        top_tags.append(line.strip())\n",
    "top_tags = set(top_tags)\n",
    "print(top_tags)"
   ]
  },
  {
   "cell_type": "code",
   "execution_count": 3,
   "metadata": {},
   "outputs": [
    {
     "data": {
      "text/plain": [
       "{'android': 0,\n",
       " 'c#': 8,\n",
       " 'c++': 4,\n",
       " 'html': 7,\n",
       " 'ios': 9,\n",
       " 'java': 5,\n",
       " 'javascript': 3,\n",
       " 'jquery': 6,\n",
       " 'php': 2,\n",
       " 'python': 1}"
      ]
     },
     "execution_count": 3,
     "metadata": {},
     "output_type": "execute_result"
    }
   ],
   "source": [
    "tag_dictionary = dict(zip(top_tags,[x for x in range(len(top_tags))]))\n",
    "tag_dictionary"
   ]
  },
  {
   "cell_type": "code",
   "execution_count": 4,
   "metadata": {
    "collapsed": true
   },
   "outputs": [],
   "source": [
    "def jaccard_score(a,b):\n",
    "    score = 0.0\n",
    "    length = 0\n",
    "    for x in range(len(a)):\n",
    "        if b[x] == a[x] == 0:\n",
    "            continue\n",
    "        if b[x] == a[x]:\n",
    "            score+=1.0\n",
    "        length+=1\n",
    "    if length == 0:\n",
    "        return 0\n",
    "    return score/length"
   ]
  },
  {
   "cell_type": "code",
   "execution_count": 5,
   "metadata": {
    "collapsed": true
   },
   "outputs": [],
   "source": [
    "class LogRegressor():\n",
    "    \n",
    "    def __init__(self, tags=top_tags):      \n",
    "        self._vocab = {}        \n",
    "        self._w = dict([(t, defaultdict(int)) for t in tags])\n",
    "        self._b = dict([(t, 0) for t in tags])\n",
    "        self._tags = set(tags)\n",
    "        self._jaccard_scores=[]\n",
    "    \n",
    "    def iterate_file(self, \n",
    "                     fname=DS_FILE_NAME, \n",
    "                     top_n_train=100000, \n",
    "                     total=125000,\n",
    "                     learning_rate=0.1,\n",
    "                     tolerance=1e-16):\n",
    "        \n",
    "        self._loss = []\n",
    "        n = 0\n",
    "        \n",
    "        with open(fname, 'r') as f:             \n",
    "            for line in tqdm_notebook(f, total=total, mininterval=1):\n",
    "                pair = line.strip().split('\\t')\n",
    "                if len(pair) != 2:\n",
    "                    continue                \n",
    "                sentence, tags = pair\n",
    "                sentence = sentence.split(' ')\n",
    "                tags = set(tags.split(' '))\n",
    "                sample_loss = 0\n",
    "                tag_probabilities = []\n",
    "                tag_markings = []\n",
    "                for tag in self._tags:\n",
    "                    y = int(tag in tags)  \n",
    "                    z = self._b[tag] \n",
    "                    for word in sentence:\n",
    "                        if n >= top_n_train and word not in self._vocab:\n",
    "                            continue\n",
    "                        if word not in self._vocab:\n",
    "                            self._vocab[word] = len(self._vocab)\n",
    "                        z += self._w[tag][self._vocab[word]] \n",
    "                        \n",
    "                    sigma = 1/(1 + np.exp(-z)) if z >= 0 else 1 - 1/(1 + np.exp(z))\n",
    "                    \n",
    "                    sample_loss += -y*np.log(np.max([tolerance, sigma])) if y == 1 else \\\n",
    "                                   -(1 - y)*np.log(1 - np.min([1 - tolerance, sigma]))\n",
    "    \n",
    "                    if n < top_n_train:\n",
    "                        dLdw = y - sigma\n",
    "                        cost_function = -learning_rate*dLdw\n",
    "                        for word in sentence:                        \n",
    "                            self._w[tag][self._vocab[word]] -= cost_function\n",
    "                        self._b[tag] -= cost_function\n",
    "                    else:\n",
    "                        if sigma >= 0.9:\n",
    "                            tag_probabilities.append(1)\n",
    "                        else:\n",
    "                            tag_probabilities.append(0)\n",
    "                        tag_markings.append(y)\n",
    "                n += 1\n",
    "                self._loss.append(sample_loss)\n",
    "                if n >= top_n_train:\n",
    "                    self._jaccard_scores.append(jaccard_score(tag_markings, tag_probabilities))\n",
    "        \n",
    "        "
   ]
  },
  {
   "cell_type": "code",
   "execution_count": 6,
   "metadata": {
    "collapsed": true
   },
   "outputs": [],
   "source": [
    "model_simple = LogRegressor(top_tags)"
   ]
  },
  {
   "cell_type": "code",
   "execution_count": 7,
   "metadata": {},
   "outputs": [
    {
     "data": {
      "application/vnd.jupyter.widget-view+json": {
       "model_id": "5d72541d007d4669a51366c77072a953",
       "version_major": 2,
       "version_minor": 0
      },
      "text/plain": [
       "A Jupyter Widget"
      ]
     },
     "metadata": {},
     "output_type": "display_data"
    },
    {
     "name": "stdout",
     "output_type": "stream",
     "text": [
      "\n"
     ]
    }
   ],
   "source": [
    "model_simple.iterate_file()"
   ]
  },
  {
   "cell_type": "code",
   "execution_count": 8,
   "metadata": {},
   "outputs": [
    {
     "name": "stderr",
     "output_type": "stream",
     "text": [
      "/home/uasa/anaconda3/lib/python3.6/site-packages/matplotlib/figure.py:403: UserWarning: matplotlib is currently using a non-GUI backend, so cannot show the figure\n",
      "  \"matplotlib is currently using a non-GUI backend, \"\n"
     ]
    },
    {
     "data": {
      "image/png": "[encoded data removed]",
      "text/plain": [
       "<matplotlib.figure.Figure at 0x7faf7ededb38>"
      ]
     },
     "metadata": {},
     "output_type": "display_data"
    }
   ],
   "source": [
    "fig, ax =plt.subplots(1,2)\n",
    "plt.subplot(1, 2, 1)\n",
    "plt.plot(pd.Series(model_simple._loss[:-25000]).rolling(10000).mean());\n",
    "\n",
    "plt.subplot(1, 2, 2)\n",
    "g = sns.distplot(model_simple._jaccard_scores, bins=10, norm_hist=True)\n",
    "g.set(xlim=(0.0, 1.0), ylim=(0.0,7.0))\n",
    "fig.show()"
   ]
  },
  {
   "cell_type": "code",
   "execution_count": 9,
   "metadata": {},
   "outputs": [
    {
     "name": "stdout",
     "output_type": "stream",
     "text": [
      "Mean of the loss function on the last 10k train samples: 19.74\n"
     ]
    }
   ],
   "source": [
    "print('Mean of the loss function on the last 10k train samples: %0.2f' % np.mean(model_simple._loss[-35000:-25000]))"
   ]
  },
  {
   "cell_type": "code",
   "execution_count": 10,
   "metadata": {},
   "outputs": [
    {
     "data": {
      "text/plain": [
       "0.25"
      ]
     },
     "execution_count": 10,
     "metadata": {},
     "output_type": "execute_result"
    }
   ],
   "source": [
    "# проверка джаккара - должно выдать 0.25\n",
    "jaccard_score([0,0,1,0,0,0,1,0,0],[0,1,1,0,0,1,0,0,0])"
   ]
  },
  {
   "cell_type": "code",
   "execution_count": 11,
   "metadata": {},
   "outputs": [
    {
     "data": {
      "text/plain": [
       "0.58806714398090731"
      ]
     },
     "execution_count": 11,
     "metadata": {},
     "output_type": "execute_result"
    }
   ],
   "source": [
    "np.mean(model_simple._jaccard_scores)"
   ]
  },
  {
   "cell_type": "markdown",
   "metadata": {},
   "source": [
    "## Задача 5. L2"
   ]
  },
  {
   "cell_type": "markdown",
   "metadata": {},
   "source": [
    "Ранее выведено\n",
    "$$\\nabla L = x(y_k-\\sigma(z_i))$$\n",
    "$$-\\nabla L = x(\\sigma(z_i)-y_k)$$\n",
    "или просто y - sigma в коде"
   ]
  },
  {
   "cell_type": "markdown",
   "metadata": {},
   "source": [
    "теперь надо добавить к нему $\\lambda w_{ki}$, где $\\lambda$ задается, а $w_{ki}$ - это вес из вектора весов"
   ]
  },
  {
   "cell_type": "code",
   "execution_count": 12,
   "metadata": {
    "collapsed": true
   },
   "outputs": [],
   "source": [
    "class LogRegressorL2():\n",
    "    \n",
    "    def __init__(self, tags=top_tags):      \n",
    "        self._vocab = {}        \n",
    "        self._w = dict([(t, defaultdict(int)) for t in tags])\n",
    "        self._b = dict([(t, 0) for t in tags])\n",
    "        self._tags = set(tags)\n",
    "        self._jaccard_scores=[]\n",
    "    \n",
    "    def iterate_file(self, \n",
    "                     fname=DS_FILE_NAME, \n",
    "                     top_n_train=100000, \n",
    "                     total=125000,\n",
    "                     learning_rate=0.1,\n",
    "                     tolerance=1e-16,\n",
    "                     our_lambda=0.01):\n",
    "        self._loss = []\n",
    "        n = 0\n",
    "        with open(fname, 'r') as f:            \n",
    "            for line in tqdm_notebook(f, total=total, mininterval=1):\n",
    "                pair = line.strip().split('\\t')\n",
    "                if len(pair) != 2:\n",
    "                    continue                \n",
    "                sentence, tags = pair\n",
    "                sentence = sentence.split(' ')\n",
    "                tags = set(tags.split(' '))\n",
    "                sample_loss = 0\n",
    "                tag_probabilities = []\n",
    "                tag_markings = []\n",
    "                \n",
    "                for tag in self._tags:\n",
    "                    y = int(tag in tags)\n",
    "                    z = self._b[tag] \n",
    "                    for word in sentence:\n",
    "                        if n >= top_n_train and word not in self._vocab:\n",
    "                            continue\n",
    "                        if word not in self._vocab:\n",
    "                            self._vocab[word] = len(self._vocab)\n",
    "                        z += self._w[tag][self._vocab[word]] \n",
    "                        \n",
    "                    sigma = 1/(1 + np.exp(-z)) if z >= 0 else 1 - 1/(1 + np.exp(z))\n",
    "                    sample_loss += -y*np.log(np.max([tolerance, sigma])) if y == 1 else \\\n",
    "                                   -(1 - y)*np.log(1 - np.min([1 - tolerance, sigma]))\n",
    "                    if n < top_n_train:\n",
    "                        dLdw = y-sigma \n",
    "                        for word in sentence:\n",
    "                            dL2dw = our_lambda*self._w[tag][self._vocab[word]]\n",
    "                            self._w[tag][self._vocab[word]] -= learning_rate*(-dLdw) + dL2dw\n",
    "                            \n",
    "                        self._b[tag] -= learning_rate*(-dLdw)\n",
    "                    else:\n",
    "                        if sigma >= 0.9:\n",
    "                            tag_probabilities.append(1)\n",
    "                        else:\n",
    "                            tag_probabilities.append(0)\n",
    "                        tag_markings.append(y)\n",
    "                n += 1\n",
    "                self._loss.append(sample_loss)\n",
    "                if n >= top_n_train:\n",
    "                    self._jaccard_scores.append(jaccard_score(tag_markings, tag_probabilities))"
   ]
  },
  {
   "cell_type": "code",
   "execution_count": 13,
   "metadata": {},
   "outputs": [
    {
     "data": {
      "application/vnd.jupyter.widget-view+json": {
       "model_id": "7af798f9ef7244ebba73e678d985f946",
       "version_major": 2,
       "version_minor": 0
      },
      "text/plain": [
       "A Jupyter Widget"
      ]
     },
     "metadata": {},
     "output_type": "display_data"
    },
    {
     "name": "stdout",
     "output_type": "stream",
     "text": [
      "\n"
     ]
    }
   ],
   "source": [
    "model_L2 = LogRegressorL2()\n",
    "model_L2.iterate_file()"
   ]
  },
  {
   "cell_type": "code",
   "execution_count": 14,
   "metadata": {},
   "outputs": [
    {
     "name": "stderr",
     "output_type": "stream",
     "text": [
      "/home/uasa/anaconda3/lib/python3.6/site-packages/matplotlib/figure.py:403: UserWarning: matplotlib is currently using a non-GUI backend, so cannot show the figure\n",
      "  \"matplotlib is currently using a non-GUI backend, \"\n"
     ]
    },
    {
     "data": {
      "image/png": "[encoded data removed]",
      "text/plain": [
       "<matplotlib.figure.Figure at 0x7faf6486be80>"
      ]
     },
     "metadata": {},
     "output_type": "display_data"
    }
   ],
   "source": [
    "fig, ax =plt.subplots(1,2)\n",
    "plt.subplot(1, 2, 1)\n",
    "plt.plot(pd.Series(model_L2._loss[:-25000]).rolling(10000).mean());\n",
    "\n",
    "plt.subplot(1, 2, 2)\n",
    "g = sns.distplot(model_L2._jaccard_scores, bins=10, norm_hist=True)\n",
    "g.set(xlim=(0.0, 1.0), ylim=(0.0,7.0))\n",
    "fig.show()"
   ]
  },
  {
   "cell_type": "code",
   "execution_count": 15,
   "metadata": {},
   "outputs": [
    {
     "data": {
      "text/plain": [
       "16.410670913349037"
      ]
     },
     "execution_count": 15,
     "metadata": {},
     "output_type": "execute_result"
    }
   ],
   "source": [
    "np.mean(model_L2._loss[-35000:-25000])"
   ]
  },
  {
   "cell_type": "code",
   "execution_count": 16,
   "metadata": {},
   "outputs": [
    {
     "data": {
      "text/plain": [
       "0.40027065584043303"
      ]
     },
     "execution_count": 16,
     "metadata": {},
     "output_type": "execute_result"
    }
   ],
   "source": [
    "np.mean(model_L2._jaccard_scores)"
   ]
  },
  {
   "cell_type": "markdown",
   "metadata": {},
   "source": [
    "## 6. Формула для L1+L2"
   ]
  },
  {
   "cell_type": "markdown",
   "metadata": {},
   "source": [
    "$$\\lambda [ 2w\\gamma + (1-\\gamma)sign(w)]$$"
   ]
  },
  {
   "cell_type": "markdown",
   "metadata": {},
   "source": [
    "## 7. ElasticNet"
   ]
  },
  {
   "cell_type": "code",
   "execution_count": 27,
   "metadata": {
    "collapsed": true
   },
   "outputs": [],
   "source": [
    "class LogRegressorElastic():\n",
    "    \n",
    "    def __init__(self, tags=top_tags):      \n",
    "        self._vocab = {}\n",
    "        self._w = dict([(t, defaultdict(int)) for t in tags])\n",
    "        self._b = dict([(t, 0) for t in tags])\n",
    "        self._tags = set(tags)\n",
    "        self._jaccard_scores=[]\n",
    "        self.create_vocab()\n",
    "        \n",
    "    \n",
    "    def make_vocab_word_list(self, fname=DS_FILE_NAME, total=100000, remaining=10000):\n",
    "        #Создаём список слов, которые можно найти в тексте. Если нужно, выбираем самые популярные\n",
    "        hist_dict = {}\n",
    "        k=0\n",
    "        with open(fname, 'r') as f:            \n",
    "            for line in f:\n",
    "                if k>=total:\n",
    "                    break\n",
    "                pair = line.strip().split('\\t')\n",
    "                if len(pair) != 2:\n",
    "                    continue\n",
    "                text = pair[0].split(' ')\n",
    "                for word in text:\n",
    "                    if word in hist_dict:\n",
    "                        hist_dict[word]+=1\n",
    "                    else:\n",
    "                        hist_dict[word]=0\n",
    "                k+=1\n",
    "        if remaining>0 :\n",
    "            sorted_hist = sorted(hist_dict.items(), key=lambda x: x[-1], reverse=True)[:remaining]\n",
    "            return [sorted_hist[x][0] for x in range(len(sorted_hist))]\n",
    "        else:\n",
    "            return [x for x in hist_dict]\n",
    "        \n",
    "    def create_vocab(self, n=0):\n",
    "        print('Creating vocabulary')\n",
    "        word_list = self.make_vocab_word_list(remaining=n)\n",
    "        self._vocab = {word_list[x]:x for x in range(len(word_list))}\n",
    "        print('Created vocabulary with {} length'.format(len(self._vocab)))\n",
    "    \n",
    "    def filter_vocab(self,n=10000):\n",
    "        print('Filtering...')\n",
    "        word_list = self.make_vocab_word_list(remaining=n)\n",
    "        self._vocab = {a:self._vocab[a] for a in word_list if a in self._vocab}\n",
    "        print('Filtered to vocabulary with {} length'.format(len(self._vocab)))\n",
    "    \n",
    "    def sign(self,a):\n",
    "        if a<0:\n",
    "            return -1\n",
    "        if a==0:\n",
    "            return 0\n",
    "        if a>0:\n",
    "            return 1\n",
    "    \n",
    "    def predict_proba(self, sentence):\n",
    "        word_list = sentence.split(' ')\n",
    "        tag_list = []\n",
    "        for tag in self._tags:\n",
    "            z = self._b[tag]\n",
    "            \n",
    "            for word in word_list:\n",
    "                if word not in self._vocab:\n",
    "                    continue\n",
    "                z += self._w[tag][self._vocab[word]] \n",
    "            \n",
    "            sigma = 1/(1 + np.exp(-z)) if z >= 0 else 1 - 1/(1 + np.exp(z))\n",
    "            print(tag, sigma,z)\n",
    "            if sigma>=0.9:\n",
    "                tag_list.append(tag)\n",
    "        return tag_list\n",
    "    \n",
    "    def iterate_file(self, \n",
    "                     fname=DS_FILE_NAME, \n",
    "                     top_n_train=100000, \n",
    "                     total=125000,\n",
    "                     learning_rate=0.1,\n",
    "                     tolerance=1e-16,\n",
    "                     our_lambda=0.0002,\n",
    "                     our_gamma=0.1):\n",
    "        self._loss = []\n",
    "        n = 0\n",
    "        lambd2gamm = our_lambda*2*our_gamma\n",
    "        rev_gamm = our_lambda*(1-our_gamma)\n",
    "        with open(fname, 'r') as f:            \n",
    "            for line in tqdm_notebook(f, total=total, mininterval=1):\n",
    "                pair = line.strip().split('\\t')\n",
    "                if len(pair) != 2:\n",
    "                    continue                \n",
    "                sentence, tags = pair\n",
    "                sentence = sentence.split(' ')\n",
    "                tags = set(tags.split(' '))\n",
    "                sample_loss = 0\n",
    "                tag_probabilities = []\n",
    "                tag_markings = []\n",
    "                \n",
    "                #valued_words = Counter([word for word in sentence if word in self._vocab])\n",
    "                valued_words = [word for word in sentence if word in self._vocab]\n",
    "\n",
    "                for tag in self._tags:\n",
    "                    y = int(tag in tags)\n",
    "                    z = self._b[tag] \n",
    "                    \n",
    "                    for word in valued_words:      \n",
    "                        z += self._w[tag][self._vocab[word]] \n",
    "                        \n",
    "                    sigma = 1/(1 + math.exp(-z)) if z >= 0 else 1 - 1/(1 + math.exp(z))\n",
    "                       \n",
    "                    dLdw = y-sigma   \n",
    "                    if n < top_n_train:\n",
    "                        #for word,occurence in valued_words.items():\n",
    "                        for word in valued_words:\n",
    "                            a = self._w[tag][self._vocab[word]]\n",
    "                            dEldw = lambd2gamm*a + rev_gamm*self.sign(a)\n",
    "                            #self._w[tag][self._vocab[word]] -= occurence*(learning_rate*(-dLdw+dEldw))\n",
    "                            self._w[tag][self._vocab[word]] -= learning_rate*(-dLdw)+dEldw\n",
    "                            \n",
    "                        self._b[tag] -= learning_rate*(-dLdw)\n",
    "                    else:\n",
    "                        if sigma >= 0.9:\n",
    "                            tag_probabilities.append(1)\n",
    "                        else:\n",
    "                            tag_probabilities.append(0)\n",
    "                        tag_markings.append(y)\n",
    "                n += 1\n",
    "                #self._loss.append(sample_loss)\n",
    "                if n >= top_n_train:\n",
    "                    self._jaccard_scores.append(jaccard_score(tag_markings, tag_probabilities))"
   ]
  },
  {
   "cell_type": "code",
   "execution_count": 28,
   "metadata": {},
   "outputs": [
    {
     "name": "stdout",
     "output_type": "stream",
     "text": [
      "Creating vocabulary\n",
      "Created vocabulary with 519290 length\n"
     ]
    }
   ],
   "source": [
    "model_elastic = LogRegressorElastic()"
   ]
  },
  {
   "cell_type": "code",
   "execution_count": 29,
   "metadata": {},
   "outputs": [
    {
     "data": {
      "application/vnd.jupyter.widget-view+json": {
       "model_id": "2242a69d899c48c4a8628a104215b76f",
       "version_major": 2,
       "version_minor": 0
      },
      "text/plain": [
       "A Jupyter Widget"
      ]
     },
     "metadata": {},
     "output_type": "display_data"
    },
    {
     "name": "stdout",
     "output_type": "stream",
     "text": [
      "\n"
     ]
    }
   ],
   "source": [
    "model_elastic.iterate_file()"
   ]
  },
  {
   "cell_type": "code",
   "execution_count": 30,
   "metadata": {},
   "outputs": [
    {
     "data": {
      "text/plain": [
       "0.55279455488447127"
      ]
     },
     "execution_count": 30,
     "metadata": {},
     "output_type": "execute_result"
    }
   ],
   "source": [
    "np.mean(model_elastic._jaccard_scores)"
   ]
  },
  {
   "cell_type": "markdown",
   "metadata": {},
   "source": [
    "## 8. Самые важные"
   ]
  },
  {
   "cell_type": "code",
   "execution_count": 31,
   "metadata": {},
   "outputs": [
    {
     "name": "stdout",
     "output_type": "stream",
     "text": [
      "android ['avrf', 'android', 'yjavac', 'art', 'td'] True\n",
      "python ['python', 'def', '3', '29691', 'py'] True\n",
      "php ['avrf', 'php', 'x20', 'dcm', 'dist'] True\n",
      "javascript ['x20', 'javascript', 'x5c', '125', 'x30'] True\n",
      "c++ ['avrf', '0x0000000000000000', 'c++', 'cout', 'std'] True\n",
      "java ['dcm', 'dist', 'xsl', '00', 'println'] False\n",
      "jquery ['jquery', 'ready', 'vendor', 'try', 'span'] True\n",
      "html ['sun', 'amp', 'span', 'br', 'html'] True\n",
      "c# ['dcm', 'dist', 'dev', '00', '0x0'] False\n",
      "ios ['ios', 'ff', 'mingw32', 'w64', 'uiview'] True\n"
     ]
    }
   ],
   "source": [
    "p = dict(zip(model_elastic._vocab.values(),model_elastic._vocab.keys()))\n",
    "for tag in tag_dictionary:\n",
    "    her = [x[0] for x in sorted(model_elastic._w[tag].items(), key=lambda x: abs(x[-1]), reverse=True)[:5]]\n",
    "    print (tag,[p[x] for x in her], tag in [p[x] for x in her])"
   ]
  },
  {
   "cell_type": "markdown",
   "metadata": {},
   "source": [
    "## 9 и 10. Сокращение размера словаря, предсказание"
   ]
  },
  {
   "cell_type": "code",
   "execution_count": 32,
   "metadata": {
    "scrolled": true
   },
   "outputs": [
    {
     "name": "stdout",
     "output_type": "stream",
     "text": [
      "Filtering...\n",
      "Filtered to vocabulary with 10000 length\n"
     ]
    }
   ],
   "source": [
    "model_elastic.filter_vocab()"
   ]
  },
  {
   "cell_type": "code",
   "execution_count": 33,
   "metadata": {},
   "outputs": [
    {
     "data": {
      "application/vnd.jupyter.widget-view+json": {
       "model_id": "ab45fd049224420ba9bee994e7d75662",
       "version_major": 2,
       "version_minor": 0
      },
      "text/plain": [
       "A Jupyter Widget"
      ]
     },
     "metadata": {},
     "output_type": "display_data"
    },
    {
     "name": "stdout",
     "output_type": "stream",
     "text": [
      "\n"
     ]
    }
   ],
   "source": [
    "model_elastic.iterate_file(learning_rate = 0.01)"
   ]
  },
  {
   "cell_type": "code",
   "execution_count": 38,
   "metadata": {},
   "outputs": [
    {
     "name": "stderr",
     "output_type": "stream",
     "text": [
      "/home/uasa/anaconda3/lib/python3.6/site-packages/matplotlib/figure.py:403: UserWarning: matplotlib is currently using a non-GUI backend, so cannot show the figure\n",
      "  \"matplotlib is currently using a non-GUI backend, \"\n"
     ]
    },
    {
     "data": {
      "image/png": "[encoded data removed]",
      "text/plain": [
       "<matplotlib.figure.Figure at 0x7faf4837fb70>"
      ]
     },
     "metadata": {},
     "output_type": "display_data"
    }
   ],
   "source": [
    "fig, ax =plt.subplots(1,2)\n",
    "plt.subplot(1, 2, 1)\n",
    "g = sns.distplot(model_elastic._jaccard_scores[:25001], bins=10, norm_hist=True)\n",
    "g.set(xlim=(0.0, 1.0), ylim=(0.0,7.0))\n",
    "\n",
    "plt.subplot(1, 2, 2)\n",
    "g = sns.distplot(model_elastic._jaccard_scores[25001:], bins=10, norm_hist=True)\n",
    "g.set(xlim=(0.0, 1.0), ylim=(0.0,7.0))\n",
    "fig.show()"
   ]
  },
  {
   "cell_type": "code",
   "execution_count": 35,
   "metadata": {},
   "outputs": [
    {
     "data": {
      "text/plain": [
       "0.63861445542178319"
      ]
     },
     "execution_count": 35,
     "metadata": {},
     "output_type": "execute_result"
    }
   ],
   "source": [
    "np.mean(model_elastic._jaccard_scores[25001:])"
   ]
  },
  {
   "cell_type": "code",
   "execution_count": 36,
   "metadata": {},
   "outputs": [
    {
     "name": "stdout",
     "output_type": "stream",
     "text": [
      "android 0.000428420063199 -7.754977875762985\n",
      "python 6.81373286657e-05 -9.593917210462829\n",
      "php 3.6456027086e-09 -19.429744162675068\n",
      "javascript 0.000455392867633 -7.69389456963126\n",
      "c++ 1.5948055776e-07 -15.651343657144638\n",
      "java 0.453844391582 -0.1851495427733736\n",
      "jquery 5.77315972805e-15 -32.79292021294405\n",
      "html 7.74591502051e-11 -23.28126927705062\n",
      "c# 0.157223207631 -1.6790356448648684\n",
      "ios 4.24414523381e-06 -12.369965872659165\n"
     ]
    },
    {
     "data": {
      "text/plain": [
       "[]"
      ]
     },
     "execution_count": 36,
     "metadata": {},
     "output_type": "execute_result"
    }
   ],
   "source": [
    "sentence = (\"I want to improve my coding skills, so I have planned write \" +\n",
    "            \"a Mobile Application.need to choose between Apple's iOS or Google's Android.\" +\n",
    "            \" my background: I have done basic programming in .Net,C/C++,Python and PHP \" +\n",
    "            \"in college, so got OOP concepts covered. about my skill level, I just know \" +\n",
    "            \"concepts and basic syntax. But can't write complex applications, if asked :(\" +\n",
    "            \" So decided to hone my skills, And I wanted to know which is easier to \" +\n",
    "            \"learn for a programming n00b. A) iOS which uses Objective C B) Android \" + \n",
    "            \"which uses Java. I want to decide based on difficulty level\")\n",
    "\n",
    "\n",
    "model_elastic.predict_proba(sentence)"
   ]
  },
  {
   "cell_type": "code",
   "execution_count": 37,
   "metadata": {},
   "outputs": [
    {
     "name": "stdout",
     "output_type": "stream",
     "text": [
      "android 8.881784197e-16 -34.70435475719286\n",
      "python 0.722205231183 0.9554267528257162\n",
      "php 4.4408920985e-16 -35.538828950628904\n",
      "javascript 0.0 -42.249739445575585\n",
      "c++ 0.201611410568 -1.3762532984642872\n",
      "java 0.0 -38.806915375921534\n",
      "jquery 0.0 -57.70753103561294\n",
      "html 1.7763568394e-15 -33.971139469373526\n",
      "c# 0.0 -37.60345043390416\n",
      "ios 1.0 29.206406646541517\n"
     ]
    },
    {
     "data": {
      "text/plain": [
       "['ios']"
      ]
     },
     "execution_count": 37,
     "metadata": {},
     "output_type": "execute_result"
    }
   ],
   "source": [
    "sentence = (\"I want to improve my coding skills so I have planned write \" +\n",
    "            \"a Mobile Application need to choose between Apple iOS or Google Android \" +\n",
    "            \"my background I have done basic programming in .Net C C++ Python and PHP \" +\n",
    "            \"in college so got OOP concepts covered about my skill level, I just know \" +\n",
    "            \"concepts and basic syntax But can't write complex applications, if asked \" +\n",
    "            \"So decided to hone my skills And I wanted to know which is easier to \" +\n",
    "            \"learn for a programming n00b. A iOS which uses Objective C B Android \" + \n",
    "            \"which uses Java I want to decide based on difficulty level\").lower()\n",
    "\n",
    "\n",
    "model_elastic.predict_proba(sentence)"
   ]
  },
  {
   "cell_type": "markdown",
   "metadata": {},
   "source": [
    "## ИТОГ"
   ]
  },
  {
   "cell_type": "code",
   "execution_count": 39,
   "metadata": {
    "collapsed": true
   },
   "outputs": [],
   "source": [
    "import matplotlib.lines as lines\n",
    "def add_line(ax, model, n_from=0, n_to=25000):\n",
    "    pr = np.mean(model._jaccard_scores[n_from:n_to])*10.0\n",
    "    line = [(0,pr), (1,pr)]\n",
    "    (line_xs,line_ys) = zip(*line)\n",
    "    ax.add_line(lines.Line2D(line_xs,line_ys, color='red', linewidth=2)) "
   ]
  },
  {
   "cell_type": "code",
   "execution_count": 40,
   "metadata": {
    "scrolled": false
   },
   "outputs": [
    {
     "name": "stderr",
     "output_type": "stream",
     "text": [
      "/home/uasa/anaconda3/lib/python3.6/site-packages/matplotlib/figure.py:403: UserWarning: matplotlib is currently using a non-GUI backend, so cannot show the figure\n",
      "  \"matplotlib is currently using a non-GUI backend, \"\n"
     ]
    },
    {
     "data": {
      "image/png": "[encoded data removed]",
      "text/plain": [
       "<matplotlib.figure.Figure at 0x7faf7ec6a240>"
      ]
     },
     "metadata": {},
     "output_type": "display_data"
    }
   ],
   "source": [
    "fig, ax = plt.subplots(nrows=2,ncols=2)\n",
    "for x in range(2):\n",
    "    for y in range(2):\n",
    "        ax[x][y].set_ylim(0,8)\n",
    "        ax[x][y].set_xlim(0,1)\n",
    "        ax[x][y].grid(True)\n",
    "\n",
    "sns.distplot(model_simple._jaccard_scores, bins=10, norm_hist=False, ax=ax[0][0]).set_title('simple')\n",
    "add_line(ax[0][0], model_simple)\n",
    "\n",
    "sns.distplot(model_L2._jaccard_scores, bins=10, norm_hist=False, ax=ax[0][1]).set_title('L2')\n",
    "add_line(ax[0][1], model_L2)\n",
    "\n",
    "sns.distplot(model_elastic._jaccard_scores[:25001], bins=10, norm_hist=False, ax=ax[1][0]).set_title('L2+L1')\n",
    "add_line(ax[1][0], model_elastic, n_to=25001)\n",
    "\n",
    "sns.distplot(model_elastic._jaccard_scores[25001:], bins=10, norm_hist=False, ax=ax[1][1]).set_title('filtered')\n",
    "add_line(ax[1][1], model_elastic, n_from=25001, n_to=50002)\n",
    "\n",
    "fig.show()"
   ]
  },
  {
   "cell_type": "code",
   "execution_count": null,
   "metadata": {
    "collapsed": true
   },
   "outputs": [],
   "source": []
  },
  {
   "cell_type": "code",
   "execution_count": null,
   "metadata": {
    "collapsed": true
   },
   "outputs": [],
   "source": []
  },
  {
   "cell_type": "markdown",
   "metadata": {},
   "source": [
    "..."
   ]
  },
  {
   "cell_type": "markdown",
   "metadata": {
    "collapsed": true
   },
   "source": [
    "# ПАДАЖЖИТЕ ПАДАЖЖИТЕ"
   ]
  },
  {
   "cell_type": "markdown",
   "metadata": {},
   "source": [
    "Всё, что было выше, на самом деле неправильно. Надо так:"
   ]
  },
  {
   "cell_type": "markdown",
   "metadata": {},
   "source": [
    "Во-первых, скорость обучения идёт на обе части.\n",
    "\n",
    "$$ CostFunction = {LearningRate}(-\\frac{d1}{dw} + \\frac{d2}{dw})$$\n",
    "\n",
    "\n",
    "Во-вторых, слова считаются не несколько раз подряд, а один с умножением на коэффициент. Обратное может привести к тому, что вес неправильно изменится. Допустим, 2 раза в тексте встретилось \"хуй\", а у него уже есть вес 0.5 . В идеальном случае его вес станет\n",
    "\n",
    "$$0.5 - 2*(-{L}+RegFunction({хуй}))$$\n",
    "\n",
    "Допустим, ${L}$ равен 5, а функция регуляризации от \"хуй\" выдаёт 6*(вес \"хуй\" в словаре), тогда будет следующее: $ 0.5 - 2*(-5+3) = 4.5$\n",
    "\n",
    "То, что в домашке, на первом шаге сделает вес равным $0.5-(-5+6*0.5) = 2.5 $, а на втором $2.5-(-5+6*2.5)= 12.5$"
   ]
  },
  {
   "cell_type": "markdown",
   "metadata": {},
   "source": [
    "Такая штука должна быть быстрей и точней."
   ]
  },
  {
   "cell_type": "code",
   "execution_count": 49,
   "metadata": {
    "collapsed": true
   },
   "outputs": [],
   "source": [
    "class LogRegressorMadeRight():\n",
    "    \n",
    "    def __init__(self, tags=top_tags):      \n",
    "        self._vocab = {}\n",
    "        self._w = dict([(t, defaultdict(int)) for t in tags])\n",
    "        self._b = dict([(t, 0) for t in tags])\n",
    "        self._tags = set(tags)\n",
    "        self._jaccard_scores=[]\n",
    "        self.create_vocab()\n",
    "        \n",
    "    \n",
    "    def make_vocab_word_list(self, fname=DS_FILE_NAME, total=100000, remaining=10000):\n",
    "        hist_dict = {}\n",
    "        k=0\n",
    "        with open(fname, 'r') as f:            \n",
    "            for line in f:\n",
    "                if k>=total:\n",
    "                    break\n",
    "                pair = line.strip().split('\\t')\n",
    "                if len(pair) != 2:\n",
    "                    continue\n",
    "                text = pair[0].split(' ')\n",
    "                for word in text:\n",
    "                    if word in hist_dict:\n",
    "                        hist_dict[word]+=1\n",
    "                    else:\n",
    "                        hist_dict[word]=0\n",
    "                k+=1\n",
    "        if remaining>0 :\n",
    "            sorted_hist = sorted(hist_dict.items(), key=lambda x: x[-1], reverse=True)[:remaining]\n",
    "            return [sorted_hist[x][0] for x in range(len(sorted_hist))]\n",
    "        else:\n",
    "            return [x for x in hist_dict]\n",
    "        \n",
    "    def create_vocab(self, n=0):\n",
    "        print('Creating vocabulary')\n",
    "        word_list = self.make_vocab_word_list(remaining=n)\n",
    "        self._vocab = {word_list[x]:x for x in range(len(word_list))}\n",
    "        print('Created vocabulary with {} length'.format(len(self._vocab)))\n",
    "    \n",
    "    def filter_vocab(self,n=10000):\n",
    "        print('Filtering...')\n",
    "        word_list = self.make_vocab_word_list(remaining=n)\n",
    "        self._vocab = {a:self._vocab[a] for a in word_list if a in self._vocab}\n",
    "        print('Filtered to vocabulary with {} length'.format(len(self._vocab)))\n",
    "    \n",
    "    def sign(self,a):\n",
    "        if a<0:\n",
    "            return -1\n",
    "        if a==0:\n",
    "            return 0\n",
    "        if a>0:\n",
    "            return 1\n",
    "    \n",
    "    def predict_proba(self, sentence):\n",
    "        word_list = sentence.split(' ')\n",
    "        tag_list = []\n",
    "        for tag in self._tags:\n",
    "            z = self._b[tag]\n",
    "            \n",
    "            for word in word_list:\n",
    "                if word not in self._vocab:\n",
    "                    continue\n",
    "                z += self._w[tag][self._vocab[word]] \n",
    "            \n",
    "            sigma = 1/(1 + np.exp(-z)) if z >= 0 else 1 - 1/(1 + np.exp(z))\n",
    "            print(tag, sigma,z)\n",
    "            if sigma>=0.9:\n",
    "                tag_list.append(tag)\n",
    "        return tag_list\n",
    "    \n",
    "    def iterate_file(self, \n",
    "                     fname=DS_FILE_NAME, \n",
    "                     top_n_train=100000, \n",
    "                     total=125000,\n",
    "                     learning_rate=0.1,\n",
    "                     tolerance=1e-16,\n",
    "                     our_lambda=0.0002,\n",
    "                     our_gamma=0.1):\n",
    "        self._loss = []\n",
    "        n = 0\n",
    "        lambd2gamm = our_lambda*2*our_gamma\n",
    "        rev_gamm = our_lambda*(1-our_gamma)\n",
    "        with open(fname, 'r') as f:            \n",
    "            for line in tqdm_notebook(f, total=total, mininterval=1):\n",
    "                pair = line.strip().split('\\t')\n",
    "                if len(pair) != 2:\n",
    "                    continue                \n",
    "                sentence, tags = pair\n",
    "                sentence = sentence.split(' ')\n",
    "                tags = set(tags.split(' '))\n",
    "                sample_loss = 0\n",
    "                tag_probabilities = []\n",
    "                tag_markings = []\n",
    "                \n",
    "                valued_words = Counter([word for word in sentence if word in self._vocab])\n",
    "\n",
    "                for tag in self._tags:\n",
    "                    y = int(tag in tags)\n",
    "                    z = self._b[tag] \n",
    "                    \n",
    "                    for word in valued_words:      \n",
    "                        z += self._w[tag][self._vocab[word]] \n",
    "                        \n",
    "                    sigma = 1/(1 + math.exp(-z)) if z >= 0 else 1 - 1/(1 + math.exp(z))\n",
    "                       \n",
    "                    dLdw = y-sigma   \n",
    "                    if n < top_n_train:\n",
    "                        for word,occurence in valued_words.items():\n",
    "                            a = self._w[tag][self._vocab[word]]\n",
    "                            dEldw = lambd2gamm*a + rev_gamm*self.sign(a)\n",
    "                            self._w[tag][self._vocab[word]] -= occurence*(learning_rate*(-dLdw+dEldw))\n",
    "                            \n",
    "                        self._b[tag] -= learning_rate*(-dLdw)\n",
    "                    else:\n",
    "                        if sigma >= 0.9:\n",
    "                            tag_probabilities.append(1)\n",
    "                        else:\n",
    "                            tag_probabilities.append(0)\n",
    "                        tag_markings.append(y)\n",
    "                n += 1\n",
    "                if n >= top_n_train:\n",
    "                    self._jaccard_scores.append(jaccard_score(tag_markings, tag_probabilities))"
   ]
  },
  {
   "cell_type": "code",
   "execution_count": 50,
   "metadata": {},
   "outputs": [
    {
     "name": "stdout",
     "output_type": "stream",
     "text": [
      "Creating vocabulary\n",
      "Created vocabulary with 519290 length\n"
     ]
    }
   ],
   "source": [
    "model_cool = LogRegressorMadeRight()"
   ]
  },
  {
   "cell_type": "code",
   "execution_count": 51,
   "metadata": {},
   "outputs": [
    {
     "data": {
      "application/vnd.jupyter.widget-view+json": {
       "model_id": "dead4f261169450abf16e23621e6db2d",
       "version_major": 2,
       "version_minor": 0
      },
      "text/plain": [
       "A Jupyter Widget"
      ]
     },
     "metadata": {},
     "output_type": "display_data"
    },
    {
     "name": "stdout",
     "output_type": "stream",
     "text": [
      "\n",
      "\n"
     ]
    }
   ],
   "source": [
    "model_cool.iterate_file()"
   ]
  },
  {
   "cell_type": "code",
   "execution_count": 52,
   "metadata": {},
   "outputs": [
    {
     "data": {
      "text/plain": [
       "0.66601335946562135"
      ]
     },
     "execution_count": 52,
     "metadata": {},
     "output_type": "execute_result"
    }
   ],
   "source": [
    "np.mean(model_cool._jaccard_scores)"
   ]
  },
  {
   "cell_type": "code",
   "execution_count": 53,
   "metadata": {},
   "outputs": [
    {
     "name": "stdout",
     "output_type": "stream",
     "text": [
      "android ['avrf', 'android', 'source', 'unknown', 'quot'] True\n",
      "python ['0x0000000000000000', 'python', 'py', 'lt', 'def'] True\n",
      "php ['php', 'gt', 'x5c', 'vendor', '125'] True\n",
      "javascript ['javascript', 'x5c', 'js', 'vendor', 'ng'] True\n",
      "c++ ['avrf', '0x0000000000000000', 'c++', '_defaultimage', 'trace'] True\n",
      "java ['java', '29691', 'w', '21', '176'] True\n",
      "jquery ['jquery', 'td', 'li', 'dial_code', 'sdf'] True\n",
      "html ['x5c', '3', 'html', 'span', 'twentythirteen'] True\n",
      "c# ['dial_code', 'php', 'writeline', 'println', 'java'] False\n",
      "ios ['ios', 'node_modules', 'pil', 'iphone', 'xcode'] True\n"
     ]
    }
   ],
   "source": [
    "p = dict(zip(model_cool._vocab.values(),model_cool._vocab.keys()))\n",
    "for tag in tag_dictionary:\n",
    "    her = [x[0] for x in sorted(model_cool._w[tag].items(), key=lambda x: abs(x[-1]), reverse=True)[:5]]\n",
    "    print (tag,[p[x] for x in her], tag in [p[x] for x in her])"
   ]
  },
  {
   "cell_type": "code",
   "execution_count": 54,
   "metadata": {},
   "outputs": [
    {
     "name": "stdout",
     "output_type": "stream",
     "text": [
      "Filtering...\n",
      "Filtered to vocabulary with 10000 length\n"
     ]
    }
   ],
   "source": [
    "model_cool.filter_vocab()"
   ]
  },
  {
   "cell_type": "code",
   "execution_count": 55,
   "metadata": {},
   "outputs": [
    {
     "data": {
      "application/vnd.jupyter.widget-view+json": {
       "model_id": "3103006eb0ac450697ee48a017de2dfe",
       "version_major": 2,
       "version_minor": 0
      },
      "text/plain": [
       "A Jupyter Widget"
      ]
     },
     "metadata": {},
     "output_type": "display_data"
    },
    {
     "name": "stdout",
     "output_type": "stream",
     "text": [
      "\n"
     ]
    }
   ],
   "source": [
    "model_cool.iterate_file(learning_rate=0.01)"
   ]
  },
  {
   "cell_type": "code",
   "execution_count": 56,
   "metadata": {},
   "outputs": [
    {
     "data": {
      "text/plain": [
       "0.70395517512632821"
      ]
     },
     "execution_count": 56,
     "metadata": {},
     "output_type": "execute_result"
    }
   ],
   "source": [
    "np.mean(model_cool._jaccard_scores[25001:])"
   ]
  },
  {
   "cell_type": "code",
   "execution_count": 58,
   "metadata": {},
   "outputs": [
    {
     "name": "stderr",
     "output_type": "stream",
     "text": [
      "/home/uasa/anaconda3/lib/python3.6/site-packages/matplotlib/figure.py:403: UserWarning: matplotlib is currently using a non-GUI backend, so cannot show the figure\n",
      "  \"matplotlib is currently using a non-GUI backend, \"\n"
     ]
    },
    {
     "data": {
      "image/png": "[encoded data removed]",
      "text/plain": [
       "<matplotlib.figure.Figure at 0x7faf39211cc0>"
      ]
     },
     "metadata": {},
     "output_type": "display_data"
    }
   ],
   "source": [
    "fig, ax = plt.subplots(nrows=2,ncols=2)\n",
    "for x in range(2):\n",
    "    for y in range(2):\n",
    "        ax[x][y].set_ylim(0,8)\n",
    "        ax[x][y].set_xlim(0,1)\n",
    "        ax[x][y].grid(True)\n",
    "\n",
    "sns.distplot(model_elastic._jaccard_scores[:25001], bins=10, norm_hist=False, ax=ax[0][0]).set_title('L2+L1')\n",
    "add_line(ax[0][0], model_elastic, n_to=25001)\n",
    "\n",
    "sns.distplot(model_elastic._jaccard_scores[25001:], bins=10, norm_hist=False, ax=ax[0][1]).set_title('filtered')\n",
    "add_line(ax[0][1], model_elastic, n_from=25001, n_to=50002)\n",
    "\n",
    "sns.distplot(model_cool._jaccard_scores[:25001], bins=10, norm_hist=False, ax=ax[1][0]).set_title('proper L2+L1')\n",
    "add_line(ax[1][0], model_cool, n_to=25001)\n",
    "\n",
    "sns.distplot(model_cool._jaccard_scores[25001:], bins=10, norm_hist=False, ax=ax[1][1]).set_title('proper filtered')\n",
    "add_line(ax[1][1], model_cool, n_from=25001, n_to=50002)\n",
    "\n",
    "fig.show()"
   ]
  },
  {
   "cell_type": "code",
   "execution_count": 59,
   "metadata": {},
   "outputs": [
    {
     "name": "stdout",
     "output_type": "stream",
     "text": [
      "android 1.0 39.58932355631906\n",
      "python 3.89620780084e-10 -21.665847103829744\n",
      "php 0.0 -111.038064412808\n",
      "javascript 9.66648983081e-12 -25.362347912942973\n",
      "c++ 4.07290883686e-07 -14.713737797875464\n",
      "java 0.0 -44.78657263010237\n",
      "jquery 0.0 -162.36093415078832\n",
      "html 0.0 -40.64859305193927\n",
      "c# 0.0 -98.35007629302922\n",
      "ios 0.982945680554 4.054150348216345\n"
     ]
    },
    {
     "data": {
      "text/plain": [
       "['android', 'ios']"
      ]
     },
     "execution_count": 59,
     "metadata": {},
     "output_type": "execute_result"
    }
   ],
   "source": [
    "sentence = (\"I want to improve my coding skills so I have planned write \" +\n",
    "            \"a Mobile Application need to choose between Apple iOS or Google Android \" +\n",
    "            \"my background I have done basic programming in .Net C C++ Python and PHP \" +\n",
    "            \"in college so got OOP concepts covered about my skill level, I just know \" +\n",
    "            \"concepts and basic syntax But can't write complex applications, if asked \" +\n",
    "            \"So decided to hone my skills And I wanted to know which is easier to \" +\n",
    "            \"learn for a programming n00b. A iOS which uses Objective C B Android \" + \n",
    "            \"which uses Java I want to decide based on difficulty level\").lower()\n",
    "\n",
    "\n",
    "model_cool.predict_proba(sentence)"
   ]
  },
  {
   "cell_type": "code",
   "execution_count": null,
   "metadata": {
    "collapsed": true
   },
   "outputs": [],
   "source": []
  }
 ],
 "metadata": {
  "kernelspec": {
   "display_name": "Python 3",
   "language": "python",
   "name": "python3"
  },
  "language_info": {
   "codemirror_mode": {
    "name": "ipython",
    "version": 3
   },
   "file_extension": ".py",
   "mimetype": "text/x-python",
   "name": "python",
   "nbconvert_exporter": "python",
   "pygments_lexer": "ipython3",
   "version": "3.6.2"
  }
 },
 "nbformat": 4,
 "nbformat_minor": 2
}
