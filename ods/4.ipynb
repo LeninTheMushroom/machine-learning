{
 "cells": [
  {
   "cell_type": "markdown",
   "metadata": {},
   "source": [
    "## Задача 1"
   ]
  },
  {
   "cell_type": "markdown",
   "metadata": {},
   "source": [
    "Функция вероятности Бернулли\n",
    "$$f(k;p)=p^{k}(1-p)^{1-k}$$ $$k\\in(0,1)$$"
   ]
  },
  {
   "cell_type": "markdown",
   "metadata": {},
   "source": [
    "Правдоподобие наблюдений\n",
    "$$\\prod_{k=0}^{M} p^{k}(1-p)^{1-k}$$"
   ]
  },
  {
   "cell_type": "markdown",
   "metadata": {},
   "source": [
    "Логарифм правдоподобия\n",
    "$$\\log\\prod_{k=0}^{M} p^{k}(1-p)^{1-k}==\\sum_{k=0}^{M}\\log{p^{k}(1-p)^{1-k}} == $$\n",
    "$$ \\sum_{k=0}^{M}\\log{p^{k}}+\\sum_{k=0}^{M}\\log{(1-p)^{1-k}} == $$\n",
    "$$ \\sum_{k=0}^{M}[k\\log{p} + (1-k)\\log(1-p)]$$"
   ]
  },
  {
   "cell_type": "markdown",
   "metadata": {},
   "source": [
    "$k$ - возможный результат, то есть $y_i$\n",
    "\n",
    "$p$ - вероятность попадания в результат (тег), то есть $p(tag_i | x) = \\sigma(z_i)$\n",
    "\n",
    "Следовательно, функция имеет вид"
   ]
  },
  {
   "cell_type": "markdown",
   "metadata": {},
   "source": [
    "$$ \\sum_{i=0}^{M}[y_i\\log{\\sigma(z_i)} + (1-y_i)\\log(1-\\sigma(z_i))]$$"
   ]
  },
  {
   "cell_type": "markdown",
   "metadata": {},
   "source": [
    "## Задача 2"
   ]
  },
  {
   "cell_type": "markdown",
   "metadata": {},
   "source": [
    "нужно получить производную по $w_i$ - вот такую штуку   \n",
    "\n",
    "<h4 align='center'>__(выражение 1)__</h4>\n",
    "$$ \\frac{du}{dw_i} \\sum_{i=0}^{M}[y_i\\log{\\sigma(z_i)} + (1-y_i)\\log(1-\\sigma(z_i))]$$\n",
    "\n"
   ]
  },
  {
   "cell_type": "markdown",
   "metadata": {},
   "source": [
    "в этом случае нам любезно предоставлено выведение вероятности через сигму - \n",
    "$$\\sigma(z_i) = p(tag_i | x) = \\sigma(\\sum_{k=0}^{M} w_ix^i)$$"
   ]
  },
  {
   "cell_type": "markdown",
   "metadata": {},
   "source": [
    "сама сигма - это херня вроде следующей\n",
    "\n",
    "$$\\sigma(a)=\\frac{1}{1+e^{-a}}$$\n"
   ]
  },
  {
   "cell_type": "markdown",
   "metadata": {},
   "source": [
    "пусть сумма $w_ix^i$ равна не $z_i$, а $\\theta$, тогда надо найти \n",
    "\n",
    "<h4 align='center'>__(выражение 2)__</h4>\n",
    "\n",
    "$$ \\frac{du}{dw_i} \\sum_{i=0}^{M}[y_i\\log{\\sigma(\\theta)} + (1-y_i)\\log(1-\\sigma(\\theta))]$$\n",
    "\n",
    "начинаем решать через выражение $log(1-\\sigma)$ чем-то другим\n",
    "\n",
    "<h4 align='center'>__(выражение 3)__</h4>\n",
    "\n",
    "$$\\log{\\sigma(\\theta)}=log{\\frac{1}{1+e^{-\\theta}}}=-log{(1+e^{-\\theta})}$$"
   ]
  },
  {
   "cell_type": "markdown",
   "metadata": {},
   "source": [
    "$$\\log{(1-\\sigma(\\theta))} = \\log{(1-\\frac{1}{1+e^{-\\theta}})} = \\log{(\\frac{e^{-\\theta}}{1+e^{-\\theta}})} = \\log(e^{-\\theta})-\\log(1+e^{-\\theta})$$"
   ]
  },
  {
   "cell_type": "markdown",
   "metadata": {},
   "source": [
    "и вся эта хрень равна \n",
    "<h4 align='center'>__(выражение 4)__</h4>\n",
    "\n",
    "$$\\log{(1-\\sigma(\\theta))} = -\\theta-log(1+e^{-\\theta})$$"
   ]
  },
  {
   "cell_type": "markdown",
   "metadata": {},
   "source": [
    "теперь подставим выражения __3__ и __4__ во __второе__, получим\n",
    "$$ \\frac{du}{dw_i} \\sum_{i=0}^{M}[-y_i\\log{(1+e^{-\\theta})} + (1-y_i)*(-\\theta-log(1+e^{-\\theta}))]$$"
   ]
  },
  {
   "cell_type": "markdown",
   "metadata": {},
   "source": [
    "это говно сокращается до\n",
    "$$ \\frac{du}{dw_i} \\sum_{i=0}^{M}[y_i\\theta - \\theta - \\log{(1+e^{-\\theta})}]$$"
   ]
  },
  {
   "cell_type": "markdown",
   "metadata": {},
   "source": [
    "при этом\n",
    "$$-\\theta-log(1+e^{-\\theta}) = - [\\log{e^{\\theta}} + log(1+e^{-\\theta})] = -log(1+e^{\\theta})$$\n",
    "\n",
    "то есть всё упрощается до\n",
    "\n",
    "$$\\frac{du}{dw_i} \\sum_{i=0}^{M} {y\\theta -log(1+e^{\\theta})}$$"
   ]
  },
  {
   "cell_type": "markdown",
   "metadata": {},
   "source": [
    "или\n",
    "\n",
    "$$\\frac{du}{dw_i} {y_{k}w_{i}x -log(1+e^{w_ix})}$$"
   ]
  },
  {
   "cell_type": "markdown",
   "metadata": {},
   "source": [
    "берем производные по частям, выходит\n",
    "$$ y_kx - x\\sigma(z_i)$$"
   ]
  },
  {
   "cell_type": "markdown",
   "metadata": {},
   "source": [
    "или\n",
    "$$\\nabla L = x(y_k-\\sigma(z_i))$$\n",
    "$$-\\nabla L = x(\\sigma(z_i)-y_k)$$"
   ]
  },
  {
   "cell_type": "markdown",
   "metadata": {},
   "source": [
    "## Задачи 3 и 4."
   ]
  },
  {
   "cell_type": "code",
   "execution_count": 1,
   "metadata": {
    "collapsed": true
   },
   "outputs": [],
   "source": [
    "%matplotlib inline\n",
    "import numpy as np\n",
    "import matplotlib.pyplot as plt\n",
    "import seaborn as sns\n",
    "from tqdm import tqdm_notebook\n",
    "import pandas as pd\n",
    "from collections import defaultdict\n",
    "from collections import Counter\n",
    "import math\n",
    "\n",
    "sns.set_style(\"dark\")\n",
    "plt.rcParams['figure.figsize'] = 16, 12\n",
    "\n",
    "DS_FILE_NAME = '/home/uasa/Desktop/data/stackoverflow_sample_125k.tsv'\n",
    "TAGS_FILE_NAME = '/home/uasa/Desktop/data/top10_tags.tsv'"
   ]
  },
  {
   "cell_type": "code",
   "execution_count": 2,
   "metadata": {},
   "outputs": [
    {
     "name": "stdout",
     "output_type": "stream",
     "text": [
      "{'php', 'c++', 'javascript', 'jquery', 'java', 'android', 'python', 'ios', 'html', 'c#'}\n"
     ]
    }
   ],
   "source": [
    "top_tags = []\n",
    "with open(TAGS_FILE_NAME, 'r') as f:\n",
    "    for line in f:\n",
    "        top_tags.append(line.strip())\n",
    "top_tags = set(top_tags)\n",
    "print(top_tags)"
   ]
  },
  {
   "cell_type": "code",
   "execution_count": 3,
   "metadata": {},
   "outputs": [
    {
     "data": {
      "text/plain": [
       "{'android': 5,\n",
       " 'c#': 9,\n",
       " 'c++': 1,\n",
       " 'html': 8,\n",
       " 'ios': 7,\n",
       " 'java': 4,\n",
       " 'javascript': 2,\n",
       " 'jquery': 3,\n",
       " 'php': 0,\n",
       " 'python': 6}"
      ]
     },
     "execution_count": 3,
     "metadata": {},
     "output_type": "execute_result"
    }
   ],
   "source": [
    "tag_dictionary = dict(zip(top_tags,[x for x in range(len(top_tags))]))\n",
    "tag_dictionary"
   ]
  },
  {
   "cell_type": "code",
   "execution_count": 4,
   "metadata": {
    "collapsed": true
   },
   "outputs": [],
   "source": [
    "def jaccard_score(a,b):\n",
    "    score = 0.0\n",
    "    length = 0\n",
    "    for x in range(len(a)):\n",
    "        if b[x] == a[x] == 0:\n",
    "            continue\n",
    "        if b[x] == a[x]:\n",
    "            score+=1.0\n",
    "        length+=1\n",
    "    if length == 0:\n",
    "        return 0\n",
    "    return score/length"
   ]
  },
  {
   "cell_type": "code",
   "execution_count": 5,
   "metadata": {
    "collapsed": true
   },
   "outputs": [],
   "source": [
    "class LogRegressor():\n",
    "    \n",
    "    def __init__(self, tags=top_tags):      \n",
    "        self._vocab = {}        \n",
    "        self._w = dict([(t, defaultdict(int)) for t in tags])\n",
    "        self._b = dict([(t, 0) for t in tags])\n",
    "        self._tags = set(tags)\n",
    "        self._jaccard_scores=[]\n",
    "    \n",
    "    def iterate_file(self, \n",
    "                     fname=DS_FILE_NAME, \n",
    "                     top_n_train=100000, \n",
    "                     total=125000,\n",
    "                     learning_rate=0.1,\n",
    "                     tolerance=1e-16):\n",
    "        \n",
    "        self._loss = []\n",
    "        n = 0\n",
    "        \n",
    "        with open(fname, 'r') as f:             \n",
    "            for line in tqdm_notebook(f, total=total, mininterval=1):\n",
    "                pair = line.strip().split('\\t')\n",
    "                if len(pair) != 2:\n",
    "                    continue                \n",
    "                sentence, tags = pair\n",
    "                sentence = sentence.split(' ')\n",
    "                tags = set(tags.split(' '))\n",
    "                sample_loss = 0\n",
    "                tag_probabilities = []\n",
    "                tag_markings = []\n",
    "                for tag in self._tags:\n",
    "                    y = int(tag in tags)  \n",
    "                    z = self._b[tag] \n",
    "                    for word in sentence:\n",
    "                        if n >= top_n_train and word not in self._vocab:\n",
    "                            continue\n",
    "                        if word not in self._vocab:\n",
    "                            self._vocab[word] = len(self._vocab)\n",
    "                        z += self._w[tag][self._vocab[word]] \n",
    "                        \n",
    "                    sigma = 1/(1 + np.exp(-z)) if z >= 0 else 1 - 1/(1 + np.exp(z))\n",
    "                    \n",
    "                    sample_loss += -y*np.log(np.max([tolerance, sigma])) if y == 1 else \\\n",
    "                                   -(1 - y)*np.log(1 - np.min([1 - tolerance, sigma]))\n",
    "    \n",
    "                    if n < top_n_train:\n",
    "                        dLdw = y - sigma\n",
    "                        cost_function = -learning_rate*dLdw\n",
    "                        for word in sentence:                        \n",
    "                            self._w[tag][self._vocab[word]] -= cost_function\n",
    "                        self._b[tag] -= cost_function\n",
    "                    else:\n",
    "                        if sigma >= 0.9:\n",
    "                            tag_probabilities.append(1)\n",
    "                        else:\n",
    "                            tag_probabilities.append(0)\n",
    "                        tag_markings.append(y)\n",
    "                n += 1\n",
    "                self._loss.append(sample_loss)\n",
    "                if n >= top_n_train:\n",
    "                    self._jaccard_scores.append(jaccard_score(tag_markings, tag_probabilities))\n",
    "        \n",
    "        "
   ]
  },
  {
   "cell_type": "code",
   "execution_count": 6,
   "metadata": {
    "collapsed": true
   },
   "outputs": [],
   "source": [
    "model_simple = LogRegressor(top_tags)"
   ]
  },
  {
   "cell_type": "code",
   "execution_count": 7,
   "metadata": {},
   "outputs": [
    {
     "data": {
      "application/vnd.jupyter.widget-view+json": {
       "model_id": "54ef959e408146eba788e7f07dcdabca",
       "version_major": 2,
       "version_minor": 0
      },
      "text/plain": [
       "A Jupyter Widget"
      ]
     },
     "metadata": {},
     "output_type": "display_data"
    },
    {
     "name": "stdout",
     "output_type": "stream",
     "text": [
      "\n"
     ]
    }
   ],
   "source": [
    "model_simple.iterate_file()"
   ]
  },
  {
   "cell_type": "code",
   "execution_count": 8,
   "metadata": {},
   "outputs": [
    {
     "name": "stderr",
     "output_type": "stream",
     "text": [
      "/home/uasa/anaconda3/lib/python3.6/site-packages/matplotlib/figure.py:403: UserWarning: matplotlib is currently using a non-GUI backend, so cannot show the figure\n",
      "  \"matplotlib is currently using a non-GUI backend, \"\n"
     ]
    },
    {
     "data": {
      "image/png": "[encoded data removed]",
      "text/plain": [
       "<matplotlib.figure.Figure at 0x7fc01269da90>"
      ]
     },
     "metadata": {},
     "output_type": "display_data"
    }
   ],
   "source": [
    "fig, ax =plt.subplots(1,2)\n",
    "plt.subplot(1, 2, 1)\n",
    "plt.plot(pd.Series(model_simple._loss[:-25000]).rolling(10000).mean());\n",
    "\n",
    "plt.subplot(1, 2, 2)\n",
    "g = sns.distplot(model_simple._jaccard_scores, bins=10, norm_hist=True)\n",
    "g.set(xlim=(0.0, 1.0), ylim=(0.0,7.0))\n",
    "fig.show()"
   ]
  },
  {
   "cell_type": "code",
   "execution_count": 9,
   "metadata": {},
   "outputs": [
    {
     "name": "stdout",
     "output_type": "stream",
     "text": [
      "Mean of the loss function on the last 10k train samples: 19.74\n"
     ]
    }
   ],
   "source": [
    "print('Mean of the loss function on the last 10k train samples: %0.2f' % np.mean(model_simple._loss[-35000:-25000]))"
   ]
  },
  {
   "cell_type": "code",
   "execution_count": 10,
   "metadata": {},
   "outputs": [
    {
     "data": {
      "text/plain": [
       "0.25"
      ]
     },
     "execution_count": 10,
     "metadata": {},
     "output_type": "execute_result"
    }
   ],
   "source": [
    "# проверка джаккара - должно выдать 0.25\n",
    "jaccard_score([0,0,1,0,0,0,1,0,0],[0,1,1,0,0,1,0,0,0])"
   ]
  },
  {
   "cell_type": "code",
   "execution_count": 11,
   "metadata": {},
   "outputs": [
    {
     "data": {
      "text/plain": [
       "0.58806714398090731"
      ]
     },
     "execution_count": 11,
     "metadata": {},
     "output_type": "execute_result"
    }
   ],
   "source": [
    "np.mean(model_simple._jaccard_scores)"
   ]
  },
  {
   "cell_type": "markdown",
   "metadata": {},
   "source": [
    "## Задача 5. L2"
   ]
  },
  {
   "cell_type": "markdown",
   "metadata": {},
   "source": [
    "Ранее выведено\n",
    "$$\\nabla L = x(y_k-\\sigma(z_i))$$\n",
    "$$-\\nabla L = x(\\sigma(z_i)-y_k)$$\n",
    "или просто y - sigma в коде"
   ]
  },
  {
   "cell_type": "markdown",
   "metadata": {},
   "source": [
    "теперь надо добавить к нему $\\lambda w_{ki}$, где $\\lambda$ задается, а $w_{ki}$ - это вес из вектора весов"
   ]
  },
  {
   "cell_type": "code",
   "execution_count": 12,
   "metadata": {
    "collapsed": true
   },
   "outputs": [],
   "source": [
    "class LogRegressorL2():\n",
    "    \n",
    "    def __init__(self, tags=top_tags):      \n",
    "        self._vocab = {}        \n",
    "        self._w = dict([(t, defaultdict(int)) for t in tags])\n",
    "        self._b = dict([(t, 0) for t in tags])\n",
    "        self._tags = set(tags)\n",
    "        self._jaccard_scores=[]\n",
    "    \n",
    "    def iterate_file(self, \n",
    "                     fname=DS_FILE_NAME, \n",
    "                     top_n_train=100000, \n",
    "                     total=125000,\n",
    "                     learning_rate=0.1,\n",
    "                     tolerance=1e-16,\n",
    "                     our_lambda=0.01):\n",
    "        self._loss = []\n",
    "        n = 0\n",
    "        with open(fname, 'r') as f:            \n",
    "            for line in tqdm_notebook(f, total=total, mininterval=1):\n",
    "                pair = line.strip().split('\\t')\n",
    "                if len(pair) != 2:\n",
    "                    continue                \n",
    "                sentence, tags = pair\n",
    "                sentence = sentence.split(' ')\n",
    "                tags = set(tags.split(' '))\n",
    "                sample_loss = 0\n",
    "                tag_probabilities = []\n",
    "                tag_markings = []\n",
    "                \n",
    "                for tag in self._tags:\n",
    "                    y = int(tag in tags)\n",
    "                    z = self._b[tag] \n",
    "                    for word in sentence:\n",
    "                        if n >= top_n_train and word not in self._vocab:\n",
    "                            continue\n",
    "                        if word not in self._vocab:\n",
    "                            self._vocab[word] = len(self._vocab)\n",
    "                        z += self._w[tag][self._vocab[word]] \n",
    "                        \n",
    "                    sigma = 1/(1 + np.exp(-z)) if z >= 0 else 1 - 1/(1 + np.exp(z))\n",
    "                    sample_loss += -y*np.log(np.max([tolerance, sigma])) if y == 1 else \\\n",
    "                                   -(1 - y)*np.log(1 - np.min([1 - tolerance, sigma]))\n",
    "                    if n < top_n_train:\n",
    "                        dLdw = y-sigma \n",
    "                        for word in sentence:\n",
    "                            dL2dw = our_lambda*self._w[tag][self._vocab[word]]\n",
    "                            self._w[tag][self._vocab[word]] -= learning_rate*(-dLdw + dL2dw)\n",
    "                            \n",
    "                        self._b[tag] -= learning_rate*(-dLdw)\n",
    "                    else:\n",
    "                        if sigma >= 0.9:\n",
    "                            tag_probabilities.append(1)\n",
    "                        else:\n",
    "                            tag_probabilities.append(0)\n",
    "                        tag_markings.append(y)\n",
    "                n += 1\n",
    "                self._loss.append(sample_loss)\n",
    "                if n >= top_n_train:\n",
    "                    self._jaccard_scores.append(jaccard_score(tag_markings, tag_probabilities))"
   ]
  },
  {
   "cell_type": "code",
   "execution_count": 13,
   "metadata": {},
   "outputs": [
    {
     "data": {
      "application/vnd.jupyter.widget-view+json": {
       "model_id": "4561d76d0c214361b4ae886dcfb18685",
       "version_major": 2,
       "version_minor": 0
      },
      "text/plain": [
       "A Jupyter Widget"
      ]
     },
     "metadata": {},
     "output_type": "display_data"
    },
    {
     "name": "stdout",
     "output_type": "stream",
     "text": [
      "\n"
     ]
    }
   ],
   "source": [
    "model_L2 = LogRegressorL2()\n",
    "model_L2.iterate_file()"
   ]
  },
  {
   "cell_type": "code",
   "execution_count": 14,
   "metadata": {},
   "outputs": [
    {
     "name": "stderr",
     "output_type": "stream",
     "text": [
      "/home/uasa/anaconda3/lib/python3.6/site-packages/matplotlib/figure.py:403: UserWarning: matplotlib is currently using a non-GUI backend, so cannot show the figure\n",
      "  \"matplotlib is currently using a non-GUI backend, \"\n"
     ]
    },
    {
     "data": {
      "image/png": "[encoded data removed]",
      "text/plain": [
       "<matplotlib.figure.Figure at 0x7fbff94b1240>"
      ]
     },
     "metadata": {},
     "output_type": "display_data"
    }
   ],
   "source": [
    "fig, ax =plt.subplots(1,2)\n",
    "plt.subplot(1, 2, 1)\n",
    "plt.plot(pd.Series(model_L2._loss[:-25000]).rolling(10000).mean());\n",
    "\n",
    "plt.subplot(1, 2, 2)\n",
    "g = sns.distplot(model_L2._jaccard_scores, bins=10, norm_hist=True)\n",
    "g.set(xlim=(0.0, 1.0), ylim=(0.0,7.0))\n",
    "fig.show()"
   ]
  },
  {
   "cell_type": "code",
   "execution_count": 15,
   "metadata": {},
   "outputs": [
    {
     "data": {
      "text/plain": [
       "19.004464493786823"
      ]
     },
     "execution_count": 15,
     "metadata": {},
     "output_type": "execute_result"
    }
   ],
   "source": [
    "np.mean(model_L2._loss[-35000:-25000])"
   ]
  },
  {
   "cell_type": "code",
   "execution_count": 16,
   "metadata": {},
   "outputs": [
    {
     "data": {
      "text/plain": [
       "0.52899417356639067"
      ]
     },
     "execution_count": 16,
     "metadata": {},
     "output_type": "execute_result"
    }
   ],
   "source": [
    "np.mean(model_L2._jaccard_scores)"
   ]
  },
  {
   "cell_type": "markdown",
   "metadata": {},
   "source": [
    "## 6. Формула для L1+L2"
   ]
  },
  {
   "cell_type": "markdown",
   "metadata": {},
   "source": [
    "$$\\lambda [ 2w\\gamma + (1-\\gamma)sign(w)]$$"
   ]
  },
  {
   "cell_type": "markdown",
   "metadata": {},
   "source": [
    "## 7. ElasticNet"
   ]
  },
  {
   "cell_type": "code",
   "execution_count": 17,
   "metadata": {
    "collapsed": true
   },
   "outputs": [],
   "source": [
    "class LogRegressorElastic():\n",
    "    \n",
    "    def __init__(self, tags=top_tags):      \n",
    "        self._vocab = {}\n",
    "        self._w = dict([(t, defaultdict(int)) for t in tags])\n",
    "        self._b = dict([(t, 0) for t in tags])\n",
    "        self._tags = set(tags)\n",
    "        self._jaccard_scores=[]\n",
    "        self.create_vocab()\n",
    "        \n",
    "    \n",
    "    def make_vocab_word_list(self, fname=DS_FILE_NAME, total=100000, remaining=10000):\n",
    "        hist_dict = {}\n",
    "        k=0\n",
    "        with open(fname, 'r') as f:            \n",
    "            for line in f:\n",
    "                if k>=total:\n",
    "                    break\n",
    "                pair = line.strip().split('\\t')\n",
    "                if len(pair) != 2:\n",
    "                    continue\n",
    "                text = pair[0].split(' ')\n",
    "                for word in text:\n",
    "                    if word in hist_dict:\n",
    "                        hist_dict[word]+=1\n",
    "                    else:\n",
    "                        hist_dict[word]=0\n",
    "                k+=1\n",
    "        if remaining>0 :\n",
    "            sorted_hist = sorted(hist_dict.items(), key=lambda x: x[-1], reverse=True)[:remaining]\n",
    "            return [sorted_hist[x][0] for x in range(len(sorted_hist))]\n",
    "        else:\n",
    "            return [x for x in hist_dict]\n",
    "        \n",
    "    def create_vocab(self, n=0):\n",
    "        print('Creating vocabulary')\n",
    "        word_list = self.make_vocab_word_list(remaining=n)\n",
    "        self._vocab = {word_list[x]:x for x in range(len(word_list))}\n",
    "        print('Created vocabulary with {} length'.format(len(self._vocab)))\n",
    "    \n",
    "    def filter_vocab(self,n=10000):\n",
    "        print('Filtering...')\n",
    "        word_list = self.make_vocab_word_list(remaining=n)\n",
    "        self._vocab = {a:self._vocab[a] for a in word_list if a in self._vocab}\n",
    "        print('Filtered to vocabulary with {} length'.format(len(self._vocab)))\n",
    "    \n",
    "    def sign(self,a):\n",
    "        if a<0:\n",
    "            return -1\n",
    "        if a==0:\n",
    "            return 0\n",
    "        if a>0:\n",
    "            return 1\n",
    "    \n",
    "    def predict_proba(self, sentence):\n",
    "        word_list = sentence.split(' ')\n",
    "        tag_list = []\n",
    "        for tag in self._tags:\n",
    "            z = self._b[tag]\n",
    "            \n",
    "            for word in word_list:\n",
    "                if word not in self._vocab:\n",
    "                    continue\n",
    "                z += self._w[tag][self._vocab[word]] \n",
    "            \n",
    "            sigma = 1/(1 + np.exp(-z)) if z >= 0 else 1 - 1/(1 + np.exp(z))\n",
    "            print(tag, sigma,z)\n",
    "            if sigma>=0.9:\n",
    "                tag_list.append(tag)\n",
    "        return tag_list\n",
    "    \n",
    "    def iterate_file(self, \n",
    "                     fname=DS_FILE_NAME, \n",
    "                     top_n_train=100000, \n",
    "                     total=125000,\n",
    "                     learning_rate=0.1,\n",
    "                     tolerance=1e-16,\n",
    "                     our_lambda=0.0002,\n",
    "                     our_gamma=0.1):\n",
    "        n = 0\n",
    "        lambd2gamm = our_lambda*2*our_gamma\n",
    "        rev_gamm = our_lambda*(1-our_gamma)\n",
    "        with open(fname, 'r') as f:            \n",
    "            for line in tqdm_notebook(f, total=total, mininterval=1):\n",
    "                pair = line.strip().split('\\t')\n",
    "                if len(pair) != 2:\n",
    "                    continue                \n",
    "                sentence, tags = pair\n",
    "                sentence = sentence.split(' ')\n",
    "                tags = set(tags.split(' '))\n",
    "                tag_probabilities = []\n",
    "                tag_markings = []\n",
    "                \n",
    "                valued_words = [word for word in sentence if word in self._vocab]\n",
    "\n",
    "                for tag in self._tags:\n",
    "                    y = int(tag in tags)\n",
    "                    z = self._b[tag] \n",
    "                    \n",
    "                    for word in valued_words:      \n",
    "                        z += self._w[tag][self._vocab[word]] \n",
    "                        \n",
    "                    sigma = 1/(1 + math.exp(-z)) if z >= 0 else 1 - 1/(1 + math.exp(z))\n",
    "                       \n",
    "                    dLdw = y-sigma   \n",
    "                    if n < top_n_train:\n",
    "                        for word in valued_words:\n",
    "                            a = self._w[tag][self._vocab[word]]\n",
    "                            dEldw = lambd2gamm*a + rev_gamm*self.sign(a)\n",
    "\n",
    "                            self._w[tag][self._vocab[word]] -= learning_rate*(-dLdw+dEldw)\n",
    "                            \n",
    "                        self._b[tag] -= learning_rate*(-dLdw)\n",
    "                    else:\n",
    "                        if sigma >= 0.9:\n",
    "                            tag_probabilities.append(1)\n",
    "                        else:\n",
    "                            tag_probabilities.append(0)\n",
    "                        tag_markings.append(y)\n",
    "                n += 1\n",
    "                if n >= top_n_train:\n",
    "                    self._jaccard_scores.append(jaccard_score(tag_markings, tag_probabilities))"
   ]
  },
  {
   "cell_type": "code",
   "execution_count": 18,
   "metadata": {},
   "outputs": [
    {
     "name": "stdout",
     "output_type": "stream",
     "text": [
      "Creating vocabulary\n",
      "Created vocabulary with 519290 length\n"
     ]
    }
   ],
   "source": [
    "model_elastic = LogRegressorElastic()"
   ]
  },
  {
   "cell_type": "code",
   "execution_count": 19,
   "metadata": {},
   "outputs": [
    {
     "data": {
      "application/vnd.jupyter.widget-view+json": {
       "model_id": "4ff557a5805141c7ae474d7836222ffe",
       "version_major": 2,
       "version_minor": 0
      },
      "text/plain": [
       "A Jupyter Widget"
      ]
     },
     "metadata": {},
     "output_type": "display_data"
    },
    {
     "name": "stdout",
     "output_type": "stream",
     "text": [
      "\n"
     ]
    }
   ],
   "source": [
    "model_elastic.iterate_file()"
   ]
  },
  {
   "cell_type": "code",
   "execution_count": 20,
   "metadata": {},
   "outputs": [
    {
     "data": {
      "text/plain": [
       "0.58977507566364018"
      ]
     },
     "execution_count": 20,
     "metadata": {},
     "output_type": "execute_result"
    }
   ],
   "source": [
    "np.mean(model_elastic._jaccard_scores)"
   ]
  },
  {
   "cell_type": "markdown",
   "metadata": {},
   "source": [
    "## 8. Самые важные"
   ]
  },
  {
   "cell_type": "code",
   "execution_count": 21,
   "metadata": {},
   "outputs": [
    {
     "name": "stdout",
     "output_type": "stream",
     "text": [
      "php ['php', 'x5c', '_post', 'echo', '125'] True\n",
      "c++ ['avrf', 'c++', 'std', 'cout', 'py'] True\n",
      "javascript ['javascript', 'x20', 'x5c', '125', '3'] True\n",
      "jquery ['jquery', 'try', 'ready', 'ajax', 'vendor'] True\n",
      "java ['dcm', 'dist', 'xsl', 'println', 'servlet'] False\n",
      "android ['android', 'yjavac', 'activity', 'art', 'imgsrv'] True\n",
      "python ['python', 'def', '3', 'lt', 'py'] True\n",
      "ios ['0x0000000000000000', 'ios', 'nsstring', 'mingw32', 'w64'] True\n",
      "html ['0x0000000000000000', '3', 'vendor', 'html', 'int'] True\n",
      "c# ['dist', 'dcm', 'dev', 'std', 'span'] False\n"
     ]
    }
   ],
   "source": [
    "p = dict(zip(model_elastic._vocab.values(),model_elastic._vocab.keys()))\n",
    "for tag in tag_dictionary:\n",
    "    her = [x[0] for x in sorted(model_elastic._w[tag].items(), key=lambda x: abs(x[-1]), reverse=True)[:5]]\n",
    "    print (tag,[p[x] for x in her], tag in [p[x] for x in her])"
   ]
  },
  {
   "cell_type": "markdown",
   "metadata": {},
   "source": [
    "## 9 и 10. Сокращение размера словаря, предсказание"
   ]
  },
  {
   "cell_type": "code",
   "execution_count": 22,
   "metadata": {
    "scrolled": true
   },
   "outputs": [
    {
     "name": "stdout",
     "output_type": "stream",
     "text": [
      "Filtering...\n",
      "Filtered to vocabulary with 10000 length\n"
     ]
    }
   ],
   "source": [
    "model_elastic.filter_vocab()"
   ]
  },
  {
   "cell_type": "code",
   "execution_count": 23,
   "metadata": {},
   "outputs": [
    {
     "data": {
      "application/vnd.jupyter.widget-view+json": {
       "model_id": "09ac9a2d86764011bc15da0a1e85365b",
       "version_major": 2,
       "version_minor": 0
      },
      "text/plain": [
       "A Jupyter Widget"
      ]
     },
     "metadata": {},
     "output_type": "display_data"
    },
    {
     "name": "stdout",
     "output_type": "stream",
     "text": [
      "\n"
     ]
    }
   ],
   "source": [
    "model_elastic.iterate_file(learning_rate = 0.01)"
   ]
  },
  {
   "cell_type": "code",
   "execution_count": 24,
   "metadata": {},
   "outputs": [
    {
     "name": "stderr",
     "output_type": "stream",
     "text": [
      "/home/uasa/anaconda3/lib/python3.6/site-packages/matplotlib/figure.py:403: UserWarning: matplotlib is currently using a non-GUI backend, so cannot show the figure\n",
      "  \"matplotlib is currently using a non-GUI backend, \"\n"
     ]
    },
    {
     "data": {
      "image/png": "[encoded data removed]",
      "text/plain": [
       "<matplotlib.figure.Figure at 0x7fbfec7fe940>"
      ]
     },
     "metadata": {},
     "output_type": "display_data"
    }
   ],
   "source": [
    "fig, ax =plt.subplots(1,2)\n",
    "plt.subplot(1, 2, 1)\n",
    "g = sns.distplot(model_elastic._jaccard_scores[:25001], bins=10, norm_hist=True)\n",
    "g.set(xlim=(0.0, 1.0), ylim=(0.0,7.0))\n",
    "\n",
    "plt.subplot(1, 2, 2)\n",
    "g = sns.distplot(model_elastic._jaccard_scores[25001:], bins=10, norm_hist=True)\n",
    "g.set(xlim=(0.0, 1.0), ylim=(0.0,7.0))\n",
    "fig.show()"
   ]
  },
  {
   "cell_type": "code",
   "execution_count": 25,
   "metadata": {},
   "outputs": [
    {
     "data": {
      "text/plain": [
       "0.69196898790715033"
      ]
     },
     "execution_count": 25,
     "metadata": {},
     "output_type": "execute_result"
    }
   ],
   "source": [
    "np.mean(model_elastic._jaccard_scores[25001:])"
   ]
  },
  {
   "cell_type": "code",
   "execution_count": 26,
   "metadata": {},
   "outputs": [
    {
     "name": "stdout",
     "output_type": "stream",
     "text": [
      "php 7.60425378221e-09 -18.69455801194669\n",
      "c++ 1.32330384428e-08 -18.14054920042563\n",
      "javascript 1.065362909e-09 -20.659950262171268\n",
      "jquery 0.0 -55.97214627608959\n",
      "java 0.999999888747 16.011457101702465\n",
      "android 1.07913677994e-13 -29.856905596034807\n",
      "python 1.78196844062e-05 -10.935189026328338\n",
      "ios 7.5005912592e-10 -21.01086907274015\n",
      "html 1.11022302463e-15 -34.462827248114664\n",
      "c# 0.202139419959 -1.3729762133170726\n"
     ]
    },
    {
     "data": {
      "text/plain": [
       "['java']"
      ]
     },
     "execution_count": 26,
     "metadata": {},
     "output_type": "execute_result"
    }
   ],
   "source": [
    "sentence = (\"I want to improve my coding skills, so I have planned write \" +\n",
    "            \"a Mobile Application.need to choose between Apple's iOS or Google's Android.\" +\n",
    "            \" my background: I have done basic programming in .Net,C/C++,Python and PHP \" +\n",
    "            \"in college, so got OOP concepts covered. about my skill level, I just know \" +\n",
    "            \"concepts and basic syntax. But can't write complex applications, if asked :(\" +\n",
    "            \" So decided to hone my skills, And I wanted to know which is easier to \" +\n",
    "            \"learn for a programming n00b. A) iOS which uses Objective C B) Android \" + \n",
    "            \"which uses Java. I want to decide based on difficulty level\")\n",
    "\n",
    "\n",
    "model_elastic.predict_proba(sentence)"
   ]
  },
  {
   "cell_type": "code",
   "execution_count": 27,
   "metadata": {},
   "outputs": [
    {
     "name": "stdout",
     "output_type": "stream",
     "text": [
      "php 0.0 -60.139178494957484\n",
      "c++ 0.0 -50.90536548812848\n",
      "javascript 0.0 -142.67339487124627\n",
      "jquery 0.0 -187.33545124390395\n",
      "java 0.0 -64.15126652452977\n",
      "android 0.0152695317593 -4.166508512755831\n",
      "python 0.0 -49.83100794509204\n",
      "ios 1.84370339151e-06 -13.203732452650675\n",
      "html 0.0 -100.08508896438167\n",
      "c# 0.0 -130.9977248229042\n"
     ]
    },
    {
     "data": {
      "text/plain": [
       "[]"
      ]
     },
     "execution_count": 27,
     "metadata": {},
     "output_type": "execute_result"
    }
   ],
   "source": [
    "sentence = (\"I want to improve my coding skills so I have planned write \" +\n",
    "            \"a Mobile Application need to choose between Apple iOS or Google Android \" +\n",
    "            \"my background I have done basic programming in .Net C C++ Python and PHP \" +\n",
    "            \"in college so got OOP concepts covered about my skill level, I just know \" +\n",
    "            \"concepts and basic syntax But can't write complex applications, if asked \" +\n",
    "            \"So decided to hone my skills And I wanted to know which is easier to \" +\n",
    "            \"learn for a programming n00b. A iOS which uses Objective C B Android \" + \n",
    "            \"which uses Java I want to decide based on difficulty level\").lower()\n",
    "\n",
    "\n",
    "model_elastic.predict_proba(sentence)"
   ]
  },
  {
   "cell_type": "code",
   "execution_count": 41,
   "metadata": {},
   "outputs": [
    {
     "name": "stdout",
     "output_type": "stream",
     "text": [
      "php 0.998348842789 6.4046263752394434\n",
      "c++ 0.0 -51.09158555235788\n",
      "javascript 0.0 -61.53252330734821\n",
      "jquery 0.0 -109.58822739872413\n",
      "java 0.0 -44.35474841905275\n",
      "android 5.12923037377e-12 -25.99608353143513\n",
      "python 0.0 -72.60531670655033\n",
      "ios 0.999999999997 26.709560039785092\n",
      "html 0.0 -56.29332986750149\n",
      "c# 0.0 -63.06861820911298\n"
     ]
    },
    {
     "data": {
      "text/plain": [
       "['php', 'ios']"
      ]
     },
     "execution_count": 41,
     "metadata": {},
     "output_type": "execute_result"
    }
   ],
   "source": [
    "sentence = (\"I want to improve my coding skills, so I have planned write \" +\n",
    "            \"a Mobile Application.need to choose between Apple's iOS or Google's Android.\" +\n",
    "            \" my background: I have done basic programming in .Net,C/C++,Python and PHP \" +\n",
    "            \"in college, so got OOP concepts covered. about my skill level, I just know \" +\n",
    "            \"concepts and basic syntax. But can't write complex applications, if asked :(\" +\n",
    "            \" So decided to hone my skills, And I wanted to know which is easier to \" +\n",
    "            \"learn for a programming n00b. A) iOS which uses Objective C B) Android \" + \n",
    "            \"which uses Java. I want to decide based on difficulty level\").lower()\n",
    "\n",
    "model_elastic.predict_proba(sentence)"
   ]
  },
  {
   "cell_type": "markdown",
   "metadata": {},
   "source": [
    "## ИТОГ"
   ]
  },
  {
   "cell_type": "code",
   "execution_count": 28,
   "metadata": {
    "collapsed": true
   },
   "outputs": [],
   "source": [
    "import matplotlib.lines as lines\n",
    "def add_line(ax, model, n_from=0, n_to=25000):\n",
    "    pr = np.mean(model._jaccard_scores[n_from:n_to])*10.0\n",
    "    line = [(0,pr), (1,pr)]\n",
    "    (line_xs,line_ys) = zip(*line)\n",
    "    ax.add_line(lines.Line2D(line_xs,line_ys, color='red', linewidth=2)) "
   ]
  },
  {
   "cell_type": "code",
   "execution_count": 29,
   "metadata": {
    "scrolled": false
   },
   "outputs": [
    {
     "name": "stderr",
     "output_type": "stream",
     "text": [
      "/home/uasa/anaconda3/lib/python3.6/site-packages/matplotlib/figure.py:403: UserWarning: matplotlib is currently using a non-GUI backend, so cannot show the figure\n",
      "  \"matplotlib is currently using a non-GUI backend, \"\n"
     ]
    },
    {
     "data": {
      "image/png": "[encoded data removed]",
      "text/plain": [
       "<matplotlib.figure.Figure at 0x7fbff90189e8>"
      ]
     },
     "metadata": {},
     "output_type": "display_data"
    }
   ],
   "source": [
    "fig, ax = plt.subplots(nrows=2,ncols=2)\n",
    "for x in range(2):\n",
    "    for y in range(2):\n",
    "        ax[x][y].set_ylim(0,8)\n",
    "        ax[x][y].set_xlim(0,1)\n",
    "        ax[x][y].grid(True)\n",
    "\n",
    "sns.distplot(model_simple._jaccard_scores, bins=10, norm_hist=False, ax=ax[0][0]).set_title('simple')\n",
    "add_line(ax[0][0], model_simple)\n",
    "\n",
    "sns.distplot(model_L2._jaccard_scores, bins=10, norm_hist=False, ax=ax[0][1]).set_title('L2')\n",
    "add_line(ax[0][1], model_L2)\n",
    "\n",
    "sns.distplot(model_elastic._jaccard_scores[:25001], bins=10, norm_hist=False, ax=ax[1][0]).set_title('L2+L1')\n",
    "add_line(ax[1][0], model_elastic, n_to=25001)\n",
    "\n",
    "sns.distplot(model_elastic._jaccard_scores[25001:], bins=10, norm_hist=False, ax=ax[1][1]).set_title('filtered')\n",
    "add_line(ax[1][1], model_elastic, n_from=25001, n_to=50002)\n",
    "\n",
    "fig.show()"
   ]
  },
  {
   "cell_type": "code",
   "execution_count": null,
   "metadata": {
    "collapsed": true
   },
   "outputs": [],
   "source": []
  },
  {
   "cell_type": "markdown",
   "metadata": {},
   "source": [
    "..."
   ]
  },
  {
   "cell_type": "markdown",
   "metadata": {
    "collapsed": true
   },
   "source": [
    "# ПАДАЖЖИТЕ ПАДАЖЖИТЕ"
   ]
  },
  {
   "cell_type": "markdown",
   "metadata": {},
   "source": [
    "Всё, что было выше, на самом деле неправильно. Надо так:"
   ]
  },
  {
   "cell_type": "markdown",
   "metadata": {},
   "source": [
    "Во-первых, скорость обучения идёт на обе части. Это правильно, но неправильная версия даёт более убедительный ответ в 10 вопросе. (исходное предложение надо перевести в нижний регистр, НЕ УДАЛЯЯ ЗНАКОВ ПРЕПИНАНИЯ)\n",
    "$$ CostFunction = {LearningRate}(-\\frac{d1}{dw} + \\frac{d2}{dw})$$\n",
    "Кроме этого, в коде словарь создаётся заранее, часть cost-функции вычисляется вне цикла, numpy заменен на math, убрано бесполезное вычисление семпл-потери."
   ]
  },
  {
   "cell_type": "markdown",
   "metadata": {},
   "source": [
    "(На кой черт сортировать свой словарь ещё и по тесту?)\n",
    "\n",
    "Во-вторых, само обновление неправильное. Неправильная версия:\n",
    "$$w_{1} = w_{0}+LearningRate*({L}-Reg(w_{0}))$$\n",
    "$$w_{2} = w_{1}+LearningRate*({L}-Reg(w_{1}))...$$\n",
    "\n",
    "Правильная версия:\n",
    "$$w_{1} = w_{0}+LearningRate*(Occurence*{L}-Reg(w_{0}))$$"
   ]
  },
  {
   "cell_type": "markdown",
   "metadata": {},
   "source": [
    "Допустим, $Reg(a) = a/4; LearningRate = 1/2; w_{0} = 4; L = 2$.\n",
    "Тогда"
   ]
  },
  {
   "cell_type": "markdown",
   "metadata": {},
   "source": [
    "Расчет для неправильной версии для слова, вошедшего 3 раза в предложение:\n",
    "$$w_{1} = 4 + \\frac{1}{2}*(2-1) = 4.5$$\n",
    "$$w_{2} = 4.5 + \\frac{1}{2}*(2-1.125) = 4.9375$$\n",
    "$$w_{3} = 4.9375 + \\frac{1}{2}*(2-1.234375) = 5.3203125$$"
   ]
  },
  {
   "cell_type": "markdown",
   "metadata": {},
   "source": [
    "Расчет для правильной версии того же слова:\n",
    "$$w_{3} = 4 + \\frac{1}{2}*(3*2-1) = 6.5$$"
   ]
  },
  {
   "cell_type": "markdown",
   "metadata": {},
   "source": [
    "Такая штука должна быть быстрей и точней."
   ]
  },
  {
   "cell_type": "code",
   "execution_count": 30,
   "metadata": {
    "collapsed": true
   },
   "outputs": [],
   "source": [
    "class LogRegressorMadeRight():\n",
    "    \n",
    "    def __init__(self, tags=top_tags):      \n",
    "        self._vocab = {}\n",
    "        self._w = dict([(t, defaultdict(int)) for t in tags])\n",
    "        self._b = dict([(t, 0) for t in tags])\n",
    "        self._tags = set(tags)\n",
    "        self._jaccard_scores=[]\n",
    "        self.create_vocab()\n",
    "        \n",
    "    \n",
    "    def make_vocab_word_list(self, fname=DS_FILE_NAME, total=100000, remaining=10000):\n",
    "        hist_dict = {}\n",
    "        k=0\n",
    "        with open(fname, 'r') as f:            \n",
    "            for line in f:\n",
    "                if k>=total:\n",
    "                    break\n",
    "                pair = line.strip().split('\\t')\n",
    "                if len(pair) != 2:\n",
    "                    continue\n",
    "                text = pair[0].split(' ')\n",
    "                for word in text:\n",
    "                    if word in hist_dict:\n",
    "                        hist_dict[word]+=1\n",
    "                    else:\n",
    "                        hist_dict[word]=0\n",
    "                k+=1\n",
    "        if remaining>0 :\n",
    "            sorted_hist = sorted(hist_dict.items(), key=lambda x: x[-1], reverse=True)[:remaining]\n",
    "            return [sorted_hist[x][0] for x in range(len(sorted_hist))]\n",
    "        else:\n",
    "            return [x for x in hist_dict]\n",
    "        \n",
    "    def create_vocab(self, n=0):\n",
    "        print('Creating vocabulary')\n",
    "        word_list = self.make_vocab_word_list(remaining=n)\n",
    "        self._vocab = {word_list[x]:x for x in range(len(word_list))}\n",
    "        print('Created vocabulary with {} length'.format(len(self._vocab)))\n",
    "    \n",
    "    def filter_vocab(self,n=10000):\n",
    "        print('Filtering...')\n",
    "        word_list = self.make_vocab_word_list(remaining=n)\n",
    "        self._vocab = {a:self._vocab[a] for a in word_list if a in self._vocab}\n",
    "        print('Filtered to vocabulary with {} length'.format(len(self._vocab)))\n",
    "    \n",
    "    def sign(self,a):\n",
    "        if a<0:\n",
    "            return -1\n",
    "        if a==0:\n",
    "            return 0\n",
    "        if a>0:\n",
    "            return 1\n",
    "    \n",
    "    def predict_proba(self, sentence):\n",
    "        word_list = sentence.split(' ')\n",
    "        tag_list = []\n",
    "        for tag in self._tags:\n",
    "            z = self._b[tag]\n",
    "            \n",
    "            for word in word_list:\n",
    "                if word not in self._vocab:\n",
    "                    continue\n",
    "                z += self._w[tag][self._vocab[word]] \n",
    "            \n",
    "            sigma = 1/(1 + np.exp(-z)) if z >= 0 else 1 - 1/(1 + np.exp(z))\n",
    "            print(tag, sigma,z)\n",
    "            if sigma>=0.9:\n",
    "                tag_list.append(tag)\n",
    "        return tag_list\n",
    "    \n",
    "    def iterate_file(self, \n",
    "                     fname=DS_FILE_NAME, \n",
    "                     top_n_train=100000, \n",
    "                     total=125000,\n",
    "                     learning_rate=0.1,\n",
    "                     tolerance=1e-16,\n",
    "                     our_lambda=0.0002,\n",
    "                     our_gamma=0.1):\n",
    "        self._loss = []\n",
    "        n = 0\n",
    "        lambd2gamm = our_lambda*2*our_gamma\n",
    "        rev_gamm = our_lambda*(1-our_gamma)\n",
    "        with open(fname, 'r') as f:            \n",
    "            for line in tqdm_notebook(f, total=total, mininterval=1):\n",
    "                pair = line.strip().split('\\t')\n",
    "                if len(pair) != 2:\n",
    "                    continue                \n",
    "                sentence, tags = pair\n",
    "                sentence = sentence.split(' ')\n",
    "                tags = set(tags.split(' '))\n",
    "                sample_loss = 0\n",
    "                tag_probabilities = []\n",
    "                tag_markings = []\n",
    "                \n",
    "                valued_words = Counter([word for word in sentence if word in self._vocab])\n",
    "\n",
    "                for tag in self._tags:\n",
    "                    y = int(tag in tags)\n",
    "                    z = self._b[tag] \n",
    "                    \n",
    "                    for word in valued_words:      \n",
    "                        z += self._w[tag][self._vocab[word]] \n",
    "                        \n",
    "                    sigma = 1/(1 + math.exp(-z)) if z >= 0 else 1 - 1/(1 + math.exp(z))\n",
    "                       \n",
    "                    dLdw = y-sigma   \n",
    "                    if n < top_n_train:\n",
    "                        for word,occurence in valued_words.items():\n",
    "                            a = self._w[tag][self._vocab[word]]\n",
    "                            dEldw = lambd2gamm*a + rev_gamm*self.sign(a)\n",
    "                            self._w[tag][self._vocab[word]] -= learning_rate*(occurence*(-dLdw)+dEldw)\n",
    "                            \n",
    "                        self._b[tag] -= learning_rate*(-dLdw)\n",
    "                    else:\n",
    "                        if sigma >= 0.9:\n",
    "                            tag_probabilities.append(1)\n",
    "                        else:\n",
    "                            tag_probabilities.append(0)\n",
    "                        tag_markings.append(y)\n",
    "                n += 1\n",
    "                if n >= top_n_train:\n",
    "                    self._jaccard_scores.append(jaccard_score(tag_markings, tag_probabilities))"
   ]
  },
  {
   "cell_type": "code",
   "execution_count": 31,
   "metadata": {},
   "outputs": [
    {
     "name": "stdout",
     "output_type": "stream",
     "text": [
      "Creating vocabulary\n",
      "Created vocabulary with 519290 length\n"
     ]
    }
   ],
   "source": [
    "model_cool = LogRegressorMadeRight()"
   ]
  },
  {
   "cell_type": "code",
   "execution_count": 32,
   "metadata": {},
   "outputs": [
    {
     "data": {
      "application/vnd.jupyter.widget-view+json": {
       "model_id": "29ebed5b5a19428995deb85750d5c5ad",
       "version_major": 2,
       "version_minor": 0
      },
      "text/plain": [
       "A Jupyter Widget"
      ]
     },
     "metadata": {},
     "output_type": "display_data"
    },
    {
     "name": "stdout",
     "output_type": "stream",
     "text": [
      "\n"
     ]
    }
   ],
   "source": [
    "model_cool.iterate_file()"
   ]
  },
  {
   "cell_type": "code",
   "execution_count": 33,
   "metadata": {},
   "outputs": [
    {
     "data": {
      "text/plain": [
       "0.66767395970827836"
      ]
     },
     "execution_count": 33,
     "metadata": {},
     "output_type": "execute_result"
    }
   ],
   "source": [
    "np.mean(model_cool._jaccard_scores)"
   ]
  },
  {
   "cell_type": "code",
   "execution_count": 34,
   "metadata": {},
   "outputs": [
    {
     "name": "stdout",
     "output_type": "stream",
     "text": [
      "php ['php', 'lt', 'x5c', 'gt', 'vendor'] True\n",
      "c++ ['0x0000000000000000', 'c++', 'avrf', '_defaultimage', 'boost'] True\n",
      "javascript ['x5c', 'javascript', 'js', 'vendor', 'gt'] True\n",
      "jquery ['jquery', 'android', 'li', 'dial_code', 'td'] True\n",
      "java ['java', '29691', 'w', 'self', 'quot'] True\n",
      "android ['avrf', 'android', 'trace', 'quot', 'activity'] True\n",
      "python ['0x0000000000000000', 'python', 'android', 'py', 'django'] True\n",
      "ios ['ios', 'imgsrv', '29297', '0x0', '08'] True\n",
      "html ['gt', 'x5c', '3', 'lt', 'html'] True\n",
      "c# ['dial_code', 'php', 'std', 'println', 'java'] False\n"
     ]
    }
   ],
   "source": [
    "p = dict(zip(model_cool._vocab.values(),model_cool._vocab.keys()))\n",
    "for tag in tag_dictionary:\n",
    "    her = [x[0] for x in sorted(model_cool._w[tag].items(), key=lambda x: abs(x[-1]), reverse=True)[:5]]\n",
    "    print (tag,[p[x] for x in her], tag in [p[x] for x in her])"
   ]
  },
  {
   "cell_type": "code",
   "execution_count": 35,
   "metadata": {},
   "outputs": [
    {
     "name": "stdout",
     "output_type": "stream",
     "text": [
      "Filtering...\n",
      "Filtered to vocabulary with 10000 length\n"
     ]
    }
   ],
   "source": [
    "model_cool.filter_vocab()"
   ]
  },
  {
   "cell_type": "code",
   "execution_count": 36,
   "metadata": {},
   "outputs": [
    {
     "data": {
      "application/vnd.jupyter.widget-view+json": {
       "model_id": "57b7e0ef6ca64dbf9303a44bb4b4f947",
       "version_major": 2,
       "version_minor": 0
      },
      "text/plain": [
       "A Jupyter Widget"
      ]
     },
     "metadata": {},
     "output_type": "display_data"
    },
    {
     "name": "stdout",
     "output_type": "stream",
     "text": [
      "\n"
     ]
    }
   ],
   "source": [
    "model_cool.iterate_file(learning_rate=0.01)"
   ]
  },
  {
   "cell_type": "code",
   "execution_count": 37,
   "metadata": {},
   "outputs": [
    {
     "data": {
      "text/plain": [
       "0.70353185872565116"
      ]
     },
     "execution_count": 37,
     "metadata": {},
     "output_type": "execute_result"
    }
   ],
   "source": [
    "np.mean(model_cool._jaccard_scores[25001:])"
   ]
  },
  {
   "cell_type": "code",
   "execution_count": 38,
   "metadata": {},
   "outputs": [
    {
     "name": "stderr",
     "output_type": "stream",
     "text": [
      "/home/uasa/anaconda3/lib/python3.6/site-packages/matplotlib/figure.py:403: UserWarning: matplotlib is currently using a non-GUI backend, so cannot show the figure\n",
      "  \"matplotlib is currently using a non-GUI backend, \"\n"
     ]
    },
    {
     "data": {
      "image/png": "[encoded data removed]",
      "text/plain": [
       "<matplotlib.figure.Figure at 0x7fbff8777dd8>"
      ]
     },
     "metadata": {},
     "output_type": "display_data"
    }
   ],
   "source": [
    "fig, ax = plt.subplots(nrows=2,ncols=2)\n",
    "for x in range(2):\n",
    "    for y in range(2):\n",
    "        ax[x][y].set_ylim(0,8)\n",
    "        ax[x][y].set_xlim(0,1)\n",
    "        ax[x][y].grid(True)\n",
    "\n",
    "sns.distplot(model_elastic._jaccard_scores[:25001], bins=10, norm_hist=False, ax=ax[0][0]).set_title('L2+L1')\n",
    "add_line(ax[0][0], model_elastic, n_to=25001)\n",
    "\n",
    "sns.distplot(model_elastic._jaccard_scores[25001:], bins=10, norm_hist=False, ax=ax[0][1]).set_title('filtered')\n",
    "add_line(ax[0][1], model_elastic, n_from=25001, n_to=50002)\n",
    "\n",
    "sns.distplot(model_cool._jaccard_scores[:25001], bins=10, norm_hist=False, ax=ax[1][0]).set_title('proper L2+L1')\n",
    "add_line(ax[1][0], model_cool, n_to=25001)\n",
    "\n",
    "sns.distplot(model_cool._jaccard_scores[25001:], bins=10, norm_hist=False, ax=ax[1][1]).set_title('proper filtered')\n",
    "add_line(ax[1][1], model_cool, n_from=25001, n_to=50002)\n",
    "\n",
    "fig.show()"
   ]
  },
  {
   "cell_type": "code",
   "execution_count": 42,
   "metadata": {},
   "outputs": [
    {
     "name": "stdout",
     "output_type": "stream",
     "text": [
      "php 0.000460925424949 -7.681813264375416\n",
      "c++ 6.42886144964e-06 -11.954706674989989\n",
      "javascript 1.0 65.27745789015844\n",
      "jquery 0.0 -147.81646967352447\n",
      "java 0.0 -48.45102714974186\n",
      "android 0.999999999999 28.16614564322198\n",
      "python 2.4248818516e-05 -10.627118413646485\n",
      "ios 1.0 60.36763249058385\n",
      "html 1.81188397619e-13 -29.339389343542738\n",
      "c# 0.0 -66.08889011202976\n"
     ]
    },
    {
     "data": {
      "text/plain": [
       "['javascript', 'android', 'ios']"
      ]
     },
     "execution_count": 42,
     "metadata": {},
     "output_type": "execute_result"
    }
   ],
   "source": [
    "sentence = (\"I want to improve my coding skills, so I have planned write \" +\n",
    "            \"a Mobile Application.need to choose between Apple's iOS or Google's Android.\" +\n",
    "            \" my background: I have done basic programming in .Net,C/C++,Python and PHP \" +\n",
    "            \"in college, so got OOP concepts covered. about my skill level, I just know \" +\n",
    "            \"concepts and basic syntax. But can't write complex applications, if asked :(\" +\n",
    "            \" So decided to hone my skills, And I wanted to know which is easier to \" +\n",
    "            \"learn for a programming n00b. A) iOS which uses Objective C B) Android \" + \n",
    "            \"which uses Java. I want to decide based on difficulty level\").lower()\n",
    "\n",
    "model_cool.predict_proba(sentence)"
   ]
  },
  {
   "cell_type": "code",
   "execution_count": 43,
   "metadata": {},
   "outputs": [
    {
     "name": "stdout",
     "output_type": "stream",
     "text": [
      "php 0.0 -131.6595229737943\n",
      "c++ 1.62669877568e-12 -27.144510107352986\n",
      "javascript 0.221456302174 -1.257199831857724\n",
      "jquery 0.0 -213.01732275379524\n",
      "java 0.0 -58.94980428920428\n",
      "android 1.0 58.72734816100143\n",
      "python 1.39221967288e-13 -29.60231106558105\n",
      "ios 1.0 32.27065480532765\n",
      "html 0.0 -64.35881435560412\n",
      "c# 0.0 -124.79561595473658\n"
     ]
    },
    {
     "data": {
      "text/plain": [
       "['android', 'ios']"
      ]
     },
     "execution_count": 43,
     "metadata": {},
     "output_type": "execute_result"
    }
   ],
   "source": [
    "sentence = (\"I want to improve my coding skills so I have planned write \" +\n",
    "            \"a Mobile Application need to choose between Apple iOS or Google Android \" +\n",
    "            \"my background I have done basic programming in .Net C C++ Python and PHP \" +\n",
    "            \"in college so got OOP concepts covered about my skill level, I just know \" +\n",
    "            \"concepts and basic syntax But can't write complex applications, if asked \" +\n",
    "            \"So decided to hone my skills And I wanted to know which is easier to \" +\n",
    "            \"learn for a programming n00b. A iOS which uses Objective C B Android \" + \n",
    "            \"which uses Java I want to decide based on difficulty level\").lower()\n",
    "\n",
    "\n",
    "model_cool.predict_proba(sentence)"
   ]
  },
  {
   "cell_type": "markdown",
   "metadata": {
    "collapsed": true
   },
   "source": [
    "Вышло 0.7 точности и правильные теги - круто."
   ]
  }
 ],
 "metadata": {
  "kernelspec": {
   "display_name": "Python 3",
   "language": "python",
   "name": "python3"
  },
  "language_info": {
   "codemirror_mode": {
    "name": "ipython",
    "version": 3
   },
   "file_extension": ".py",
   "mimetype": "text/x-python",
   "name": "python",
   "nbconvert_exporter": "python",
   "pygments_lexer": "ipython3",
   "version": "3.6.2"
  }
 },
 "nbformat": 4,
 "nbformat_minor": 2
}
